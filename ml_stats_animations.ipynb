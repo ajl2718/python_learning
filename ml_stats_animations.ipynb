{
 "cells": [
  {
   "cell_type": "markdown",
   "id": "e326c6f0-c069-430e-ade1-5215e423b12a",
   "metadata": {},
   "source": [
    "# Animations to illustrate stats concepts\n",
    "\n",
    "16 09 24\n",
    "\n",
    "Notebook for creating animations to illustrate some concepts in machine learning and statistics, including:\n",
    "\n",
    "- Bias\n",
    "- Variance\n",
    "- Overfitting\n",
    "- Underfitting\n",
    "- Multivariable regression\n",
    "\n",
    "Ideas to get across:\n",
    "- When the true distribution of the data is non-linear, a linear model will fit poorly but without much variation between different sets of samples, i.e., it is underfitting (high bias, low variance)\n",
    "- Model that is overly complex will fit the specific sample well, but this model will vary a lot between different sets of samples, i.e., it is overfitting (low bias, high variance)\n",
    "\n",
    "Questions\n",
    "- How to relate back to the clinical question?"
   ]
  },
  {
   "cell_type": "code",
   "execution_count": 1,
   "id": "747d77ab-9f9d-4831-9bad-86911255b058",
   "metadata": {},
   "outputs": [],
   "source": [
    "import warnings\n",
    "warnings.filterwarnings('ignore')\n",
    "\n",
    "import pandas as pd\n",
    "import numpy as np\n",
    "\n",
    "import matplotlib.pyplot as plt\n",
    "from matplotlib.animation import FuncAnimation\n",
    "from IPython.display import HTML\n",
    "import seaborn as sns\n",
    "\n",
    "from sklearn.linear_model import LinearRegression\n",
    "from sklearn.preprocessing import PolynomialFeatures"
   ]
  },
  {
   "cell_type": "code",
   "execution_count": 2,
   "id": "7e6e34ae-049c-4555-9545-0128bb586543",
   "metadata": {},
   "outputs": [],
   "source": [
    "sns.set_style('white')"
   ]
  },
  {
   "cell_type": "markdown",
   "id": "537f60f4-3abf-4115-9ac4-cbc71fa8bf33",
   "metadata": {},
   "source": [
    "## Create some data\n",
    "\n",
    "Polynomials of various degree"
   ]
  },
  {
   "cell_type": "code",
   "execution_count": 3,
   "id": "20712abc-2492-42d2-9342-ef825e54a22a",
   "metadata": {},
   "outputs": [],
   "source": [
    "# amplitude of noise\n",
    "sigma = 2\n",
    "\n",
    "# x values in the sample\n",
    "x = np.arange(0, 10, 0.5).reshape(-1, 1)\n",
    "\n",
    "# fine-grained x values to produce smoother predictions\n",
    "x_fine = np.arange(0, 10, 0.01).reshape(-1, 1)\n",
    "\n",
    "# 2nd degree polynomial\n",
    "poly = PolynomialFeatures(2)\n",
    "x_p2 = poly.fit_transform(x)\n",
    "x_finep2 = poly.fit_transform(x_fine)\n",
    "\n",
    "# 5th degree polynomial\n",
    "poly = PolynomialFeatures(5)\n",
    "x_p5 = poly.fit_transform(x)\n",
    "x_finep5 = poly.fit_transform(x_fine)\n",
    "\n",
    "# 10th degree polynomial\n",
    "poly = PolynomialFeatures(10)\n",
    "x_p10 = poly.fit_transform(x)\n",
    "x_finep10 = poly.fit_transform(x_fine)\n",
    "\n",
    "# 20th degree polynomial\n",
    "poly = PolynomialFeatures(20)\n",
    "x_p20 = poly.fit_transform(x)\n",
    "x_finep20 = poly.fit_transform(x_fine)"
   ]
  },
  {
   "cell_type": "markdown",
   "id": "1e655959-bc0b-4c06-9dc8-c99c7eacf502",
   "metadata": {},
   "source": [
    "## Fit models"
   ]
  },
  {
   "cell_type": "markdown",
   "id": "a8efd538-701a-4f41-9ba3-957442b0bdd1",
   "metadata": {},
   "source": [
    "### Linear model"
   ]
  },
  {
   "cell_type": "code",
   "execution_count": 4,
   "id": "a758b004-6278-4bb0-9913-37dce7cbef77",
   "metadata": {},
   "outputs": [],
   "source": [
    "# how many times do we sample?\n",
    "num_repeats = 128\n",
    "\n",
    "# r^2 values\n",
    "r2_vals = []\n",
    "\n",
    "# linear model\n",
    "reg = LinearRegression()\n",
    "\n",
    "# dataframe for storing x values and later the y measurements and predictions\n",
    "df = pd.DataFrame(data={'x': x[:, 0]})\n",
    "\n",
    "# dataframe for storing the fine-grained x values and the smoother predictions\n",
    "df_fine = pd.DataFrame(data={'x': x_fine[:, 0]})\n",
    "\n",
    "y_true = x_fine * (10 - x_fine)\n",
    "df_fine['y_true'] = y_true\n",
    "\n",
    "# generate the data and fit the models\n",
    "for n in range(0, num_repeats):\n",
    "    # noise\n",
    "    e = np.random.randn(*x.shape)*sigma\n",
    "\n",
    "    # observed data\n",
    "    y = x * (10 - x) + e\n",
    "\n",
    "    # store the measurements in the dataframe\n",
    "    df[f'y_{n}'] = y\n",
    "\n",
    "    # fit linear regression then make predictions\n",
    "    reg.fit(x, y)\n",
    "\n",
    "    # r^2 value for the given model fit\n",
    "    r2_vals.append(reg.score(x, y))\n",
    "\n",
    "    # predictions on the fine-grained x values\n",
    "    y_preds = reg.predict(x_fine)\n",
    "\n",
    "    # store in the fine-grained x dataframe\n",
    "    df_fine[f'y_{n}'] = y_preds[:, 0]\n",
    "\n",
    "# make a tidy dataframe\n",
    "df_tidy = pd.melt(df, id_vars=['x'])\n",
    "df_fine_tidy = pd.melt(df_fine, id_vars=['x'])"
   ]
  },
  {
   "cell_type": "markdown",
   "id": "d1ebfcc9-9981-40b0-a273-122fda0bc81e",
   "metadata": {},
   "source": [
    "## Animations and static images"
   ]
  },
  {
   "cell_type": "markdown",
   "id": "1e77c0e5-270d-4958-91f9-20282ede99e7",
   "metadata": {},
   "source": [
    "### Illustrating a model with high bias and low variance"
   ]
  },
  {
   "cell_type": "code",
   "execution_count": 5,
   "id": "d159400c-a186-4637-8c32-01e841ff5ac7",
   "metadata": {},
   "outputs": [],
   "source": [
    "palette = sns.color_palette('colorblind')"
   ]
  },
  {
   "cell_type": "code",
   "execution_count": null,
   "id": "c977f63e-eef1-4d56-bedd-6ddb81dac1fe",
   "metadata": {},
   "outputs": [],
   "source": [
    "# static plots\n",
    "%matplotlib inline \n",
    "\n",
    "plt.figure(figsize=(6, 4))\n",
    "for n in range(num_repeats):\n",
    "    sns.lineplot(data=df_fine_tidy.query(f'variable == \"y_{n}\"'), x='x', y='value', color=palette[0], alpha=0.03) \n",
    "sns.lineplot(data=df_fine_tidy.groupby(['x'], as_index=False).value.mean(), x='x', y='value', color=palette[0])\n",
    "sns.scatterplot(data=df_tidy.query('variable == \"y_0\"'), x='x', y='value', color=palette[3])\n",
    "sns.lineplot(data=df_fine_tidy.query('variable == \"y_0\"'), x='x', y='value', color=palette[3])\n",
    "sns.lineplot(data=df_fine_tidy.query('variable == \"y_true\"'), x='x', y='value', color='black')\n",
    "plt.xlabel('x')\n",
    "plt.ylabel('y')\n",
    "plt.xlim(0, 10)\n",
    "plt.ylim(0, 30)\n",
    "plt.title('Linear model')\n",
    "plt.show()"
   ]
  },
  {
   "cell_type": "code",
   "execution_count": 705,
   "id": "68d66a4a-c32a-4761-b640-a78a51199e3a",
   "metadata": {},
   "outputs": [
    {
     "data": {
      "application/vnd.jupyter.widget-view+json": {
       "model_id": "",
       "version_major": 2,
       "version_minor": 0
      },
      "image/png": "[encoded data removed]",
      "text/html": [
       "\n",
       "            <div style=\"display: inline-block;\">\n",
       "                <div class=\"jupyter-widgets widget-label\" style=\"text-align: center;\">\n",
       "                    Figure\n",
       "                </div>\n",
       "                <img src='data:image/png;base64,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' width=640.0/>\n",
       "            </div>\n",
       "        "
      ],
      "text/plain": [
       "Canvas(toolbar=Toolbar(toolitems=[('Home', 'Reset original view', 'home', 'home'), ('Back', 'Back to previous …"
      ]
     },
     "metadata": {},
     "output_type": "display_data"
    }
   ],
   "source": [
    "# animation\n",
    "%matplotlib widget \n",
    "\n",
    "sns.set_style('white')\n",
    "def create_frame(step, ax):\n",
    "    ax.cla()  # Clear the axes for each frame\n",
    "    ax.set_xlim(0, 10)\n",
    "    ax.set_ylim(0, 30)\n",
    "\n",
    "    # plot all the model fits\n",
    "    for n in range(num_repeats):\n",
    "        sns.lineplot(data=df_fine_tidy.query(f'variable == \"y_{n}\"'), x='x', y='value', color=palette[0], alpha=0.03) \n",
    "\n",
    "    # plot the average model over all the fits\n",
    "    sns.lineplot(data=df_fine_tidy.groupby(['x'], as_index=False).value.mean(), x='x', y='value', color=palette[0])\n",
    "\n",
    "    # the best fit for the given sample\n",
    "    sns.lineplot(data=df_fine_tidy.query(f'variable == \"y_{step}\"'), x='x', y='value', color=palette[3])\n",
    "\n",
    "    # scatterplot for the given sample\n",
    "    sns.scatterplot(data=df_tidy.query(f'variable == \"y_{step}\"'), x='x', y='value', color=palette[3])\n",
    "\n",
    "    # true model\n",
    "    sns.lineplot(data=df_fine_tidy.query('variable == \"y_true\"'), x='x', y='value', color='black')\n",
    "\n",
    "    # Set labels (but not for every frame)\n",
    "    ax.set_ylabel('y')\n",
    "    ax.set_xlabel('x')\n",
    "    ax.set_title('Linear model')\n",
    "\n",
    "# Initialize the figure and axis\n",
    "fig, ax = plt.subplots()\n",
    "\n",
    "# Create the animation\n",
    "animation = FuncAnimation(fig, create_frame, frames=100, fargs=(ax,))"
   ]
  },
  {
   "cell_type": "code",
   "execution_count": null,
   "id": "e2c8a5ae-10f6-499a-80e8-05e288aaeda6",
   "metadata": {},
   "outputs": [],
   "source": [
    "# display the animation\n",
    "HTML(animation.to_jshtml())"
   ]
  },
  {
   "cell_type": "code",
   "execution_count": 205,
   "id": "ac7194bf-469a-4472-a5fa-a4f7daf85e58",
   "metadata": {},
   "outputs": [],
   "source": [
    "# save the animation to a file\n",
    "animation.save('animation_linear_model.mp4', writer='ffmpeg', fps=5)"
   ]
  },
  {
   "cell_type": "markdown",
   "id": "662e0881-438e-4399-b97f-1da8f44bb1a5",
   "metadata": {},
   "source": [
    "### Model with low bias but high variance"
   ]
  },
  {
   "cell_type": "code",
   "execution_count": 706,
   "id": "dca86a47-4223-4a2f-bc33-2d7dd816246e",
   "metadata": {},
   "outputs": [],
   "source": [
    "# 10th degree polynomial\n",
    "poly = PolynomialFeatures(10)\n",
    "\n",
    "x_p10 = poly.fit_transform(x)\n",
    "x_finep10 = poly.fit_transform(x_fine)\n",
    "\n",
    "# how many times do we sample?\n",
    "num_repeats = 128\n",
    "\n",
    "# r^2 values\n",
    "r2_vals = []\n",
    "\n",
    "# linear model\n",
    "reg = LinearRegression()\n",
    "\n",
    "# dataframe for storing x values and later the y measurements and predictions\n",
    "df = pd.DataFrame(data={'x': x_p10[:, 1]})\n",
    "\n",
    "# dataframe for storing the fine-grained x values and the smoother predictions\n",
    "df_fine = pd.DataFrame(data={'x': x_finep10[:, 1]})\n",
    "\n",
    "y_true = x_fine * (10 - x_fine)\n",
    "df_fine['y_true'] = y_true\n",
    "\n",
    "# generate the data and fit the models\n",
    "for n in range(0, num_repeats):\n",
    "    # noise\n",
    "    e = np.random.randn(*x.shape)*sigma\n",
    "\n",
    "    # true data\n",
    "    y = x * (10 - x) + e\n",
    "\n",
    "    # store the measurements in the dataframe\n",
    "    df[f'y_{n}'] = y\n",
    "\n",
    "    # fit linear regression then make predictions\n",
    "    reg.fit(x_p10, y)\n",
    "\n",
    "    # r^2 value for the given model fit\n",
    "    r2_vals.append(reg.score(x_p10, y))\n",
    "\n",
    "    # predictions on the fine-grained x values\n",
    "    y_preds = reg.predict(x_finep10)\n",
    "\n",
    "    # store in the fine-grained x dataframe\n",
    "    df_fine[f'y_{n}'] = y_preds[:, 0]\n",
    "\n",
    "# make a tidy dataframe\n",
    "df_tidy = pd.melt(df, id_vars=['x'])\n",
    "df_fine_tidy = pd.melt(df_fine, id_vars=['x'])"
   ]
  },
  {
   "cell_type": "code",
   "execution_count": null,
   "id": "f2ddeb79-741c-4e76-91df-b68eb629d54a",
   "metadata": {},
   "outputs": [],
   "source": [
    "# static plot\n",
    "%matplotlib inline \n",
    "sns.set_style('white')\n",
    "\n",
    "plt.figure(figsize=(6, 4))\n",
    "\n",
    "# plot all the model fits\n",
    "for n in range(num_repeats):\n",
    "    sns.lineplot(data=df_fine_tidy.query(f'variable == \"y_{n}\"'), x='x', y='value', color=palette[0], alpha=0.05) \n",
    "\n",
    "# plot the average\n",
    "sns.lineplot(data=df_fine_tidy.groupby(['x'], as_index=False).value.mean(), x='x', y='value', color=palette[0])\n",
    "\n",
    "# scatter plot for the given sample\n",
    "sns.scatterplot(data=df_tidy.query('variable == \"y_0\"'), x='x', y='value', color=palette[3])\n",
    "\n",
    "# plot a the best fit for the given sample\n",
    "sns.lineplot(data=df_fine_tidy.query(f'variable == \"y_0\"'), x='x', y='value', color=palette[3])\n",
    "\n",
    "sns.lineplot(data=df_fine_tidy.query('variable == \"y_true\"'), x='x', y='value', color='black')\n",
    "\n",
    "plt.xlabel('x')\n",
    "plt.ylabel('y')\n",
    "plt.xlim(0, 10)\n",
    "plt.ylim(0, 30)\n",
    "plt.title('10th degree polynomial')\n",
    "plt.savefig('10degree_polynomial.png')"
   ]
  },
  {
   "cell_type": "code",
   "execution_count": 711,
   "id": "e971e4b8-a170-4763-9839-fd078b271665",
   "metadata": {},
   "outputs": [
    {
     "data": {
      "application/vnd.jupyter.widget-view+json": {
       "model_id": "",
       "version_major": 2,
       "version_minor": 0
      },
      "image/png": "[encoded data removed]",
      "text/html": [
       "\n",
       "            <div style=\"display: inline-block;\">\n",
       "                <div class=\"jupyter-widgets widget-label\" style=\"text-align: center;\">\n",
       "                    Figure\n",
       "                </div>\n",
       "                <img src='data:image/png;base64,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' width=640.0/>\n",
       "            </div>\n",
       "        "
      ],
      "text/plain": [
       "Canvas(toolbar=Toolbar(toolitems=[('Home', 'Reset original view', 'home', 'home'), ('Back', 'Back to previous …"
      ]
     },
     "metadata": {},
     "output_type": "display_data"
    }
   ],
   "source": [
    "# animation\n",
    "%matplotlib widget \n",
    "sns.set_style('white')\n",
    "\n",
    "def create_frame(step, ax):\n",
    "    ax.cla()  # Clear the axes for each frame\n",
    "    ax.set_xlim(0, 10)\n",
    "    ax.set_ylim(0, 30)\n",
    "\n",
    "    # plot all the model fits\n",
    "    for n in range(num_repeats):\n",
    "        sns.lineplot(data=df_fine_tidy.query(f'variable == \"y_{n}\"'), x='x', y='value', color=palette[0], alpha=0.03) \n",
    "\n",
    "    # plot the average model over all the fits\n",
    "    sns.lineplot(data=df_fine_tidy.groupby(['x'], as_index=False).value.mean(), x='x', y='value', color=palette[0])\n",
    "\n",
    "    # the best fit for the given sample\n",
    "    sns.lineplot(data=df_fine_tidy.query(f'variable == \"y_{step}\"'), x='x', y='value', color=palette[3])\n",
    "\n",
    "    # scatterplot for the given sample\n",
    "    sns.scatterplot(data=df_tidy.query(f'variable == \"y_{step}\"'), x='x', y='value', color=palette[3])\n",
    "\n",
    "    # true model\n",
    "    sns.lineplot(data=df_fine_tidy.query('variable == \"y_true\"'), x='x', y='value', color='black')\n",
    "\n",
    "    # Set labels (but not for every frame)\n",
    "    ax.set_ylabel('y')\n",
    "    ax.set_xlabel('x')\n",
    "    ax.set_title('10th degree polynomial')\n",
    "\n",
    "# Initialize the figure and axis\n",
    "fig, ax = plt.subplots()\n",
    "\n",
    "# Create the animation\n",
    "animation = FuncAnimation(fig, create_frame, frames=100, fargs=(ax,))"
   ]
  },
  {
   "cell_type": "code",
   "execution_count": null,
   "id": "ec21abbe-e864-4f8f-98fd-34693c3a55a5",
   "metadata": {},
   "outputs": [],
   "source": [
    "# display the animation\n",
    "HTML(animation.to_jshtml())"
   ]
  },
  {
   "cell_type": "code",
   "execution_count": 211,
   "id": "7cc73bfc-190a-43ef-b3c4-5aced1e996ee",
   "metadata": {},
   "outputs": [],
   "source": [
    "# save the animation to a file\n",
    "animation.save('animation_10degree_polynomial.mp4', writer='ffmpeg', fps=5)"
   ]
  },
  {
   "cell_type": "markdown",
   "id": "8d1d625d-5ce7-426a-a82b-3f906960fdb8",
   "metadata": {},
   "source": [
    "## 2d degree polynomial"
   ]
  },
  {
   "cell_type": "code",
   "execution_count": 712,
   "id": "691f4db7-a6fa-457f-82ed-a67c0f6b7d2d",
   "metadata": {},
   "outputs": [],
   "source": [
    "# 10th degree polynomial\n",
    "poly = PolynomialFeatures(2)\n",
    "\n",
    "x_p2 = poly.fit_transform(x)\n",
    "x_finep2 = poly.fit_transform(x_fine)\n",
    "\n",
    "# how many times do we sample?\n",
    "num_repeats = 128\n",
    "\n",
    "# r^2 values\n",
    "r2_vals = []\n",
    "\n",
    "# linear model\n",
    "reg = LinearRegression()\n",
    "\n",
    "# dataframe for storing x values and later the y measurements and predictions\n",
    "df = pd.DataFrame(data={'x': x_p2[:, 1]})\n",
    "\n",
    "# dataframe for storing the fine-grained x values and the smoother predictions\n",
    "df_fine = pd.DataFrame(data={'x': x_finep2[:, 1]})\n",
    "\n",
    "# the true model\n",
    "y_true = x_fine * (10 - x_fine)\n",
    "df_fine['y_true'] = y_true\n",
    "\n",
    "# generate the data and fit the models\n",
    "for n in range(0, num_repeats):\n",
    "    # noise\n",
    "    e = np.random.randn(*x.shape)*sigma\n",
    "\n",
    "    # true data\n",
    "    y = x * (10 - x) + e\n",
    "\n",
    "    # store the measurements in the dataframe\n",
    "    df[f'y_{n}'] = y\n",
    "\n",
    "    # fit linear regression then make predictions\n",
    "    reg.fit(x_p2, y)\n",
    "\n",
    "    # r^2 value for the given model fit\n",
    "    r2_vals.append(reg.score(x_p2, y))\n",
    "\n",
    "    # predictions on the fine-grained x values\n",
    "    y_preds = reg.predict(x_finep2)\n",
    "\n",
    "    # store in the fine-grained x dataframe\n",
    "    df_fine[f'y_{n}'] = y_preds[:, 0]\n",
    "\n",
    "# make a tidy dataframe\n",
    "df_tidy = pd.melt(df, id_vars=['x'])\n",
    "df_fine_tidy = pd.melt(df_fine, id_vars=['x'])"
   ]
  },
  {
   "cell_type": "code",
   "execution_count": null,
   "id": "548e51eb-dddd-43a4-8893-30f0c3921e92",
   "metadata": {},
   "outputs": [],
   "source": [
    "# static plot\n",
    "%matplotlib inline \n",
    "sns.set_style('white')\n",
    "\n",
    "plt.figure(figsize=(6, 4))\n",
    "\n",
    "# plot all the model fits\n",
    "for n in range(num_repeats):\n",
    "    sns.lineplot(data=df_fine_tidy.query(f'variable == \"y_{n}\"'), x='x', y='value', color=palette[0], alpha=0.03) \n",
    "\n",
    "# plot the average\n",
    "sns.lineplot(data=df_fine_tidy.groupby(['x'], as_index=False).value.mean(), x='x', y='value', color=palette[0])\n",
    "\n",
    "# scatter plot for the given sample\n",
    "sns.scatterplot(data=df_tidy.query('variable == \"y_0\"'), x='x', y='value', color=palette[3])\n",
    "\n",
    "# plot a the best fit for the given sample\n",
    "sns.lineplot(data=df_fine_tidy.query(f'variable == \"y_0\"'), x='x', y='value', color=palette[3])\n",
    "\n",
    "# the true model\n",
    "sns.lineplot(data=df_fine_tidy.query('variable == \"y_true\"'), x='x', y='value', color='black')\n",
    "\n",
    "plt.xlabel('x')\n",
    "plt.ylabel('y')\n",
    "plt.xlim(0, 10)\n",
    "plt.ylim(0, 30)\n",
    "plt.title('2nd degree polynomial')\n",
    "plt.savefig('2degree_polynomial.png')"
   ]
  },
  {
   "cell_type": "code",
   "execution_count": 215,
   "id": "516f6359-fbae-4803-9455-4c08f53374d2",
   "metadata": {},
   "outputs": [
    {
     "data": {
      "application/vnd.jupyter.widget-view+json": {
       "model_id": "",
       "version_major": 2,
       "version_minor": 0
      },
      "image/png": "[encoded data removed]",
      "text/html": [
       "\n",
       "            <div style=\"display: inline-block;\">\n",
       "                <div class=\"jupyter-widgets widget-label\" style=\"text-align: center;\">\n",
       "                    Figure\n",
       "                </div>\n",
       "                <img src='data:image/png;base64,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' width=640.0/>\n",
       "            </div>\n",
       "        "
      ],
      "text/plain": [
       "Canvas(toolbar=Toolbar(toolitems=[('Home', 'Reset original view', 'home', 'home'), ('Back', 'Back to previous …"
      ]
     },
     "metadata": {},
     "output_type": "display_data"
    }
   ],
   "source": [
    "# animation\n",
    "%matplotlib widget \n",
    "sns.set_style('white')\n",
    "\n",
    "def create_frame(step, ax):\n",
    "    ax.cla()  # Clear the axes for each frame\n",
    "    ax.set_xlim(0, 10)\n",
    "    ax.set_ylim(0, 30)\n",
    "\n",
    "    # plot all the model fits\n",
    "    for n in range(num_repeats):\n",
    "        sns.lineplot(data=df_fine_tidy.query(f'variable == \"y_{n}\"'), x='x', y='value', color=palette[0], alpha=0.03) \n",
    "\n",
    "    # plot the average model over all the fits\n",
    "    sns.lineplot(data=df_fine_tidy.groupby(['x'], as_index=False).value.mean(), x='x', y='value', color=palette[0])\n",
    "\n",
    "    # the best fit for the given sample\n",
    "    sns.lineplot(data=df_fine_tidy.query(f'variable == \"y_{step}\"'), x='x', y='value', color=palette[3])\n",
    "\n",
    "    # scatterplot for the given sample\n",
    "    sns.scatterplot(data=df_tidy.query(f'variable == \"y_{step}\"'), x='x', y='value', color=palette[3])\n",
    "\n",
    "    # the true model\n",
    "    sns.lineplot(data=df_fine_tidy.query('variable == \"y_true\"'), x='x', y='value', color='black')\n",
    "\n",
    "    # Set labels (but not for every frame)\n",
    "    ax.set_ylabel('y')\n",
    "    ax.set_xlabel('x')\n",
    "    ax.set_title('2nd degree polynomial')\n",
    "\n",
    "# Initialize the figure and axis\n",
    "fig, ax = plt.subplots()\n",
    "\n",
    "# Create the animation\n",
    "animation = FuncAnimation(fig, create_frame, frames=100, fargs=(ax,))"
   ]
  },
  {
   "cell_type": "code",
   "execution_count": null,
   "id": "6d1cd288-b808-43d6-8366-67c594c0e645",
   "metadata": {},
   "outputs": [],
   "source": [
    "# display the animation\n",
    "HTML(animation.to_jshtml())"
   ]
  },
  {
   "cell_type": "code",
   "execution_count": 217,
   "id": "d8b56ac7-4718-4a0e-b3eb-26618e952d6d",
   "metadata": {},
   "outputs": [],
   "source": [
    "# save the animation to a file?\n",
    "animation.save('animation_2degree_polynomial.mp4', writer='ffmpeg', fps=5)"
   ]
  },
  {
   "cell_type": "markdown",
   "id": "6459ad46-8eed-4270-8ce8-a5d4cb146e7e",
   "metadata": {},
   "source": [
    "## Variance and bias as a function of degree of polynomial\n",
    "\n",
    "For each degree:\n",
    "- For each set of draws from the distribution\n",
    "  - Fit the model\n",
    "  - Calculate the MSE\n",
    "  - Calculate the variance\n",
    "  - Calculate the bias\n",
    " \n",
    "Point of confusion\n",
    "- Variance, bias and error defined across different sets of samples for a given point vs over the given sample for all points\n",
    "- Generally don't have access to the 'true model' and so variance, bias and error are estimates, based on the sample\n",
    "\n",
    "Terminology:\n",
    "- Clarify that *sample* references to the dataset while *example* is a given point from the dataset\n",
    "\n",
    "To do:\n",
    "- Better to start by explaining the concepts for a simple 0 degree model, then a linear model can be seen as one where each point has a given bias and variance associated with it."
   ]
  },
  {
   "cell_type": "code",
   "execution_count": 253,
   "id": "f134ca48-d8cc-4f9a-9845-a979e554ef31",
   "metadata": {},
   "outputs": [],
   "source": [
    "# degrees of polynomials\n",
    "degrees = np.arange(1, 20)"
   ]
  },
  {
   "cell_type": "code",
   "execution_count": null,
   "id": "ab51a96d-b06c-4ee1-bdc9-3e6f0c5c7319",
   "metadata": {},
   "outputs": [],
   "source": [
    "# amplitude of noise\n",
    "sigma = 2\n",
    "\n",
    "# fine-grained x values to produce smoother predictions\n",
    "x_fine = np.arange(0, 10, 0.01).reshape(-1, 1)\n",
    "\n",
    "# 2nd degree polynomial\n",
    "\n",
    "x_finep2 = poly.fit_transform(x_fine)\n",
    "\n",
    "# 5th degree polynomial\n",
    "poly = PolynomialFeatures(5)\n",
    "x_p5 = poly.fit_transform(x)\n",
    "x_finep5 = poly.fit_transform(x_fine)\n",
    "\n",
    "# 10th degree polynomial\n",
    "poly = PolynomialFeatures(10)\n",
    "x_p10 = poly.fit_transform(x)\n",
    "x_finep10 = poly.fit_transform(x_fine)\n",
    "\n",
    "# 20th degree polynomial\n",
    "poly = PolynomialFeatures(20)\n",
    "x_p20 = poly.fit_transform(x)\n",
    "x_finep20 = poly.fit_transform(x_fine)"
   ]
  },
  {
   "cell_type": "code",
   "execution_count": null,
   "id": "1bb582c6-47e9-4e5c-84de-8cd1581c4535",
   "metadata": {},
   "outputs": [],
   "source": [
    "reg = LinearRegression()\n",
    "\n",
    "# dataframe for storing x values and later the y measurements and predictions\n",
    "df = pd.DataFrame(data={'x': x_p2[:, 1]})\n",
    "\n",
    "# dataframe for storing the fine-grained x values and the smoother predictions\n",
    "df_fine = pd.DataFrame(data={'x': x_finep2[:, 1]})\n",
    "\n",
    "# the true model\n",
    "y_true = x_fine * (10 - x_fine)\n",
    "df_fine['y_true'] = y_true"
   ]
  },
  {
   "cell_type": "code",
   "execution_count": 691,
   "id": "36f85155-1568-4cce-beb9-b42ce69da88f",
   "metadata": {},
   "outputs": [],
   "source": [
    "var_all = []\n",
    "bias2_all = []\n",
    "mse_all = []\n",
    "var_error_all = []\n",
    "\n",
    "for degree in degrees:\n",
    "    # predictions and true values for the given degree polynomial\n",
    "    y_pred_temp = []\n",
    "    y_obs_temp = []\n",
    "    \n",
    "    for n in range(1024):\n",
    "        # x values in the sample\n",
    "        x = np.arange(0, 10, 0.5).reshape(-1, 1)\n",
    "        e = np.random.randn(*x.shape)*sigma\n",
    "        y = x * (10 - x) + e\n",
    "\n",
    "        # polynomial features\n",
    "        poly = PolynomialFeatures(degree)\n",
    "        x_p = poly.fit_transform(x)\n",
    "        \n",
    "        # fit the model\n",
    "        reg = LinearRegression()\n",
    "        reg.fit(x_p, y)\n",
    "\n",
    "        # make predictions\n",
    "        y_pred = reg.predict(x_p)\n",
    "        \n",
    "        y_pred_temp.append(y_pred)\n",
    "        y_obs_temp.append(y)\n",
    "        \n",
    "    y_pred_temp = np.array(y_pred_temp)[:, :, 0]\n",
    "    y_obs_temp = np.array(y_obs_temp)[:, :, 0]\n",
    "    \n",
    "    # calculate the bias, variance and MSE at each point over all samples\n",
    "    mse = ((y_pred_temp - y_obs_temp)**2).sum(axis=0)\n",
    "    pred_mean = y_pred_temp.mean(axis=0)\n",
    "    obs_mean = y_obs_temp.mean(axis=0)\n",
    "    var = y_pred_temp.var(axis=0)\n",
    "    bias2 = (obs_mean - pred_mean)**2\n",
    "    var_all.append(np.mean(var))\n",
    "    bias2_all.append(np.mean(bias2))\n",
    "    mse_all.append(np.mean(mse))\n",
    "    var_error_all.append(np.var(y_obs_temp))"
   ]
  },
  {
   "cell_type": "code",
   "execution_count": null,
   "id": "ae9b8ac3-b6fb-4d12-bb10-01d7a0b8c213",
   "metadata": {},
   "outputs": [],
   "source": [
    "%matplotlib inline\n",
    "\n",
    "plt.figure(figsize=(6, 4))\n",
    "plt.plot(degrees, bias2_all, c='blue')\n",
    "plt.plot(degrees, var_all, c='red')\n",
    "#plt.plot(degrees, mse_all, c='black')\n",
    "plt.show()"
   ]
  },
  {
   "cell_type": "code",
   "execution_count": 298,
   "id": "4d43d949-37a9-43a5-8a18-6c8c214653d0",
   "metadata": {},
   "outputs": [],
   "source": [
    "mean = y_pred_temp.mean(axis=0)"
   ]
  },
  {
   "cell_type": "code",
   "execution_count": 682,
   "id": "35cced92-2122-4462-87d2-762a09cbd1cb",
   "metadata": {},
   "outputs": [],
   "source": [
    "var_error = 0.245\n",
    "y_true = 3\n",
    "\n",
    "num_points = 2**16\n",
    "\n",
    "# observed\n",
    "y_measured = 3 + np.random.randn(num_points)*np.sqrt(var_error) # true + noise\n",
    "\n",
    "# predicted\n",
    "y_pred = 2.5 + np.random.randn(num_points)*0.0"
   ]
  },
  {
   "cell_type": "code",
   "execution_count": 683,
   "id": "fa35c206-8ce9-4945-b5c8-55406086ef02",
   "metadata": {},
   "outputs": [],
   "source": [
    "y_measured_mean = y_measured.mean()\n",
    "y_pred_mean = y_pred.mean()"
   ]
  },
  {
   "cell_type": "code",
   "execution_count": 684,
   "id": "a36e830c-a51e-44bd-88a3-c05d857607e4",
   "metadata": {},
   "outputs": [],
   "source": [
    "# variance\n",
    "var = y_pred.var()\n",
    "\n",
    "# bias squared\n",
    "bias2 = (y_pred_mean - y_measured_mean)**2\n",
    "\n",
    "mse = ((y_pred - y_measured)**2).mean()"
   ]
  },
  {
   "cell_type": "code",
   "execution_count": 685,
   "id": "55d49072-5742-41f0-a3d9-2303ffb23bc6",
   "metadata": {},
   "outputs": [
    {
     "data": {
      "text/plain": [
       "np.float64(0.24478203104197596)"
      ]
     },
     "execution_count": 685,
     "metadata": {},
     "output_type": "execute_result"
    }
   ],
   "source": [
    "y_measured.var()"
   ]
  },
  {
   "cell_type": "code",
   "execution_count": 686,
   "id": "271d6945-2762-44ad-811b-65f776fecddc",
   "metadata": {},
   "outputs": [
    {
     "data": {
      "text/plain": [
       "(np.float64(0.0), np.float64(0.250421820750464))"
      ]
     },
     "execution_count": 686,
     "metadata": {},
     "output_type": "execute_result"
    }
   ],
   "source": [
    "var, bias2"
   ]
  },
  {
   "cell_type": "code",
   "execution_count": 687,
   "id": "612faa40-5c72-4aad-8668-32ecab44e2c5",
   "metadata": {},
   "outputs": [
    {
     "data": {
      "text/plain": [
       "np.float64(0.49520385179244)"
      ]
     },
     "execution_count": 687,
     "metadata": {},
     "output_type": "execute_result"
    }
   ],
   "source": [
    "# bias-variance decomposition\n",
    "var + bias2 + y_measured.var()"
   ]
  },
  {
   "cell_type": "code",
   "execution_count": 688,
   "id": "c91e7a13-ace3-4a3a-99c4-e83364f65621",
   "metadata": {},
   "outputs": [
    {
     "data": {
      "text/plain": [
       "np.float64(0.4952038517924402)"
      ]
     },
     "execution_count": 688,
     "metadata": {},
     "output_type": "execute_result"
    }
   ],
   "source": [
    "# mean squared error\n",
    "mse"
   ]
  },
  {
   "cell_type": "markdown",
   "id": "24947cae-0813-4241-ba3d-0683252a3ff9",
   "metadata": {},
   "source": [
    "## 3D Scatterplot of multivariable model"
   ]
  },
  {
   "cell_type": "code",
   "execution_count": null,
   "id": "538d4878-6600-4fdd-a93d-7c5838f1194b",
   "metadata": {},
   "outputs": [],
   "source": [
    "import plotly.express as px\n",
    "\n",
    "df = px.data.iris()\n",
    "fig = px.scatter_3d(df, x='sepal_length', y='sepal_width', z='petal_width',\n",
    "              color='petal_length', size='petal_length', size_max=18,\n",
    "              symbol='species', opacity=0.7)\n",
    "\n",
    "# tight layout\n",
    "fig.update_layout(margin=dict(l=0, r=0, b=0, t=0))\n",
    "fig.show()"
   ]
  },
  {
   "cell_type": "code",
   "execution_count": null,
   "id": "dfd46eb5-7f53-4b74-b3a7-86da5f3d5672",
   "metadata": {},
   "outputs": [],
   "source": [
    "# multivariable linear regression\n",
    "from mpl_toolkits.mplot3d import Axes3D\n",
    "import statsmodels.api as sm\n",
    "%matplotlib inline\n",
    "\n",
    "x = np.random.rand(128)*10\n",
    "y = np.random.rand(128)*5\n",
    "z = 2*x + 3*y\n",
    "\n",
    "# Sample data\n",
    "df = pd.DataFrame({\n",
    "    'x': x,\n",
    "    'y': y,\n",
    "    'z': 2*x + 3*y\n",
    "})\n",
    "\n",
    "X = df[['x', 'y']]\n",
    "Y = df['z']\n",
    "\n",
    "model = sm.OLS(Y, X).fit()  # Fit the model\n",
    "\n",
    "# Create a mesh grid for the x and y data\n",
    "x_pred = np.linspace(df['x'].min(), df['x'].max(), 50)  # Generate 50 points for x-axis\n",
    "y_pred = np.linspace(df['y'].min(), df['y'].max(), 50)  # Generate 50 points for y-axis\n",
    "x_pred, y_pred = np.meshgrid(x_pred, y_pred)  # Create a grid\n",
    "\n",
    "# Predict z values based on the model\n",
    "z_pred = model.params[0] * x_pred + model.params[1] * y_pred\n",
    "\n",
    "# Initialize plot\n",
    "sns.set(style=\"whitegrid\")\n",
    "\n",
    "# Create 3D scatter plot\n",
    "fig = plt.figure()\n",
    "ax = fig.add_subplot(111, projection='3d')\n",
    "\n",
    "# Plot the regression plane\n",
    "ax.plot_surface(x_pred, y_pred, z_pred, color='red', alpha=1, label='Regression plane')\n",
    "\n",
    "# Plot 3D scatter plot\n",
    "ax.scatter(df['x'], df['y'], df['z'], c='b', edgecolor='k', label='Data points')\n",
    "\n",
    "# Add axis labels\n",
    "ax.set_xlabel('x')\n",
    "ax.set_ylabel('y')\n",
    "ax.set_zlabel('z')\n",
    "\n",
    "# Show plot\n",
    "plt.show()"
   ]
  }
 ],
 "metadata": {
  "kernelspec": {
   "display_name": "hf_experiments",
   "language": "python",
   "name": "hf_experiments"
  },
  "language_info": {
   "codemirror_mode": {
    "name": "ipython",
    "version": 3
   },
   "file_extension": ".py",
   "mimetype": "text/x-python",
   "name": "python",
   "nbconvert_exporter": "python",
   "pygments_lexer": "ipython3",
   "version": "3.12.3"
  }
 },
 "nbformat": 4,
 "nbformat_minor": 5
}
