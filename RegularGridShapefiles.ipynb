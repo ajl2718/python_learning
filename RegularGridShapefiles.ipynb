{
 "cells": [
  {
   "cell_type": "markdown",
   "metadata": {},
   "source": [
    "# Generate regular hex and square grids covering area of interest\n",
    "27 May 2019\n",
    "\n",
    "---\n",
    "\n",
    "\n",
    "The basic approach is:\n",
    "- Define a flat CRS and a projected CRS. So x, y and lat, lng values respectively.\n",
    "- Write the code the create a Shapely Polygon that defines a regular hexagon (or square) with a particular radius in metres.\n",
    "- Define an area (in lat, lng values) over which we would like to create a tiling.\n",
    "- Intersect this area with the geographic area of interest"
   ]
  },
  {
   "cell_type": "markdown",
   "metadata": {},
   "source": [
    "## 1.0. Setup\n",
    "\n",
    "Import all the necessary libraries and then define the Coordinate Reference Systems (CRS) that we will be working with."
   ]
  },
  {
   "cell_type": "code",
   "execution_count": 1,
   "metadata": {},
   "outputs": [],
   "source": [
    "import pandas as pd\n",
    "import geopandas as gpd\n",
    "import matplotlib.pyplot as plt\n",
    "import numpy as np\n",
    "\n",
    "import folium\n",
    "\n",
    "from shapely.geometry import Polygon, Point, MultiPolygon\n",
    "from shapely import wkt\n",
    "\n",
    "%matplotlib inline"
   ]
  },
  {
   "cell_type": "markdown",
   "metadata": {},
   "source": [
    "### 1.1. Coordinate Reference Systems\n",
    "\n",
    "Define the two CRS that we use: an ABS one and another government CRS."
   ]
  },
  {
   "cell_type": "code",
   "execution_count": 2,
   "metadata": {},
   "outputs": [],
   "source": [
    "# The CRS that the ABS SA2 shapefile uses\n",
    "crs_abs = {'init': 'epsg:4283'}\n",
    "\n",
    "# the projected CRS used in MABM\n",
    "crs_vic = {'init': 'epsg:28355'}\n",
    "\n",
    "# maybe try this one: epsg:3395"
   ]
  },
  {
   "cell_type": "code",
   "execution_count": 3,
   "metadata": {},
   "outputs": [],
   "source": [
    "# south west most point of melb\n",
    "p_lower = [143.338683, -39.185049]\n",
    "\n",
    "# north east most point of melb\n",
    "p_upper = [146.742224, -36.559378]\n",
    "\n",
    "# put these in a Geoseries\n",
    "gs1 = gpd.GeoSeries([Point(p_lower), Point(p_upper)], crs=crs_abs)\n",
    "\n",
    "# convert each of these points to the 'flat coordinate system'\n",
    "gs1b = gs1.to_crs(crs_vic)"
   ]
  },
  {
   "cell_type": "markdown",
   "metadata": {},
   "source": [
    "## 2.0. Define the regular hexagonal grid\n",
    "\n",
    "### 2.1. Define a regular hexagon in the flat geometry\n",
    "\n",
    "Firstly we define a regular hexagon and then tile this over the given rectangle"
   ]
  },
  {
   "cell_type": "code",
   "execution_count": 4,
   "metadata": {},
   "outputs": [],
   "source": [
    "# startpoint coords\n",
    "coords0 = gs1b[0].x, gs1b[0].y\n",
    "\n",
    "# the x and y extent of the grid\n",
    "Xdiff = gs1b[1].x - gs1b[0].x\n",
    "Ydiff = gs1b[1].y - gs1b[0].y\n",
    "\n",
    "# the cell width and height (in metres)\n",
    "celllength = 1000\n",
    "r = celllength\n",
    "\n",
    "# fundamental hexagon\n",
    "a, b = np.sqrt(3) / 2, 1 / 2\n",
    "poly_hex = np.array([(0, r), (-r*a, r*b), (-r*a, -r*b), (0, -r), (r*a, -r*b), (r*a, r*b)])\n",
    "\n",
    "# calculate the number of cells in the X and Y directions\n",
    "num_cells_x = int(Xdiff / celllength / 2)\n",
    "num_cells_y = int(Ydiff / celllength / 2)"
   ]
  },
  {
   "cell_type": "markdown",
   "metadata": {},
   "source": [
    "### 2.2. Tile this hexagon over the rectangle covering the specified area.\n",
    "\n",
    "Clean this up to void using the for loops."
   ]
  },
  {
   "cell_type": "code",
   "execution_count": 5,
   "metadata": {},
   "outputs": [],
   "source": [
    "# centres of a regular grid of hexagons of unit radius\n",
    "polys = []\n",
    "\n",
    "# using a for loop\n",
    "for m in range(0, num_cells_x):\n",
    "    for n in range(0, num_cells_y):\n",
    "        # generate the two sublattices\n",
    "        d = np.array([coords0[0] + 2*m*a*r, coords0[1] + 3*2*n*b*r]).reshape(1,-1) # displacement vector\n",
    "        polys.append(Polygon(d+poly_hex))\n",
    "        \n",
    "        d = np.array([coords0[0] + (2*m+1)*a*r, coords0[1] + 3*(2*n+1)*b*r]).reshape(1,-1)\n",
    "        polys.append(Polygon(d+poly_hex))\n",
    "        \n",
    "hexes = gpd.GeoSeries(polys, crs=crs_vic)\n",
    "\n",
    "# convert to dataframe and change crs\n",
    "gdf_hex = gpd.GeoDataFrame(geometry=hexes)\n",
    "gdf_hex = gdf_hex.to_crs(crs_abs)\n",
    "\n",
    "# add a label for each hexagon for when we do a spatial join\n",
    "gdf_hex['HexLabel'] = np.arange(gdf_hex.shape[0])"
   ]
  },
  {
   "cell_type": "markdown",
   "metadata": {},
   "source": [
    "## 3.0 Define a regular square grid"
   ]
  },
  {
   "cell_type": "code",
   "execution_count": 6,
   "metadata": {},
   "outputs": [],
   "source": [
    "# startpoint coords\n",
    "coords0 = gs1b[0].x, gs1b[0].y\n",
    "\n",
    "# the x and y extent of the grid\n",
    "Xdiff = gs1b[1].x - gs1b[0].x\n",
    "Ydiff = gs1b[1].y - gs1b[0].y\n",
    "\n",
    "# the cell width and height (in metres)\n",
    "celllength = 1000\n",
    "r = celllength\n",
    "\n",
    "# fundamental square\n",
    "a, b = 1, 1\n",
    "poly_square = np.array([(0, 0), (a, 0), (a, b), (0, b)])\n",
    "\n",
    "# calculate the number of cells in the X and Y directions\n",
    "num_cells_x = int(Xdiff / celllength)\n",
    "num_cells_y = int(Ydiff / celllength)"
   ]
  },
  {
   "cell_type": "markdown",
   "metadata": {},
   "source": [
    "### 3.1. Tile this square over the rectangle covering the specified area.\n"
   ]
  },
  {
   "cell_type": "code",
   "execution_count": 7,
   "metadata": {},
   "outputs": [],
   "source": [
    "# centres of a regular grid of hexagons of unit radius\n",
    "polys = []\n",
    "\n",
    "# using a for loop\n",
    "for m in range(0, num_cells_x):\n",
    "    for n in range(0, num_cells_y):\n",
    "        # generate the two sublattices\n",
    "        d = np.array([coords0[0] + a*m*r, coords0[1] + b*n*r]).reshape(1,-1)\n",
    "        polys.append(Polygon(d+poly_square*r))\n",
    "        \n",
    "squares = gpd.GeoSeries(polys, crs=crs_vic)\n",
    "\n",
    "# convert to dataframe and change crs\n",
    "gdf_sqr = gpd.GeoDataFrame(geometry=squares)\n",
    "gdf_sqr = gdf_sqr.to_crs(crs_abs)\n",
    "\n",
    "# add a label for each hexagon for when we do a spatial join\n",
    "gdf_sqr['SquareLabel'] = np.arange(gdf_sqr.shape[0])"
   ]
  },
  {
   "cell_type": "markdown",
   "metadata": {},
   "source": [
    "## 4.0. Load up the Vic SA2 values and shapefiles\n",
    "\n",
    "The SA2 files are here: https://www.abs.gov.au/AUSSTATS/abs@.nsf/DetailsPage/1270.0.55.003July%202016?OpenDocument"
   ]
  },
  {
   "cell_type": "code",
   "execution_count": 8,
   "metadata": {},
   "outputs": [],
   "source": [
    "# load up the shape files for Vic and filter down to Victoria, removing null values\n",
    "gdf_vic = gpd.read_file('data/shapefiles/SA2_2016_AUST.shp')\n",
    "gdf_vic = gdf_vic[gdf_vic['geometry'].isnull() == False] # remove the null values"
   ]
  },
  {
   "cell_type": "markdown",
   "metadata": {},
   "source": [
    "### 4.1. Area Of Interest\n",
    "\n",
    "Define the Area Of Interest that we would like to restrict our grids to\n"
   ]
  },
  {
   "cell_type": "code",
   "execution_count": 18,
   "metadata": {},
   "outputs": [],
   "source": [
    "# Greater Melbourne\n",
    "gdf_gm = gdf_vic[gdf_vic['GCC_NAME16']=='Greater Melbourne']\n",
    "\n",
    "# The SA4's that make up Greater Melbourne and Geelong\n",
    "sa4_aoi = ['Melbourne - Inner', 'Melbourne - Inner East',\n",
    "       'Melbourne - Inner South', 'Melbourne - North East',\n",
    "       'Melbourne - North West', 'Melbourne - Outer East',\n",
    "       'Melbourne - South East', 'Melbourne - West',\n",
    "       'Mornington Peninsula']\n",
    "\n",
    "gdf_aoi = gdf_vic[gdf_vic['SA4_NAME16'].isin(sa4_aoi)]"
   ]
  },
  {
   "cell_type": "markdown",
   "metadata": {},
   "source": [
    "### 4.2. Intersect the hexgrid"
   ]
  },
  {
   "cell_type": "code",
   "execution_count": 19,
   "metadata": {},
   "outputs": [],
   "source": [
    "# join hexagon grid with AOI\n",
    "gdf_new = gpd.sjoin(gdf_aoi, gdf_hex, op='intersects', how='inner')"
   ]
  },
  {
   "cell_type": "code",
   "execution_count": 20,
   "metadata": {},
   "outputs": [],
   "source": [
    "# just get the hexagons that cover melbourne\n",
    "hex_gm = gdf_hex[gdf_hex['HexLabel'].isin(gdf_new['HexLabel'].values)]"
   ]
  },
  {
   "cell_type": "code",
   "execution_count": 21,
   "metadata": {},
   "outputs": [],
   "source": [
    "# write to a shapefile\n",
    "hex_gm.to_file('hexgrid_aoi_1km.shp', index=False)"
   ]
  },
  {
   "cell_type": "markdown",
   "metadata": {},
   "source": [
    "### 4.3. Intersect the squaregrid"
   ]
  },
  {
   "cell_type": "code",
   "execution_count": 22,
   "metadata": {},
   "outputs": [],
   "source": [
    "# join hexagon grid with Greater Melbourne\n",
    "gdf_new = gpd.sjoin(gdf_aoi, gdf_sqr, op='intersects', how='inner')"
   ]
  },
  {
   "cell_type": "code",
   "execution_count": 23,
   "metadata": {},
   "outputs": [],
   "source": [
    "# just get the hexagons that cover melbourne\n",
    "sqr_gm = gdf_sqr[gdf_sqr['SquareLabel'].isin(gdf_new['SquareLabel'].values)]"
   ]
  },
  {
   "cell_type": "code",
   "execution_count": 24,
   "metadata": {},
   "outputs": [],
   "source": [
    "# write to a shapefile\n",
    "sqr_gm.to_file('sqrgrid_aoi_1km.shp', index=False)"
   ]
  },
  {
   "cell_type": "markdown",
   "metadata": {},
   "source": [
    "## 5.0. Plot the regular hexgrids and square grids covering our AOI"
   ]
  },
  {
   "cell_type": "markdown",
   "metadata": {},
   "source": [
    "### 5.1 Hexgrid"
   ]
  },
  {
   "cell_type": "code",
   "execution_count": 1,
   "metadata": {},
   "outputs": [],
   "source": [
    "# initialize the map\n",
    "m = folium.Map(location=[-37.8, 145], zoom_start=8.5, tiles='cartodbpositron')\n",
    "\n",
    "# add the hexagon grid to the map\n",
    "folium.GeoJson(hex_gm.geometry).add_to(m)\n",
    "\n",
    "# display all of this\n",
    "m"
   ]
  },
  {
   "cell_type": "markdown",
   "metadata": {},
   "source": [
    "### 5.2. Squaregrid"
   ]
  },
  {
   "cell_type": "code",
   "execution_count": 2,
   "metadata": {},
   "outputs": [],
   "source": [
    "# initialize the map\n",
    "m = folium.Map(location=[-37.8, 145], zoom_start=8.5, tiles='cartodbpositron')\n",
    "\n",
    "# add the hexagon grid to the map\n",
    "folium.GeoJson(sqr_gm.geometry).add_to(m)\n",
    "\n",
    "# display all of this\n",
    "m"
   ]
  },
  {
   "cell_type": "markdown",
   "metadata": {},
   "source": [
    "## 6.0. Validate the lengths using the haversine formula"
   ]
  },
  {
   "cell_type": "code",
   "execution_count": 206,
   "metadata": {},
   "outputs": [],
   "source": [
    "from math import atan2"
   ]
  },
  {
   "cell_type": "code",
   "execution_count": 204,
   "metadata": {},
   "outputs": [],
   "source": [
    "# from \n",
    "# https://community.esri.com/groups/coordinate-reference-systems/blog/2017/10/05/haversine-formula\n",
    "\n",
    "def haversine(coord1: object, coord2: object):\n",
    "\n",
    "    # Coordinates in decimal degrees (e.g. 2.89078, 12.79797)\n",
    "    lon1, lat1 = coord1\n",
    "    lon2, lat2 = coord2\n",
    "\n",
    "    R = 6371000  # radius of Earth in meters\n",
    "    phi_1 = radians(lat1)\n",
    "    phi_2 = radians(lat2)\n",
    "\n",
    "    delta_phi = radians(lat2 - lat1)\n",
    "    delta_lambda = radians(lon2 - lon1)\n",
    "\n",
    "    a = sin(delta_phi / 2.0) ** 2 + cos(phi_1) * cos(phi_2) * sin(delta_lambda / 2.0) ** 2\n",
    "    \n",
    "    c = 2 * atan2(sqrt(a), sqrt(1 - a))\n",
    "\n",
    "    meters = R * c  # output distance in meters\n",
    "    km = meters / 1000.0  # output distance in kilometers\n",
    "\n",
    "    meters = round(meters, 3)\n",
    "    km = round(km, 3)\n",
    "\n",
    "\n",
    "    print(f\"Distance: {meters} m\")\n",
    "    print(f\"Distance: {km} km\")"
   ]
  }
 ],
 "metadata": {
  "kernelspec": {
   "display_name": "Python 3",
   "language": "python",
   "name": "python3"
  },
  "language_info": {
   "codemirror_mode": {
    "name": "ipython",
    "version": 3
   },
   "file_extension": ".py",
   "mimetype": "text/x-python",
   "name": "python",
   "nbconvert_exporter": "python",
   "pygments_lexer": "ipython3",
   "version": "3.6.8"
  }
 },
 "nbformat": 4,
 "nbformat_minor": 2
}
