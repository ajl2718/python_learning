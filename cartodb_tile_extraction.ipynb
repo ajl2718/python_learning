{
 "cells": [
  {
   "cell_type": "markdown",
   "id": "b7699662",
   "metadata": {},
   "source": [
    "# Download the cartodb tiles for Vic\n",
    "\n",
    "11 May 2022\n",
    "\n",
    "---\n",
    "\n",
    "\n",
    "## Description\n",
    "\n",
    "This notebook shows how to download relevant map tiles for a given area of a particular style so that they can be stored locally and geospatial visualisations can be carried out in a local environment (such as in a VM).\n",
    "\n",
    "\n",
    "## References\n",
    "\n",
    "https://contextily.readthedocs.io/en/latest/working_with_local_files.html#Saving-tiles-locally"
   ]
  },
  {
   "cell_type": "code",
   "execution_count": 1,
   "id": "ab5736e7",
   "metadata": {},
   "outputs": [
    {
     "name": "stderr",
     "output_type": "stream",
     "text": [
      "/home/alex/.local/lib/python3.8/site-packages/geopandas/_compat.py:111: UserWarning: The Shapely GEOS version (3.9.1-CAPI-1.14.2) is incompatible with the GEOS version PyGEOS was compiled with (3.10.1-CAPI-1.16.0). Conversions between both will be slow.\n",
      "  warnings.warn(\n"
     ]
    }
   ],
   "source": [
    "%matplotlib inline\n",
    "\n",
    "import contextily as ctx\n",
    "import geopandas\n",
    "import pandas as pd\n",
    "import matplotlib.pyplot as plt"
   ]
  },
  {
   "cell_type": "markdown",
   "id": "be2ffb96",
   "metadata": {},
   "source": [
    "## Load data for vic"
   ]
  },
  {
   "cell_type": "code",
   "execution_count": 19,
   "id": "0bac5752",
   "metadata": {},
   "outputs": [],
   "source": [
    "source_folder = 'Data/geo'"
   ]
  },
  {
   "cell_type": "code",
   "execution_count": 20,
   "id": "02460594",
   "metadata": {},
   "outputs": [],
   "source": [
    "# load up LGAs\n",
    "lga_vic = pd.read_csv(f'{source_folder}/LGA_2016_VIC.csv')"
   ]
  },
  {
   "cell_type": "code",
   "execution_count": 12,
   "id": "a350f88e",
   "metadata": {},
   "outputs": [],
   "source": [
    "output_folder = '/home/alex/Desktop/Data/geo/map_tiles'"
   ]
  },
  {
   "cell_type": "code",
   "execution_count": 13,
   "id": "b57e9710",
   "metadata": {},
   "outputs": [],
   "source": [
    "lgas_short = ['Alpine (S)', 'Ararat (RC)', 'Moyne (S)', 'Ballarat (C)',\n",
    "       'Banyule (C)', 'Bass Coast (S)', 'Baw Baw (S)', 'Bayside (C)',\n",
    "       'Benalla (RC)', 'Boroondara (C)', 'Brimbank (C)', 'Buloke (S)',\n",
    "       'Campaspe (S)', 'Cardinia (S)', 'Casey (C)',\n",
    "       'Central Goldfields (S)', 'Hepburn (S)', 'Colac-Otway (S)',\n",
    "       'Corangamite (S)', 'Glenelg (S)', 'Darebin (C)',\n",
    "       'East Gippsland (S)', 'Frankston (C)',\n",
    "       'Gannawarra (S)', 'Glen Eira (C)', 'Golden Plains (S)',\n",
    "       'Greater Bendigo (C)', 'Greater Dandenong (C)',\n",
    "       'Greater Geelong (C)', 'Greater Shepparton (C)', 'Hindmarsh (S)',\n",
    "       'Hobsons Bay (C)', 'Horsham (RC)', 'Hume (C)', 'Indigo (S)',\n",
    "       'Wangaratta (RC)', 'Kingston (C) (Vic.)', 'Knox (C)',\n",
    "       'Latrobe (C) (Vic.)', 'Loddon (S)', 'Macedon Ranges (S)',\n",
    "       'Manningham (C)', 'Mansfield (S)', 'Maribyrnong (C)',\n",
    "       'Maroondah (C)', 'Melbourne (C)', 'Melton (C)', 'Mildura (RC)',\n",
    "       'Mitchell (S)', 'Moira (S)', 'Monash (C)', 'Moonee Valley (C)',\n",
    "       'Moorabool (S)', 'Moreland (C)', 'Mornington Peninsula (S)',\n",
    "       'Mount Alexander (S)', 'Murrindindi (S)', 'Nillumbik (S)',\n",
    "       'Northern Grampians (S)', 'Port Phillip (C)', 'Pyrenees (S)',\n",
    "       'Queenscliffe (B)', 'South Gippsland (S)',\n",
    "       'Southern Grampians (S)', 'Stonnington (C)', 'Strathbogie (S)',\n",
    "       'Surf Coast (S)', 'Swan Hill (RC)', 'Towong (S)',\n",
    "       'Warrnambool (C)', 'Wellington (S)', 'West Wimmera (S)',\n",
    "       'Whitehorse (C)', 'Whittlesea (C)', 'Wodonga (C)', 'Wyndham (C)',\n",
    "       'Yarra Ranges (S)', 'Yarra (C)', 'Yarriambiack (S)']"
   ]
  },
  {
   "cell_type": "code",
   "execution_count": 14,
   "id": "b5b971ca",
   "metadata": {},
   "outputs": [],
   "source": [
    "# convert to full name\n",
    "def lga_to_proper_name(lga_short):\n",
    "    if '(C)' in lga_short:\n",
    "        lga_full = 'City of ' + lga_short.split('(')[0].strip()\n",
    "    elif '(S)' in lga_short:\n",
    "        lga_full = lga_short.split('(')[0].strip() + ' Shire'\n",
    "    elif '(RC)' in lga_short:\n",
    "        lga_full = 'Rural City of  ' + lga_short.split('(')[0].strip()\n",
    "    elif '(B)' in lga_short:\n",
    "        lga_full = 'Borough of  ' + lga_short.split('(')[0].strip()\n",
    "    return lga_full"
   ]
  },
  {
   "cell_type": "code",
   "execution_count": 15,
   "id": "50f635d0",
   "metadata": {},
   "outputs": [],
   "source": [
    "lgas_vic_full = [lga_to_proper_name(lga_short) for lga_short in lgas_short]"
   ]
  },
  {
   "cell_type": "code",
   "execution_count": 16,
   "id": "798c1e1b",
   "metadata": {},
   "outputs": [],
   "source": [
    "suburbs_vic = suburbs.query('STATE_NAME_2016 == \"Victoria\"')['SSC_NAME_2016'].unique()[:-2]"
   ]
  },
  {
   "cell_type": "code",
   "execution_count": 17,
   "id": "c014a679",
   "metadata": {},
   "outputs": [
    {
     "data": {
      "text/plain": [
       "array(['Alfredton', 'Cardigan Village', 'Cardigan', ..., 'Warrnambool',\n",
       "       'Dennington', 'Allansford'], dtype=object)"
      ]
     },
     "execution_count": 17,
     "metadata": {},
     "output_type": "execute_result"
    }
   ],
   "source": [
    "suburbs_vic"
   ]
  },
  {
   "cell_type": "markdown",
   "id": "73487769",
   "metadata": {},
   "source": [
    "## Download map tiles for individual LGAs"
   ]
  },
  {
   "cell_type": "code",
   "execution_count": 18,
   "id": "bf9aeb49",
   "metadata": {},
   "outputs": [
    {
     "name": "stdout",
     "output_type": "stream",
     "text": [
      "Getting map tile for Alpine Shire, Victoria, Australia\n",
      "Getting map tile for Rural City of  Ararat, Victoria, Australia\n",
      "Getting map tile for Moyne Shire, Victoria, Australia\n",
      "Getting map tile for City of Ballarat, Victoria, Australia\n",
      "Getting map tile for City of Banyule, Victoria, Australia\n",
      "Getting map tile for Bass Coast Shire, Victoria, Australia\n",
      "Getting map tile for Baw Baw Shire, Victoria, Australia\n",
      "Getting map tile for City of Bayside, Victoria, Australia\n",
      "Getting map tile for Rural City of  Benalla, Victoria, Australia\n",
      "Getting map tile for City of Boroondara, Victoria, Australia\n",
      "Getting map tile for City of Brimbank, Victoria, Australia\n",
      "Getting map tile for Buloke Shire, Victoria, Australia\n",
      "Getting map tile for Campaspe Shire, Victoria, Australia\n",
      "Getting map tile for Cardinia Shire, Victoria, Australia\n",
      "Getting map tile for City of Casey, Victoria, Australia\n",
      "Getting map tile for Central Goldfields Shire, Victoria, Australia\n",
      "Getting map tile for Hepburn Shire, Victoria, Australia\n",
      "Getting map tile for Colac-Otway Shire, Victoria, Australia\n",
      "Could not download data\n",
      "Getting map tile for Corangamite Shire, Victoria, Australia\n",
      "Getting map tile for Glenelg Shire, Victoria, Australia\n",
      "Getting map tile for City of Darebin, Victoria, Australia\n",
      "Getting map tile for East Gippsland Shire, Victoria, Australia\n",
      "Could not download data\n",
      "Getting map tile for City of Frankston, Victoria, Australia\n",
      "Getting map tile for Gannawarra Shire, Victoria, Australia\n",
      "Getting map tile for City of Glen Eira, Victoria, Australia\n",
      "Getting map tile for Golden Plains Shire, Victoria, Australia\n",
      "Getting map tile for City of Greater Bendigo, Victoria, Australia\n",
      "Getting map tile for City of Greater Dandenong, Victoria, Australia\n",
      "Getting map tile for City of Greater Geelong, Victoria, Australia\n",
      "Getting map tile for City of Greater Shepparton, Victoria, Australia\n",
      "Getting map tile for Hindmarsh Shire, Victoria, Australia\n",
      "Getting map tile for City of Hobsons Bay, Victoria, Australia\n",
      "Getting map tile for Rural City of  Horsham, Victoria, Australia\n",
      "Getting map tile for City of Hume, Victoria, Australia\n",
      "Getting map tile for Indigo Shire, Victoria, Australia\n",
      "Getting map tile for Rural City of  Wangaratta, Victoria, Australia\n",
      "Getting map tile for City of Kingston, Victoria, Australia\n",
      "Getting map tile for City of Knox, Victoria, Australia\n",
      "Getting map tile for City of Latrobe, Victoria, Australia\n",
      "Could not download data\n",
      "Getting map tile for Loddon Shire, Victoria, Australia\n",
      "Getting map tile for Macedon Ranges Shire, Victoria, Australia\n",
      "Getting map tile for City of Manningham, Victoria, Australia\n",
      "Getting map tile for Mansfield Shire, Victoria, Australia\n",
      "Getting map tile for City of Maribyrnong, Victoria, Australia\n",
      "Getting map tile for City of Maroondah, Victoria, Australia\n",
      "Getting map tile for City of Melbourne, Victoria, Australia\n",
      "Getting map tile for City of Melton, Victoria, Australia\n",
      "Getting map tile for Rural City of  Mildura, Victoria, Australia\n",
      "Getting map tile for Mitchell Shire, Victoria, Australia\n",
      "Getting map tile for Moira Shire, Victoria, Australia\n",
      "Getting map tile for City of Monash, Victoria, Australia\n",
      "Getting map tile for City of Moonee Valley, Victoria, Australia\n",
      "Getting map tile for Moorabool Shire, Victoria, Australia\n",
      "Getting map tile for City of Moreland, Victoria, Australia\n",
      "Getting map tile for Mornington Peninsula Shire, Victoria, Australia\n",
      "Getting map tile for Mount Alexander Shire, Victoria, Australia\n",
      "Could not download data\n",
      "Getting map tile for Murrindindi Shire, Victoria, Australia\n",
      "Getting map tile for Nillumbik Shire, Victoria, Australia\n",
      "Getting map tile for Northern Grampians Shire, Victoria, Australia\n",
      "Getting map tile for City of Port Phillip, Victoria, Australia\n",
      "Getting map tile for Pyrenees Shire, Victoria, Australia\n",
      "Could not download data\n",
      "Getting map tile for Borough of  Queenscliffe, Victoria, Australia\n",
      "Getting map tile for South Gippsland Shire, Victoria, Australia\n",
      "Getting map tile for Southern Grampians Shire, Victoria, Australia\n",
      "Getting map tile for City of Stonnington, Victoria, Australia\n",
      "Getting map tile for Strathbogie Shire, Victoria, Australia\n",
      "Getting map tile for Surf Coast Shire, Victoria, Australia\n",
      "Getting map tile for Rural City of  Swan Hill, Victoria, Australia\n",
      "Getting map tile for Towong Shire, Victoria, Australia\n",
      "Getting map tile for City of Warrnambool, Victoria, Australia\n",
      "Getting map tile for Wellington Shire, Victoria, Australia\n",
      "Getting map tile for West Wimmera Shire, Victoria, Australia\n",
      "Getting map tile for City of Whitehorse, Victoria, Australia\n",
      "Getting map tile for City of Whittlesea, Victoria, Australia\n",
      "Getting map tile for City of Wodonga, Victoria, Australia\n",
      "Getting map tile for City of Wyndham, Victoria, Australia\n",
      "Getting map tile for Yarra Ranges Shire, Victoria, Australia\n",
      "Getting map tile for City of Yarra, Victoria, Australia\n",
      "Getting map tile for Yarriambiack Shire, Victoria, Australia\n"
     ]
    }
   ],
   "source": [
    "lgas_bad = [] # LGAs that we can't download a map tile for\n",
    "\n",
    "for lga in lgas_vic_full:\n",
    "    place_name = f'{lga}, Victoria, Australia'\n",
    "    print(f'Getting map tile for {place_name}')\n",
    "    try:\n",
    "        lga_temp = ctx.Place(place_name, \n",
    "                             source=ctx.providers.CartoDB.DarkMatter, \n",
    "                             path=f'{output_folder}/LGA_Dark_{lga}_vic.tiff')\n",
    "    except:\n",
    "        print('Could not download data')\n",
    "        lgas_bad.append(lga)\n",
    "        next"
   ]
  },
  {
   "cell_type": "markdown",
   "id": "84208534",
   "metadata": {},
   "source": [
    "## Download for particular regions"
   ]
  },
  {
   "cell_type": "code",
   "execution_count": 16,
   "id": "532e8db4",
   "metadata": {},
   "outputs": [],
   "source": [
    "lga_temp = ctx.Place(\"Melbourne, Victoria\", \n",
    "                     source=ctx.providers.CartoDB.Positron, \n",
    "                     path=f'{output_folder}/Region_Melbourne_vic.tiff')"
   ]
  },
  {
   "cell_type": "code",
   "execution_count": 6,
   "id": "d78a5b03",
   "metadata": {},
   "outputs": [],
   "source": [
    "# dark map\n",
    "lga_temp = ctx.Place(\"Melbourne, Victoria\", \n",
    "                     source=ctx.providers.CartoDB.DarkMatter, \n",
    "                     path=f'{output_folder}/Region_Dark_Melbourne_vic.tiff')"
   ]
  },
  {
   "cell_type": "code",
   "execution_count": 19,
   "id": "3e2879f3",
   "metadata": {},
   "outputs": [],
   "source": [
    "lga_temp = ctx.Place(\"Victoria\", -\n",
    "                     source=ctx.providers.CartoDB.Positron, \n",
    "                     path=f'{output_folder}/Region_vic.tiff')"
   ]
  },
  {
   "cell_type": "code",
   "execution_count": 7,
   "id": "6ab5d05f",
   "metadata": {},
   "outputs": [],
   "source": [
    "# dark map\n",
    "lga_temp = ctx.Place(\"Victoria\", \n",
    "                     source=ctx.providers.CartoDB.DarkMatter, \n",
    "                     path=f'{output_folder}/Region_Dark_vic.tiff')"
   ]
  },
  {
   "cell_type": "code",
   "execution_count": null,
   "id": "8631ad49",
   "metadata": {},
   "outputs": [],
   "source": [
    " "
   ]
  },
  {
   "cell_type": "code",
   "execution_count": null,
   "id": "0c19f533",
   "metadata": {},
   "outputs": [],
   "source": []
  }
 ],
 "metadata": {
  "kernelspec": {
   "display_name": "geo",
   "language": "python",
   "name": "geo"
  },
  "language_info": {
   "codemirror_mode": {
    "name": "ipython",
    "version": 3
   },
   "file_extension": ".py",
   "mimetype": "text/x-python",
   "name": "python",
   "nbconvert_exporter": "python",
   "pygments_lexer": "ipython3",
   "version": "3.8.13"
  }
 },
 "nbformat": 4,
 "nbformat_minor": 5
}
