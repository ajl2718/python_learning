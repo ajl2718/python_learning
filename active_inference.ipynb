{
 "cells": [
  {
   "cell_type": "markdown",
   "id": "5bb14fed",
   "metadata": {},
   "source": [
    "# What is active statistical inference and should we care?\n",
    "\n",
    "15 03 24\n",
    "\n",
    "---\n",
    "\n",
    "## Description\n",
    "\n",
    "This notebook demonstrates some examples of the **active statistical inference** technique for obtaining unbiased estimates through a cleverly designed sampling process.\n",
    "\n",
    "## Idea\n",
    "\n",
    "Suppose we want to estimate a particular quantity from a dataset, for example, the prevalence of a particular condition among a human population. One way to do this is to take a random sample from the data and count the number of people in it who have the disease. \n",
    "\n",
    "This involves having someone 'label' each of the points that make up the random sample and often this labelling work is time-consuming. It is therefore desirable to have a method that leads to an estimate of the quantity of interest as accurately as possible with as points in the sample.\n",
    "\n",
    "**Active statistical inference** involves using a trained model as a way of selecting points, rather than selecting them uniformly at random. This, in theory, leads to unbiased estimates of quantities with smaller variance than those obtained otherwise.\n",
    "\n",
    "\n",
    "## Ingredients\n",
    "\n",
    "- A training dataset $D_1 = {(x_1, y_1), (x_2, y_2), \\ldots, (x_n, y_n)}$ consisting of examples $x_i$ and labels $y_i$\n",
    "- A trained model (a classical statistical model or machine learning model), $f$ that takes inputs $x_i$ and produces predictions $\\hat{y}_i := f(x_i)$ along with corresponding probabilities $p_i$.\n",
    "- An unlabelled dataset $D_2 = {x_{n+1}, x_{n+2}, \\ldots, x_{k+n}}$ consisting of $k$ examples that we want to label.\n",
    "- A quantity $\\theta$ to estimate from the unlabelled dataset\n",
    "\n",
    "## Method\n",
    "This notebook compares three approaches to estimating $\\theta$:\n",
    "\n",
    "1) A random sample of $m$ points from $D_2$\n",
    "\n",
    "$$\\hat{\\theta} = \\frac{1}{m}\\sum_{i=1}^m y_i$$\n",
    "\n",
    "And two active inference approaches. Each of these estimates $\\theta$ as \n",
    "\n",
    "$$\\hat{\\theta} = \\frac{1}{m}\\sum_{i=1}^m \\left( f(x_i) + (y_i - f(x_i))\\frac{\\xi_i}{\\pi(x_i)}\\right)$$\n",
    "\n",
    "where:\n",
    "- $\\xi_i$ is equal to 1 only when the point $x_i$ has been selected to be labelled\n",
    "- $\\pi(x_i)$ is the probability of choosing point $x_i$\n",
    "\n",
    "2) $\\pi(x_i) = \\frac{m}{N}$\n",
    "3) $\\pi(x_i) = \\frac{u(x)}{\\mathbb{E}(u(X))}\\frac{m}{N}$, where $u(x)$ is the uncertainty of the model's prediction $f(x)$\n",
    "\n",
    "## Questions\n",
    "\n",
    "- Does this work for algorithms that are poorly calibrated?\n",
    "- Is this method novel or simply rebranding by ML researchers of a stats technique?\n",
    "\n",
    "## References\n",
    "\n",
    "All of the code is based on the following paper:\n",
    "\n",
    "- https://arxiv.org/abs/2403.03208"
   ]
  },
  {
   "cell_type": "code",
   "execution_count": 105,
   "id": "a7b6284b",
   "metadata": {},
   "outputs": [],
   "source": [
    "import pandas as pd\n",
    "import matplotlib.pyplot as plt\n",
    "import seaborn as sns\n",
    "import numpy as np\n",
    "\n",
    "# train a classifier\n",
    "from sklearn.linear_model import LogisticRegression\n",
    "\n",
    "sns.set()\n",
    "%matplotlib inline"
   ]
  },
  {
   "cell_type": "markdown",
   "id": "ab9ec971",
   "metadata": {},
   "source": [
    "## 1. Create some data"
   ]
  },
  {
   "cell_type": "code",
   "execution_count": 125,
   "id": "7fc4b924",
   "metadata": {},
   "outputs": [],
   "source": [
    "# 1-D gaussians\n",
    "n1 = 2048\n",
    "n2 = 1024\n",
    "N = n1 + n2\n",
    "\n",
    "x1 = np.random.randn(n1)\n",
    "x2 = np.random.randn(n2)-3\n",
    "y1 = np.ones(n1)\n",
    "y2 = np.zeros(n2)\n",
    "\n",
    "x = np.concatenate([x1, x2])\n",
    "y = np.concatenate([y1, y2])\n",
    "\n",
    "df = pd.DataFrame(data={'x': x, 'y': y})"
   ]
  },
  {
   "cell_type": "code",
   "execution_count": 109,
   "id": "49e7bfc1",
   "metadata": {},
   "outputs": [],
   "source": [
    "# create some test data\n",
    "x1t = np.random.randn(n1)\n",
    "x2t = np.random.randn(n2)-3\n",
    "y1t = np.ones(n1)\n",
    "y2t = np.zeros(n2)\n",
    "\n",
    "xt = np.concatenate([x1t, x2t])\n",
    "yt = np.concatenate([y1t, y2t])\n",
    "\n",
    "dft = pd.DataFrame(data={'x': xt, 'y': yt})"
   ]
  },
  {
   "cell_type": "markdown",
   "id": "17b85964",
   "metadata": {},
   "source": [
    "## 2. Fit a logistic regression to the training data"
   ]
  },
  {
   "cell_type": "code",
   "execution_count": 110,
   "id": "e379ffa5",
   "metadata": {},
   "outputs": [
    {
     "data": {
      "text/html": [
       "<style>#sk-container-id-2 {color: black;background-color: white;}#sk-container-id-2 pre{padding: 0;}#sk-container-id-2 div.sk-toggleable {background-color: white;}#sk-container-id-2 label.sk-toggleable__label {cursor: pointer;display: block;width: 100%;margin-bottom: 0;padding: 0.3em;box-sizing: border-box;text-align: center;}#sk-container-id-2 label.sk-toggleable__label-arrow:before {content: \"▸\";float: left;margin-right: 0.25em;color: #696969;}#sk-container-id-2 label.sk-toggleable__label-arrow:hover:before {color: black;}#sk-container-id-2 div.sk-estimator:hover label.sk-toggleable__label-arrow:before {color: black;}#sk-container-id-2 div.sk-toggleable__content {max-height: 0;max-width: 0;overflow: hidden;text-align: left;background-color: #f0f8ff;}#sk-container-id-2 div.sk-toggleable__content pre {margin: 0.2em;color: black;border-radius: 0.25em;background-color: #f0f8ff;}#sk-container-id-2 input.sk-toggleable__control:checked~div.sk-toggleable__content {max-height: 200px;max-width: 100%;overflow: auto;}#sk-container-id-2 input.sk-toggleable__control:checked~label.sk-toggleable__label-arrow:before {content: \"▾\";}#sk-container-id-2 div.sk-estimator input.sk-toggleable__control:checked~label.sk-toggleable__label {background-color: #d4ebff;}#sk-container-id-2 div.sk-label input.sk-toggleable__control:checked~label.sk-toggleable__label {background-color: #d4ebff;}#sk-container-id-2 input.sk-hidden--visually {border: 0;clip: rect(1px 1px 1px 1px);clip: rect(1px, 1px, 1px, 1px);height: 1px;margin: -1px;overflow: hidden;padding: 0;position: absolute;width: 1px;}#sk-container-id-2 div.sk-estimator {font-family: monospace;background-color: #f0f8ff;border: 1px dotted black;border-radius: 0.25em;box-sizing: border-box;margin-bottom: 0.5em;}#sk-container-id-2 div.sk-estimator:hover {background-color: #d4ebff;}#sk-container-id-2 div.sk-parallel-item::after {content: \"\";width: 100%;border-bottom: 1px solid gray;flex-grow: 1;}#sk-container-id-2 div.sk-label:hover label.sk-toggleable__label {background-color: #d4ebff;}#sk-container-id-2 div.sk-serial::before {content: \"\";position: absolute;border-left: 1px solid gray;box-sizing: border-box;top: 0;bottom: 0;left: 50%;z-index: 0;}#sk-container-id-2 div.sk-serial {display: flex;flex-direction: column;align-items: center;background-color: white;padding-right: 0.2em;padding-left: 0.2em;position: relative;}#sk-container-id-2 div.sk-item {position: relative;z-index: 1;}#sk-container-id-2 div.sk-parallel {display: flex;align-items: stretch;justify-content: center;background-color: white;position: relative;}#sk-container-id-2 div.sk-item::before, #sk-container-id-2 div.sk-parallel-item::before {content: \"\";position: absolute;border-left: 1px solid gray;box-sizing: border-box;top: 0;bottom: 0;left: 50%;z-index: -1;}#sk-container-id-2 div.sk-parallel-item {display: flex;flex-direction: column;z-index: 1;position: relative;background-color: white;}#sk-container-id-2 div.sk-parallel-item:first-child::after {align-self: flex-end;width: 50%;}#sk-container-id-2 div.sk-parallel-item:last-child::after {align-self: flex-start;width: 50%;}#sk-container-id-2 div.sk-parallel-item:only-child::after {width: 0;}#sk-container-id-2 div.sk-dashed-wrapped {border: 1px dashed gray;margin: 0 0.4em 0.5em 0.4em;box-sizing: border-box;padding-bottom: 0.4em;background-color: white;}#sk-container-id-2 div.sk-label label {font-family: monospace;font-weight: bold;display: inline-block;line-height: 1.2em;}#sk-container-id-2 div.sk-label-container {text-align: center;}#sk-container-id-2 div.sk-container {/* jupyter's `normalize.less` sets `[hidden] { display: none; }` but bootstrap.min.css set `[hidden] { display: none !important; }` so we also need the `!important` here to be able to override the default hidden behavior on the sphinx rendered scikit-learn.org. See: https://github.com/scikit-learn/scikit-learn/issues/21755 */display: inline-block !important;position: relative;}#sk-container-id-2 div.sk-text-repr-fallback {display: none;}</style><div id=\"sk-container-id-2\" class=\"sk-top-container\"><div class=\"sk-text-repr-fallback\"><pre>LogisticRegression()</pre><b>In a Jupyter environment, please rerun this cell to show the HTML representation or trust the notebook. <br />On GitHub, the HTML representation is unable to render, please try loading this page with nbviewer.org.</b></div><div class=\"sk-container\" hidden><div class=\"sk-item\"><div class=\"sk-estimator sk-toggleable\"><input class=\"sk-toggleable__control sk-hidden--visually\" id=\"sk-estimator-id-2\" type=\"checkbox\" checked><label for=\"sk-estimator-id-2\" class=\"sk-toggleable__label sk-toggleable__label-arrow\">LogisticRegression</label><div class=\"sk-toggleable__content\"><pre>LogisticRegression()</pre></div></div></div></div></div>"
      ],
      "text/plain": [
       "LogisticRegression()"
      ]
     },
     "execution_count": 110,
     "metadata": {},
     "output_type": "execute_result"
    }
   ],
   "source": [
    "clf = LogisticRegression()\n",
    "\n",
    "clf.fit(x.reshape(-1, 1), y)"
   ]
  },
  {
   "cell_type": "markdown",
   "id": "0ad7f7dc",
   "metadata": {},
   "source": [
    "## 3. Make some predictions"
   ]
  },
  {
   "cell_type": "code",
   "execution_count": 180,
   "id": "a4a76b7b",
   "metadata": {},
   "outputs": [],
   "source": [
    "yt_probs = clf.predict_proba(xt.reshape(-1, 1))[:, 1]\n",
    "yt_pred = clf.predict(xt.reshape(-1, 1))\n",
    "\n",
    "# calculate the entropy as measure of uncertainty in prediction\n",
    "dft['y_pred'] = yt_pred\n",
    "dft['y_pred_prob'] = yt_probs"
   ]
  },
  {
   "cell_type": "code",
   "execution_count": 181,
   "id": "a1364271",
   "metadata": {},
   "outputs": [
    {
     "data": {
      "image/png": "[encoded data removed]",
      "text/plain": [
       "<Figure size 600x400 with 1 Axes>"
      ]
     },
     "metadata": {},
     "output_type": "display_data"
    }
   ],
   "source": [
    "plt.figure(figsize=(6, 4))\n",
    "sns.histplot(data=df, x='x', hue='y')\n",
    "plt.show()"
   ]
  },
  {
   "cell_type": "markdown",
   "id": "7ba3aa34",
   "metadata": {},
   "source": [
    "## 4. Sample schemes\n"
   ]
  },
  {
   "cell_type": "markdown",
   "id": "b2a1b800",
   "metadata": {},
   "source": [
    "### 4.1. Uniform random sampling"
   ]
  },
  {
   "cell_type": "code",
   "execution_count": 268,
   "id": "1cfc86d0",
   "metadata": {},
   "outputs": [],
   "source": [
    "# take num_samples samples from the distribution\n",
    "num_samples = 8192\n",
    "sample_size = 64\n",
    "\n",
    "sample_estimates1 = []\n",
    "\n",
    "for n in range(num_samples):\n",
    "    sample_estimates1.append(df.sample(sample_size).y.mean())"
   ]
  },
  {
   "cell_type": "markdown",
   "id": "dc05a8a6",
   "metadata": {},
   "source": [
    "### 4.2. Active inference with all points chosen with equal probability"
   ]
  },
  {
   "cell_type": "code",
   "execution_count": 269,
   "id": "6f3c0e2f",
   "metadata": {},
   "outputs": [
    {
     "data": {
      "text/plain": [
       "0.020833333333333332"
      ]
     },
     "execution_count": 269,
     "metadata": {},
     "output_type": "execute_result"
    }
   ],
   "source": [
    "p = sample_size / N\n",
    "p"
   ]
  },
  {
   "cell_type": "code",
   "execution_count": 270,
   "id": "08a46265",
   "metadata": {},
   "outputs": [],
   "source": [
    "sample_estimates2 = []\n",
    "\n",
    "for n in range(num_samples):\n",
    "    indicators = np.random.binomial(1, p, N)\n",
    "    dft['indicator'] = indicators\n",
    "    # calculate the estimate\n",
    "    subset = dft.query('indicator == 1')\n",
    "    theta_1 = dft.y_pred.mean()\n",
    "    theta_2 = (subset.y - subset.y_pred).sum() / sample_size\n",
    "    theta = theta_1 + theta_2\n",
    "    sample_estimates2.append(theta)"
   ]
  },
  {
   "cell_type": "markdown",
   "id": "555f09a7",
   "metadata": {},
   "source": [
    "### 4.3. Active inference with points chosen based on the uncertainty in the model prediction"
   ]
  },
  {
   "cell_type": "code",
   "execution_count": 271,
   "id": "a4c50246",
   "metadata": {},
   "outputs": [],
   "source": [
    "def u_good(q):\n",
    "    return 2 * np.min([q, 1-q])"
   ]
  },
  {
   "cell_type": "code",
   "execution_count": 272,
   "id": "70f5b696",
   "metadata": {},
   "outputs": [],
   "source": [
    "dft['u'] = [u_good(q) for q in dft.y_pred_prob]"
   ]
  },
  {
   "cell_type": "code",
   "execution_count": 273,
   "id": "0662cbc4",
   "metadata": {},
   "outputs": [],
   "source": [
    "# expected u\n",
    "u_mean = dft['u'].mean()"
   ]
  },
  {
   "cell_type": "code",
   "execution_count": 274,
   "id": "c1e4fc43",
   "metadata": {},
   "outputs": [],
   "source": [
    "sample_estimates3 = []\n",
    "\n",
    "for n in range(num_samples):\n",
    "    # for each of the points assign the probability\n",
    "    dft['indicator_prob'] = dft['u'] / u_mean * sample_size / N\n",
    "    dft['indicator2'] = [np.random.binomial(1, q) for q in dft['indicator_prob'].values]\n",
    "    subset = dft.query('indicator2 == 1')\n",
    "    theta_1 = dft.y_pred.mean()\n",
    "    theta_2 = 1/N*((subset.y.values - subset.y_pred.values) / subset.indicator_prob.values).sum()\n",
    "    theta = theta_1 + theta_2\n",
    "    sample_estimates3.append(theta)"
   ]
  },
  {
   "cell_type": "markdown",
   "id": "740c2d45",
   "metadata": {},
   "source": [
    "## 5. Final results"
   ]
  },
  {
   "cell_type": "code",
   "execution_count": 275,
   "id": "8870aaca",
   "metadata": {},
   "outputs": [],
   "source": [
    "# show results from the different sampling schemes\n",
    "all_samples = sample_estimates1 + sample_estimates2 + sample_estimates3\n",
    "sample_labels = [0 for _ in range(len(sample_estimates1))] + [1 for _ in range(len(sample_estimates2))] + [2 for _ in range(len(sample_estimates2))]"
   ]
  },
  {
   "cell_type": "code",
   "execution_count": 276,
   "id": "516ff156",
   "metadata": {},
   "outputs": [],
   "source": [
    "df_results = pd.DataFrame(data={'estimate': all_samples, 'scheme': sample_labels})"
   ]
  },
  {
   "cell_type": "code",
   "execution_count": 277,
   "id": "ca4a26e8",
   "metadata": {},
   "outputs": [
    {
     "data": {
      "image/png": "[encoded data removed]",
      "text/plain": [
       "<Figure size 600x400 with 1 Axes>"
      ]
     },
     "metadata": {},
     "output_type": "display_data"
    }
   ],
   "source": [
    "plt.figure(figsize=(6, 4))\n",
    "sns.boxplot(data=df_results, x='scheme', y='estimate')\n",
    "plt.show()"
   ]
  },
  {
   "cell_type": "code",
   "execution_count": 278,
   "id": "01639fbe",
   "metadata": {},
   "outputs": [
    {
     "name": "stderr",
     "output_type": "stream",
     "text": [
      "/home/alex/.pyenv/versions/3.10.6/lib/python3.10/site-packages/seaborn/axisgrid.py:118: UserWarning: The figure layout has changed to tight\n",
      "  self._figure.tight_layout(*args, **kwargs)\n"
     ]
    },
    {
     "data": {
      "text/plain": [
       "<Figure size 600x400 with 0 Axes>"
      ]
     },
     "metadata": {},
     "output_type": "display_data"
    },
    {
     "data": {
      "image/png": "[encoded data removed]",
      "text/plain": [
       "<Figure size 1500x500 with 3 Axes>"
      ]
     },
     "metadata": {},
     "output_type": "display_data"
    }
   ],
   "source": [
    "plt.figure(figsize=(6, 4))\n",
    "sns.displot(data=df_results, \n",
    "            x='estimate', \n",
    "            col='scheme', \n",
    "            bins=16)\n",
    "plt.show()"
   ]
  },
  {
   "cell_type": "code",
   "execution_count": 283,
   "id": "fde430fe",
   "metadata": {},
   "outputs": [
    {
     "name": "stdout",
     "output_type": "stream",
     "text": [
      "Scheme 1: average: 0.6659870147705078, mean: 0.05791942979797631\n",
      "Scheme 2: average: 0.6663468678792319, mean: 0.030137092900190253\n",
      "Scheme 3: average: 0.6664579850527511, mean: 0.023245440844779083\n"
     ]
    }
   ],
   "source": [
    "print(f\"Scheme 1: average: {np.mean(sample_estimates1)}, mean: {np.sqrt(np.var(sample_estimates1))}\")\n",
    "print(f\"Scheme 2: average: {np.mean(sample_estimates2)}, mean: {np.sqrt(np.var(sample_estimates2))}\")\n",
    "print(f\"Scheme 3: average: {np.mean(sample_estimates3)}, mean: {np.sqrt(np.var(sample_estimates3))}\")"
   ]
  }
 ],
 "metadata": {
  "kernelspec": {
   "display_name": "Python 3 (ipykernel)",
   "language": "python",
   "name": "python3"
  },
  "language_info": {
   "codemirror_mode": {
    "name": "ipython",
    "version": 3
   },
   "file_extension": ".py",
   "mimetype": "text/x-python",
   "name": "python",
   "nbconvert_exporter": "python",
   "pygments_lexer": "ipython3",
   "version": "3.10.6"
  }
 },
 "nbformat": 4,
 "nbformat_minor": 5
}
