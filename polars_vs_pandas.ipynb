{
 "cells": [
  {
   "cell_type": "markdown",
   "id": "2eae9349-b68a-4d92-aa47-84fa1b6d225d",
   "metadata": {},
   "source": [
    "# Polars vs Pandas \n",
    "\n",
    "03 04 24\n",
    "\n",
    "---\n",
    "\n",
    "Comparing Polars and Pandas packages for loading and transforming data"
   ]
  },
  {
   "cell_type": "code",
   "execution_count": 1,
   "id": "355555b5-fc13-470f-80c2-f55d7db22cb7",
   "metadata": {},
   "outputs": [],
   "source": [
    "import polars as pl\n",
    "import pandas as pd\n",
    "\n",
    "import matplotlib.pyplot as plt\n",
    "import seaborn as sns\n",
    "\n",
    "from time import time\n",
    "\n",
    "sns.set()\n",
    "%matplotlib inline"
   ]
  },
  {
   "cell_type": "markdown",
   "id": "c46afe29-966d-4ed5-9e32-2914705afa45",
   "metadata": {},
   "source": [
    "## Load data"
   ]
  },
  {
   "cell_type": "code",
   "execution_count": 2,
   "id": "91d97586-bad6-4603-8fd3-d32eaa72d59b",
   "metadata": {},
   "outputs": [],
   "source": [
    "data_folder = '/Users/alexlee/Desktop/Data'\n",
    "filename_gnaf = f'{data_folder}/geo/gnaf_feb2024/GNAF_CORE.psv'\n",
    "filename_gnaf_parquet = f'{data_folder}/geo/gnaf_feb2024/GNAF_CORE.parquet'"
   ]
  },
  {
   "cell_type": "code",
   "execution_count": 3,
   "id": "f5cf7ce3-ce9a-4531-8f8e-2521c26232fb",
   "metadata": {},
   "outputs": [
    {
     "data": {
      "text/plain": [
       "(15608317, 27)"
      ]
     },
     "execution_count": 3,
     "metadata": {},
     "output_type": "execute_result"
    }
   ],
   "source": [
    "gnaf = pd.read_csv(filename_gnaf, sep='|')\n",
    "gnaf.shape"
   ]
  },
  {
   "cell_type": "markdown",
   "id": "1427764d-3689-44f4-bfdc-6cbca3ecfba6",
   "metadata": {},
   "source": [
    "## Queries"
   ]
  },
  {
   "cell_type": "markdown",
   "id": "10fd47e7-073f-4041-98b1-20032b6cb3c5",
   "metadata": {},
   "source": [
    "### Pandas"
   ]
  },
  {
   "cell_type": "markdown",
   "id": "0b67d6cf-23f5-4d4b-8282-ba3c88b5ff2f",
   "metadata": {},
   "source": [
    "How many addresses for each street in postcode 3000?"
   ]
  },
  {
   "cell_type": "code",
   "execution_count": 4,
   "id": "ad60fb96-e554-46a2-8a5c-07c949ba65a3",
   "metadata": {},
   "outputs": [
    {
     "data": {
      "text/plain": [
       "STREET_NAME\n",
       "LONSDALE           11138\n",
       "ABECKETT           10538\n",
       "COLLINS            10066\n",
       "LITTLE LONSDALE     9718\n",
       "LA TROBE            7462\n",
       "                   ...  \n",
       "RUTLEDGE               1\n",
       "HEAPE                  1\n",
       "HARWOOD                1\n",
       "RACING CLUB            1\n",
       "DOMAIN                 1\n",
       "Length: 165, dtype: int64"
      ]
     },
     "execution_count": 4,
     "metadata": {},
     "output_type": "execute_result"
    }
   ],
   "source": [
    "# filter to postcode 3000\n",
    "gnaf_melbourne = gnaf[gnaf['POSTCODE'] == 3000]\n",
    "\n",
    "# count the number of addresses per street in postcode 3000\n",
    "melbourne_street_counts = gnaf_melbourne.groupby('STREET_NAME').size()\n",
    "\n",
    "# sort the data in descending order by the number of addresses\n",
    "melbourne_street_counts.sort_values(ascending=False)"
   ]
  },
  {
   "cell_type": "code",
   "execution_count": 5,
   "id": "e49e347d-5617-45a0-8068-45b913ebddc4",
   "metadata": {},
   "outputs": [
    {
     "data": {
      "text/plain": [
       "STREET_NAME\n",
       "LONSDALE           11138\n",
       "ABECKETT           10538\n",
       "COLLINS            10066\n",
       "LITTLE LONSDALE     9718\n",
       "LA TROBE            7462\n",
       "                   ...  \n",
       "RUTLEDGE               1\n",
       "HEAPE                  1\n",
       "HARWOOD                1\n",
       "RACING CLUB            1\n",
       "DOMAIN                 1\n",
       "Length: 165, dtype: int64"
      ]
     },
     "execution_count": 5,
     "metadata": {},
     "output_type": "execute_result"
    }
   ],
   "source": [
    "gnaf.query('POSTCODE == 3000').groupby('STREET_NAME').size().sort_values(ascending=False)"
   ]
  },
  {
   "cell_type": "code",
   "execution_count": 6,
   "id": "d18c85d0-d03d-405f-a2d8-4b9044fe6116",
   "metadata": {},
   "outputs": [
    {
     "data": {
      "text/plain": [
       "STREET_NAME\n",
       "LONSDALE           11138\n",
       "ABECKETT           10538\n",
       "COLLINS            10066\n",
       "LITTLE LONSDALE     9718\n",
       "LA TROBE            7462\n",
       "                   ...  \n",
       "RUTLEDGE               1\n",
       "HEAPE                  1\n",
       "HARWOOD                1\n",
       "RACING CLUB            1\n",
       "DOMAIN                 1\n",
       "Length: 165, dtype: int64"
      ]
     },
     "execution_count": 6,
     "metadata": {},
     "output_type": "execute_result"
    }
   ],
   "source": [
    "(\n",
    "    gnaf\n",
    "    .query('POSTCODE == 3000')\n",
    "    .groupby('STREET_NAME')\n",
    "    .size()\n",
    "    .sort_values(ascending=False)\n",
    ")"
   ]
  },
  {
   "cell_type": "markdown",
   "id": "161a5c32-82f0-4b3a-881b-77062f0706cf",
   "metadata": {},
   "source": [
    "What is the distribution of starting letters for streets in NSW?"
   ]
  },
  {
   "cell_type": "code",
   "execution_count": 7,
   "id": "c27f67f9-61cf-4ef1-aed0-d500b2515f79",
   "metadata": {},
   "outputs": [
    {
     "data": {
      "text/plain": [
       "STREET_NAME\n",
       "B    500267\n",
       "C    467428\n",
       "M    426049\n",
       "S    326787\n",
       "P    299393\n",
       "W    296203\n",
       "H    258910\n",
       "G    250268\n",
       "A    220864\n",
       "R    217310\n",
       "T    213359\n",
       "L    196466\n",
       "D    181450\n",
       "K    167153\n",
       "F    161510\n",
       "E    143570\n",
       "N    121485\n",
       "O    119007\n",
       "J     86372\n",
       "V     68137\n",
       "I     37394\n",
       "Y     36899\n",
       "Q     26382\n",
       "U     22352\n",
       "Z      2993\n",
       "X       123\n",
       "4        21\n",
       "Name: count, dtype: int64"
      ]
     },
     "execution_count": 7,
     "metadata": {},
     "output_type": "execute_result"
    }
   ],
   "source": [
    "(\n",
    "    gnaf\n",
    "    .query('STATE == \"NSW\"')\n",
    "    .STREET_NAME\n",
    "    .str.slice(0, 1)\n",
    "    .value_counts()\n",
    ")"
   ]
  },
  {
   "cell_type": "markdown",
   "id": "7a50b644-864a-4a9a-a526-9c5077a4e74d",
   "metadata": {},
   "source": [
    "### Polars"
   ]
  },
  {
   "cell_type": "code",
   "execution_count": 8,
   "id": "4b862245-0882-4163-b369-02a48cf3044f",
   "metadata": {},
   "outputs": [
    {
     "data": {
      "text/plain": [
       "(15608317, 27)"
      ]
     },
     "execution_count": 8,
     "metadata": {},
     "output_type": "execute_result"
    }
   ],
   "source": [
    "gnaf = pl.read_csv(filename_gnaf, separator='|', infer_schema_length=10000)\n",
    "gnaf.shape"
   ]
  },
  {
   "cell_type": "code",
   "execution_count": 9,
   "id": "dcd07015-2a60-4e74-8eef-74d8964e84ac",
   "metadata": {},
   "outputs": [
    {
     "data": {
      "text/html": [
       "<div><style>\n",
       ".dataframe > thead > tr,\n",
       ".dataframe > tbody > tr {\n",
       "  text-align: right;\n",
       "  white-space: pre-wrap;\n",
       "}\n",
       "</style>\n",
       "<small>shape: (165, 2)</small><table border=\"1\" class=\"dataframe\"><thead><tr><th>STREET_NAME</th><th>len</th></tr><tr><td>str</td><td>u32</td></tr></thead><tbody><tr><td>&quot;LONSDALE&quot;</td><td>11138</td></tr><tr><td>&quot;ABECKETT&quot;</td><td>10538</td></tr><tr><td>&quot;COLLINS&quot;</td><td>10066</td></tr><tr><td>&quot;LITTLE LONSDAL…</td><td>9718</td></tr><tr><td>&quot;LA TROBE&quot;</td><td>7462</td></tr><tr><td>&hellip;</td><td>&hellip;</td></tr><tr><td>&quot;WELLINGTON&quot;</td><td>1</td></tr><tr><td>&quot;RUTLEDGE&quot;</td><td>1</td></tr><tr><td>&quot;ACDC&quot;</td><td>1</td></tr><tr><td>&quot;CHURCH&quot;</td><td>1</td></tr><tr><td>&quot;BROWN&quot;</td><td>1</td></tr></tbody></table></div>"
      ],
      "text/plain": [
       "shape: (165, 2)\n",
       "┌─────────────────┬───────┐\n",
       "│ STREET_NAME     ┆ len   │\n",
       "│ ---             ┆ ---   │\n",
       "│ str             ┆ u32   │\n",
       "╞═════════════════╪═══════╡\n",
       "│ LONSDALE        ┆ 11138 │\n",
       "│ ABECKETT        ┆ 10538 │\n",
       "│ COLLINS         ┆ 10066 │\n",
       "│ LITTLE LONSDALE ┆ 9718  │\n",
       "│ LA TROBE        ┆ 7462  │\n",
       "│ …               ┆ …     │\n",
       "│ WELLINGTON      ┆ 1     │\n",
       "│ RUTLEDGE        ┆ 1     │\n",
       "│ ACDC            ┆ 1     │\n",
       "│ CHURCH          ┆ 1     │\n",
       "│ BROWN           ┆ 1     │\n",
       "└─────────────────┴───────┘"
      ]
     },
     "execution_count": 9,
     "metadata": {},
     "output_type": "execute_result"
    }
   ],
   "source": [
    "(\n",
    "    gnaf\n",
    "    .filter(pl.col(\"POSTCODE\") == 3000)\n",
    "    .group_by(\"STREET_NAME\")\n",
    "    .len()\n",
    "    .sort('len', descending=True)\n",
    ")"
   ]
  },
  {
   "cell_type": "code",
   "execution_count": 10,
   "id": "afb5eb29-1a83-4240-88e1-eb6988331833",
   "metadata": {},
   "outputs": [
    {
     "name": "stderr",
     "output_type": "stream",
     "text": [
      "/var/folders/7h/4cq59zrd6vb2jqwxh3wdk3nw0000gn/T/ipykernel_2994/1041641723.py:7: DeprecationWarning: `count` is deprecated. It has been renamed to `len`.\n",
      "  .count()\n"
     ]
    },
    {
     "data": {
      "text/html": [
       "<div><style>\n",
       ".dataframe > thead > tr,\n",
       ".dataframe > tbody > tr {\n",
       "  text-align: right;\n",
       "  white-space: pre-wrap;\n",
       "}\n",
       "</style>\n",
       "<small>shape: (27, 2)</small><table border=\"1\" class=\"dataframe\"><thead><tr><th>letter</th><th>count</th></tr><tr><td>str</td><td>u32</td></tr></thead><tbody><tr><td>&quot;B&quot;</td><td>500267</td></tr><tr><td>&quot;C&quot;</td><td>467428</td></tr><tr><td>&quot;M&quot;</td><td>426049</td></tr><tr><td>&quot;S&quot;</td><td>326787</td></tr><tr><td>&quot;P&quot;</td><td>299393</td></tr><tr><td>&hellip;</td><td>&hellip;</td></tr><tr><td>&quot;Q&quot;</td><td>26382</td></tr><tr><td>&quot;U&quot;</td><td>22352</td></tr><tr><td>&quot;Z&quot;</td><td>2993</td></tr><tr><td>&quot;X&quot;</td><td>123</td></tr><tr><td>&quot;4&quot;</td><td>21</td></tr></tbody></table></div>"
      ],
      "text/plain": [
       "shape: (27, 2)\n",
       "┌────────┬────────┐\n",
       "│ letter ┆ count  │\n",
       "│ ---    ┆ ---    │\n",
       "│ str    ┆ u32    │\n",
       "╞════════╪════════╡\n",
       "│ B      ┆ 500267 │\n",
       "│ C      ┆ 467428 │\n",
       "│ M      ┆ 426049 │\n",
       "│ S      ┆ 326787 │\n",
       "│ P      ┆ 299393 │\n",
       "│ …      ┆ …      │\n",
       "│ Q      ┆ 26382  │\n",
       "│ U      ┆ 22352  │\n",
       "│ Z      ┆ 2993   │\n",
       "│ X      ┆ 123    │\n",
       "│ 4      ┆ 21     │\n",
       "└────────┴────────┘"
      ]
     },
     "execution_count": 10,
     "metadata": {},
     "output_type": "execute_result"
    }
   ],
   "source": [
    "(\n",
    "    gnaf\n",
    "    .filter(pl.col('STATE') == \"NSW\")\n",
    "    .select(pl.col(\"STREET_NAME\"))\n",
    "    .with_columns(pl.col(\"STREET_NAME\").str.slice(0, 1).alias(\"letter\"))\n",
    "    .group_by('letter')\n",
    "    .count()\n",
    "    .sort('count', descending=True)\n",
    ")"
   ]
  },
  {
   "cell_type": "markdown",
   "id": "296e9159-a0f8-4f23-8266-e1d637cc9bf4",
   "metadata": {},
   "source": [
    "## Speed comparison"
   ]
  },
  {
   "cell_type": "markdown",
   "id": "7fc67f62-8918-42cd-ad5e-a72fe605f47d",
   "metadata": {},
   "source": [
    "Loading data in Polars vs Pandas"
   ]
  },
  {
   "cell_type": "code",
   "execution_count": 11,
   "id": "81f6fd12-e32d-4a7a-8b09-a90111944a1c",
   "metadata": {},
   "outputs": [
    {
     "name": "stdout",
     "output_type": "stream",
     "text": [
      "4.853427886962891\n",
      "39.20191216468811\n"
     ]
    }
   ],
   "source": [
    "# polars\n",
    "t1 = time()\n",
    "gnaf = pl.read_csv(filename_gnaf, separator='|', infer_schema_length=10000)\n",
    "t2 = time()\n",
    "print(t2-t1)\n",
    "\n",
    "# pandas\n",
    "t1 = time()\n",
    "gnaf = pd.read_csv(filename_gnaf, sep='|')\n",
    "t2 = time()\n",
    "print(t2-t1)"
   ]
  },
  {
   "cell_type": "code",
   "execution_count": 12,
   "id": "a0cc7ed1-129b-411b-a416-948d30358e73",
   "metadata": {},
   "outputs": [],
   "source": [
    "gnaf_polars = pl.read_csv(filename_gnaf, separator='|', infer_schema_length=10000)\n",
    "gnaf_pandas = pd.read_csv(filename_gnaf, sep='|')"
   ]
  },
  {
   "cell_type": "markdown",
   "id": "b87372b5-8053-4139-8245-780e4667e3d1",
   "metadata": {},
   "source": [
    "Comparing the speed of some simple queries"
   ]
  },
  {
   "cell_type": "code",
   "execution_count": 13,
   "id": "b379d191-af99-422e-8984-c23a7dad1177",
   "metadata": {},
   "outputs": [
    {
     "name": "stderr",
     "output_type": "stream",
     "text": [
      "/var/folders/7h/4cq59zrd6vb2jqwxh3wdk3nw0000gn/T/ipykernel_2994/2471861764.py:9: DeprecationWarning: `count` is deprecated. It has been renamed to `len`.\n",
      "  .count()\n"
     ]
    },
    {
     "name": "stdout",
     "output_type": "stream",
     "text": [
      "3.8098649978637695\n",
      "3.2129640579223633\n"
     ]
    }
   ],
   "source": [
    "# polars\n",
    "t1 = time()\n",
    "(\n",
    "    gnaf_polars\n",
    "    .filter(pl.col('STATE') == \"NSW\")\n",
    "    .select(pl.col(\"STREET_NAME\"))\n",
    "    .with_columns(pl.col(\"STREET_NAME\").str.slice(0, 1).alias(\"letter\"))\n",
    "    .group_by('letter')\n",
    "    .count()\n",
    "    .sort('count', descending=True)\n",
    ")\n",
    "t2 = time()\n",
    "print(t2-t1)\n",
    "\n",
    "# pandas\n",
    "t1 = time()\n",
    "(\n",
    "    gnaf_pandas\n",
    "    .query('STATE == \"NSW\"')\n",
    "    .STREET_NAME\n",
    "    .str.slice(0, 1)\n",
    "    .value_counts()\n",
    ")\n",
    "t2 = time()\n",
    "print(t2-t1)"
   ]
  },
  {
   "cell_type": "code",
   "execution_count": 14,
   "id": "2ac5e651-9b78-4e0d-b896-5feb4f5590e9",
   "metadata": {},
   "outputs": [
    {
     "name": "stdout",
     "output_type": "stream",
     "text": [
      "2.3313450813293457\n",
      "1.1500351428985596\n"
     ]
    }
   ],
   "source": [
    "# polars\n",
    "t1 = time()\n",
    "(\n",
    "    gnaf_polars\n",
    "    .filter(pl.col(\"POSTCODE\") == 3000)\n",
    "    .group_by(\"STREET_NAME\")\n",
    "    .len()\n",
    "    .sort('len', descending=True)\n",
    ")\n",
    "t2 = time()\n",
    "print(t2 - t1)\n",
    "\n",
    "# pandas\n",
    "t1 = time()\n",
    "results = (\n",
    "    gnaf_pandas\n",
    "    .query('POSTCODE == 3000')\n",
    "    .groupby('STREET_NAME')\n",
    "    .size()\n",
    "    .sort_values(ascending=False)\n",
    ")\n",
    "t2 = time()\n",
    "print(t2-t1)"
   ]
  },
  {
   "cell_type": "markdown",
   "id": "f486167f-11d2-45e1-af87-a2d0d6cb83d4",
   "metadata": {},
   "source": [
    "## Loading parquet files"
   ]
  },
  {
   "cell_type": "code",
   "execution_count": 15,
   "id": "199544c3-1611-4a81-a89b-3c8d54d7221a",
   "metadata": {},
   "outputs": [
    {
     "name": "stdout",
     "output_type": "stream",
     "text": [
      "26.306514978408813\n",
      "16.54242491722107\n"
     ]
    }
   ],
   "source": [
    "# load in pandas\n",
    "t1 = time()\n",
    "gnaf = pd.read_parquet(filename_gnaf_parquet)\n",
    "t2 = time()\n",
    "print(t2-t1)\n",
    "\n",
    "# load in polars\n",
    "t1 = time()\n",
    "gnaf = pl.read_parquet(filename_gnaf_parquet)\n",
    "t2 = time()\n",
    "print(t2-t1)"
   ]
  },
  {
   "cell_type": "markdown",
   "id": "c30902fa-d61d-48fa-abaa-dc41ad5ef547",
   "metadata": {},
   "source": [
    "## Lazy evaluation"
   ]
  },
  {
   "cell_type": "code",
   "execution_count": 16,
   "id": "1fb7794d-c34e-4cf8-b018-3eebb6d16c49",
   "metadata": {},
   "outputs": [
    {
     "name": "stdout",
     "output_type": "stream",
     "text": [
      "0.11325383186340332\n"
     ]
    }
   ],
   "source": [
    "gnaf = pl.scan_parquet(filename_gnaf_parquet)\n",
    "t1 = time()\n",
    "(\n",
    "    gnaf\n",
    "    .filter(pl.col(\"POSTCODE\") == 3000)\n",
    "    .group_by(\"STREET_NAME\")\n",
    "    .len()\n",
    "    .sort('len', descending=True)\n",
    "    .collect()\n",
    ")\n",
    "t2 = time()\n",
    "print(t2 - t1)"
   ]
  },
  {
   "cell_type": "code",
   "execution_count": 17,
   "id": "e29fc28f-f43e-4854-bdb9-dd67bec48f10",
   "metadata": {},
   "outputs": [
    {
     "name": "stdout",
     "output_type": "stream",
     "text": [
      "0.19588303565979004\n"
     ]
    }
   ],
   "source": [
    "t1 = time()\n",
    "(\n",
    "    gnaf\n",
    "    .filter(pl.col('STATE') == \"NSW\")\n",
    "    .select(pl.col(\"STREET_NAME\"))\n",
    "    .with_columns(pl.col(\"STREET_NAME\").str.slice(0, 1).alias(\"letter\"))\n",
    "    .group_by('letter')\n",
    "    .len()\n",
    "    .sort('len', descending=True)\n",
    "    .collect()\n",
    ")\n",
    "t2 = time()\n",
    "print(t2-t1)"
   ]
  },
  {
   "cell_type": "markdown",
   "id": "78a4c130-034b-4ca3-9eaa-2788b640407c",
   "metadata": {},
   "source": [
    "## Larger than memory datasets"
   ]
  },
  {
   "cell_type": "code",
   "execution_count": null,
   "id": "9351f595-ca6b-49b8-97e5-c1d9d8bd9769",
   "metadata": {},
   "outputs": [],
   "source": [
    "from os import listdir"
   ]
  },
  {
   "cell_type": "code",
   "execution_count": 166,
   "id": "583d1f93-47a9-4ef1-b6e1-23ed014b8afe",
   "metadata": {},
   "outputs": [],
   "source": [
    "nyc_folder = '/Users/alexlee/Desktop/Data'\n",
    "\n",
    "filenames_nyc = f'{data_folder}/test_data/nyc_taxi'"
   ]
  },
  {
   "cell_type": "code",
   "execution_count": 167,
   "id": "cf1858cd-481e-4eec-927e-ad905922f037",
   "metadata": {},
   "outputs": [],
   "source": [
    "all_files = listdir(filenames_nyc)"
   ]
  },
  {
   "cell_type": "code",
   "execution_count": 168,
   "id": "5a37c47a-f22f-4273-b127-dfc343621388",
   "metadata": {},
   "outputs": [],
   "source": [
    "all_files = sorted(all_files)"
   ]
  },
  {
   "cell_type": "code",
   "execution_count": null,
   "id": "b22c23a2-0c56-411c-bfe7-d92c85832a4f",
   "metadata": {},
   "outputs": [],
   "source": [
    "# column names of 2023 data so that they match the previous years\n",
    "for filename in all_files[-11:]:\n",
    "    print(filename)\n",
    "    nyc_data = pl.read_parquet(f'{filenames_nyc}/{filename}').rename({'Airport_fee': 'airport_fee'})\n",
    "    nyc_data.write_parquet(f'{filenames_nyc}/{filename}')"
   ]
  },
  {
   "cell_type": "code",
   "execution_count": 232,
   "id": "ea63f118-e49e-4a4e-aa38-da66b409b8ae",
   "metadata": {},
   "outputs": [],
   "source": [
    "# consider only data from 2011 as the format changed\n",
    "\n",
    "# ensure that the columns of all files are the data types\n",
    "# probably not the best way of doing this\n",
    "for filename in all_files:\n",
    "    nyc_data = pl.scan_parquet(f'{filenames_nyc}/{filename}')\n",
    "    nyc_data.select(\n",
    "        pl.col('VendorID').cast(pl.Int64),\n",
    "        pl.col('tpep_pickup_datetime').cast(pl.Datetime),\n",
    "        pl.col('tpep_dropoff_datetime').cast(pl.Datetime),\n",
    "        pl.col('passenger_count').cast(pl.Int64),\n",
    "        pl.col('trip_distance').cast(pl.Float64),\n",
    "        pl.col('RatecodeID').cast(pl.Int64),\n",
    "        pl.col('store_and_fwd_flag').cast(pl.String),\n",
    "        pl.col('PULocationID').cast(pl.Int64),\n",
    "        pl.col('DOLocationID').cast(pl.Int64),\n",
    "        pl.col('payment_type').cast(pl.Int64),\n",
    "        pl.col('fare_amount').cast(pl.Float64),\n",
    "        pl.col('extra').cast(pl.Float64),\n",
    "        pl.col('mta_tax').cast(pl.Float64),\n",
    "        pl.col('tip_amount').cast(pl.Float64),\n",
    "        pl.col('tolls_amount').cast(pl.Float64),\n",
    "        pl.col('improvement_surcharge').cast(pl.Float64),\n",
    "        pl.col('total_amount').cast(pl.Float64),\n",
    "        pl.col('congestion_surcharge').cast(pl.Float64),\n",
    "        pl.col('airport_fee').cast(pl.Float64)\n",
    "    ).collect().write_parquet(f'{filenames_nyc}/{filename}')"
   ]
  },
  {
   "cell_type": "code",
   "execution_count": 233,
   "id": "b711177c-0b1e-41ef-b4ee-ec69864797fc",
   "metadata": {},
   "outputs": [],
   "source": [
    "# load the data folder\n",
    "nyc_taxis = pl.scan_parquet(f'{filenames_nyc}/*.parquet')"
   ]
  },
  {
   "cell_type": "code",
   "execution_count": 242,
   "id": "4c9c398e-2eed-41dd-ae57-c636eb4eb9d7",
   "metadata": {},
   "outputs": [
    {
     "data": {
      "text/html": [
       "<div><style>\n",
       ".dataframe > thead > tr,\n",
       ".dataframe > tbody > tr {\n",
       "  text-align: right;\n",
       "  white-space: pre-wrap;\n",
       "}\n",
       "</style>\n",
       "<small>shape: (1, 1)</small><table border=\"1\" class=\"dataframe\"><thead><tr><th>len</th></tr><tr><td>u32</td></tr></thead><tbody><tr><td>1397171103</td></tr></tbody></table></div>"
      ],
      "text/plain": [
       "shape: (1, 1)\n",
       "┌────────────┐\n",
       "│ len        │\n",
       "│ ---        │\n",
       "│ u32        │\n",
       "╞════════════╡\n",
       "│ 1397171103 │\n",
       "└────────────┘"
      ]
     },
     "execution_count": 242,
     "metadata": {},
     "output_type": "execute_result"
    }
   ],
   "source": [
    "# how many rows in the data?\n",
    "nyc_taxis.select(pl.len()).collect()"
   ]
  },
  {
   "cell_type": "code",
   "execution_count": 247,
   "id": "9e60c215-2b71-4623-9162-9833ac69e5db",
   "metadata": {},
   "outputs": [
    {
     "data": {
      "text/html": [
       "<div><style>\n",
       ".dataframe > thead > tr,\n",
       ".dataframe > tbody > tr {\n",
       "  text-align: right;\n",
       "  white-space: pre-wrap;\n",
       "}\n",
       "</style>\n",
       "<small>shape: (1, 1)</small><table border=\"1\" class=\"dataframe\"><thead><tr><th>fare_amount</th></tr><tr><td>f64</td></tr></thead><tbody><tr><td>998310.03</td></tr></tbody></table></div>"
      ],
      "text/plain": [
       "shape: (1, 1)\n",
       "┌─────────────┐\n",
       "│ fare_amount │\n",
       "│ ---         │\n",
       "│ f64         │\n",
       "╞═════════════╡\n",
       "│ 998310.03   │\n",
       "└─────────────┘"
      ]
     },
     "execution_count": 247,
     "metadata": {},
     "output_type": "execute_result"
    }
   ],
   "source": [
    "# what is the max fare?\n",
    "nyc_taxis.select(pl.max('fare_amount')).collect()"
   ]
  },
  {
   "cell_type": "code",
   "execution_count": 250,
   "id": "3d9ed60b-25de-485b-86ea-f18518417a8d",
   "metadata": {},
   "outputs": [
    {
     "data": {
      "text/html": [
       "<div><style>\n",
       ".dataframe > thead > tr,\n",
       ".dataframe > tbody > tr {\n",
       "  text-align: right;\n",
       "  white-space: pre-wrap;\n",
       "}\n",
       "</style>\n",
       "<small>shape: (1, 1)</small><table border=\"1\" class=\"dataframe\"><thead><tr><th>fare_amount</th></tr><tr><td>f64</td></tr></thead><tbody><tr><td>12.433398</td></tr></tbody></table></div>"
      ],
      "text/plain": [
       "shape: (1, 1)\n",
       "┌─────────────┐\n",
       "│ fare_amount │\n",
       "│ ---         │\n",
       "│ f64         │\n",
       "╞═════════════╡\n",
       "│ 12.433398   │\n",
       "└─────────────┘"
      ]
     },
     "execution_count": 250,
     "metadata": {},
     "output_type": "execute_result"
    }
   ],
   "source": [
    "# what is the average fare?\n",
    "nyc_taxis.select(pl.mean('fare_amount')).collect()"
   ]
  },
  {
   "cell_type": "code",
   "execution_count": 251,
   "id": "4fcb848a-6945-4d91-8f49-fd01e3eeda88",
   "metadata": {},
   "outputs": [
    {
     "data": {
      "text/html": [
       "<div><style>\n",
       ".dataframe > thead > tr,\n",
       ".dataframe > tbody > tr {\n",
       "  text-align: right;\n",
       "  white-space: pre-wrap;\n",
       "}\n",
       "</style>\n",
       "<small>shape: (1, 1)</small><table border=\"1\" class=\"dataframe\"><thead><tr><th>fare_amount</th></tr><tr><td>f64</td></tr></thead><tbody><tr><td>9.0</td></tr></tbody></table></div>"
      ],
      "text/plain": [
       "shape: (1, 1)\n",
       "┌─────────────┐\n",
       "│ fare_amount │\n",
       "│ ---         │\n",
       "│ f64         │\n",
       "╞═════════════╡\n",
       "│ 9.0         │\n",
       "└─────────────┘"
      ]
     },
     "execution_count": 251,
     "metadata": {},
     "output_type": "execute_result"
    }
   ],
   "source": [
    "# what is the median fare?\n",
    "nyc_taxis.select(pl.median('fare_amount')).collect()"
   ]
  },
  {
   "cell_type": "code",
   "execution_count": 254,
   "id": "adaa40e7-b4ec-436c-8707-7916a8fe6352",
   "metadata": {},
   "outputs": [
    {
     "data": {
      "text/html": [
       "<div><style>\n",
       ".dataframe > thead > tr,\n",
       ".dataframe > tbody > tr {\n",
       "  text-align: right;\n",
       "  white-space: pre-wrap;\n",
       "}\n",
       "</style>\n",
       "<small>shape: (10, 2)</small><table border=\"1\" class=\"dataframe\"><thead><tr><th>passenger_count</th><th>len</th></tr><tr><td>i64</td><td>u32</td></tr></thead><tbody><tr><td>1</td><td>981235169</td></tr><tr><td>2</td><td>201096537</td></tr><tr><td>5</td><td>74997895</td></tr><tr><td>3</td><td>58829131</td></tr><tr><td>6</td><td>38145225</td></tr><tr><td>4</td><td>28369915</td></tr><tr><td>0</td><td>9021642</td></tr><tr><td>null</td><td>5469148</td></tr><tr><td>7</td><td>2438</td></tr><tr><td>8</td><td>2073</td></tr></tbody></table></div>"
      ],
      "text/plain": [
       "shape: (10, 2)\n",
       "┌─────────────────┬───────────┐\n",
       "│ passenger_count ┆ len       │\n",
       "│ ---             ┆ ---       │\n",
       "│ i64             ┆ u32       │\n",
       "╞═════════════════╪═══════════╡\n",
       "│ 1               ┆ 981235169 │\n",
       "│ 2               ┆ 201096537 │\n",
       "│ 5               ┆ 74997895  │\n",
       "│ 3               ┆ 58829131  │\n",
       "│ 6               ┆ 38145225  │\n",
       "│ 4               ┆ 28369915  │\n",
       "│ 0               ┆ 9021642   │\n",
       "│ null            ┆ 5469148   │\n",
       "│ 7               ┆ 2438      │\n",
       "│ 8               ┆ 2073      │\n",
       "└─────────────────┴───────────┘"
      ]
     },
     "execution_count": 254,
     "metadata": {},
     "output_type": "execute_result"
    }
   ],
   "source": [
    "# what is the distribution of passenger counts?\n",
    "nyc_taxis.group_by('passenger_count').len().sort('len', descending=True).collect().head(10)"
   ]
  },
  {
   "cell_type": "code",
   "execution_count": 255,
   "id": "d70e08b1-19c9-4f14-a4e9-6e1766f3beda",
   "metadata": {},
   "outputs": [
    {
     "data": {
      "text/plain": [
       "['VendorID',\n",
       " 'tpep_pickup_datetime',\n",
       " 'tpep_dropoff_datetime',\n",
       " 'passenger_count',\n",
       " 'trip_distance',\n",
       " 'RatecodeID',\n",
       " 'store_and_fwd_flag',\n",
       " 'PULocationID',\n",
       " 'DOLocationID',\n",
       " 'payment_type',\n",
       " 'fare_amount',\n",
       " 'extra',\n",
       " 'mta_tax',\n",
       " 'tip_amount',\n",
       " 'tolls_amount',\n",
       " 'improvement_surcharge',\n",
       " 'total_amount',\n",
       " 'congestion_surcharge',\n",
       " 'airport_fee']"
      ]
     },
     "execution_count": 255,
     "metadata": {},
     "output_type": "execute_result"
    }
   ],
   "source": [
    "nyc_taxis.columns"
   ]
  },
  {
   "cell_type": "code",
   "execution_count": 256,
   "id": "0a4615c0-1dc5-4c23-99dd-2a8a165fbaf9",
   "metadata": {},
   "outputs": [
    {
     "data": {
      "text/html": [
       "<div><style>\n",
       ".dataframe > thead > tr,\n",
       ".dataframe > tbody > tr {\n",
       "  text-align: right;\n",
       "  white-space: pre-wrap;\n",
       "}\n",
       "</style>\n",
       "<small>shape: (265, 2)</small><table border=\"1\" class=\"dataframe\"><thead><tr><th>PULocationID</th><th>len</th></tr><tr><td>i64</td><td>u32</td></tr></thead><tbody><tr><td>140</td><td>23757796</td></tr><tr><td>161</td><td>50241528</td></tr><tr><td>6</td><td>6851</td></tr><tr><td>146</td><td>1590748</td></tr><tr><td>30</td><td>887</td></tr><tr><td>&hellip;</td><td>&hellip;</td></tr><tr><td>232</td><td>2785351</td></tr><tr><td>229</td><td>27277422</td></tr><tr><td>238</td><td>24580042</td></tr><tr><td>250</td><td>52011</td></tr><tr><td>104</td><td>201</td></tr></tbody></table></div>"
      ],
      "text/plain": [
       "shape: (265, 2)\n",
       "┌──────────────┬──────────┐\n",
       "│ PULocationID ┆ len      │\n",
       "│ ---          ┆ ---      │\n",
       "│ i64          ┆ u32      │\n",
       "╞══════════════╪══════════╡\n",
       "│ 140          ┆ 23757796 │\n",
       "│ 161          ┆ 50241528 │\n",
       "│ 6            ┆ 6851     │\n",
       "│ 146          ┆ 1590748  │\n",
       "│ 30           ┆ 887      │\n",
       "│ …            ┆ …        │\n",
       "│ 232          ┆ 2785351  │\n",
       "│ 229          ┆ 27277422 │\n",
       "│ 238          ┆ 24580042 │\n",
       "│ 250          ┆ 52011    │\n",
       "│ 104          ┆ 201      │\n",
       "└──────────────┴──────────┘"
      ]
     },
     "execution_count": 256,
     "metadata": {},
     "output_type": "execute_result"
    }
   ],
   "source": [
    "# how many different pickup locations are there?\n",
    "nyc_taxis.group_by('PULocationID').len().collect()"
   ]
  },
  {
   "cell_type": "code",
   "execution_count": 299,
   "id": "0ae585ee-56f1-4db0-b191-d85340a7de34",
   "metadata": {},
   "outputs": [],
   "source": [
    "# let's see how people are paying over time\n",
    "payment_types_year = (\n",
    "    nyc_taxis\n",
    "    .with_columns(pl.col('tpep_pickup_datetime').dt.year().alias('pickup_year'))\n",
    "    .group_by(pl.col(['pickup_year', 'payment_type']))\n",
    "    .len()\n",
    "    .filter(pl.col('pickup_year').is_in(list(range(2011,2024))))\n",
    "    .filter(pl.col('payment_type').is_in([1,2]))\n",
    "    .sort(pl.col('pickup_year'))\n",
    "    .collect()\n",
    ")"
   ]
  },
  {
   "cell_type": "code",
   "execution_count": 301,
   "id": "e28c5031-8ef7-48d2-a42c-8bdc3421d442",
   "metadata": {},
   "outputs": [
    {
     "data": {
      "image/png": "[encoded data removed]",
      "text/plain": [
       "<Figure size 600x400 with 1 Axes>"
      ]
     },
     "metadata": {},
     "output_type": "display_data"
    }
   ],
   "source": [
    "plt.figure(figsize=(6, 4))\n",
    "sns.lineplot(data=payment_types_year.to_pandas(), x='pickup_year', y='len', hue='payment_type')\n",
    "plt.xlabel('Year')\n",
    "plt.ylabel('Number of trips')\n",
    "plt.tight_layout()\n",
    "plt.savefig('payments_over_time_nyc_taxis.png')"
   ]
  },
  {
   "cell_type": "code",
   "execution_count": null,
   "id": "f93d86d7-50fd-484c-81c6-c272fefcfac7",
   "metadata": {},
   "outputs": [],
   "source": []
  }
 ],
 "metadata": {
  "kernelspec": {
   "display_name": "Python 3 (ipykernel)",
   "language": "python",
   "name": "python3"
  },
  "language_info": {
   "codemirror_mode": {
    "name": "ipython",
    "version": 3
   },
   "file_extension": ".py",
   "mimetype": "text/x-python",
   "name": "python",
   "nbconvert_exporter": "python",
   "pygments_lexer": "ipython3",
   "version": "3.12.2"
  }
 },
 "nbformat": 4,
 "nbformat_minor": 5
}
