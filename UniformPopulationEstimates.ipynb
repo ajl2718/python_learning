{
 "cells": [
  {
   "cell_type": "markdown",
   "metadata": {},
   "source": [
    "# Population estimates on uniform geometries\n",
    "\n",
    "4 June 2019\n",
    "\n",
    "---\n",
    "\n",
    "ABS releases population figures at various levels: SA1, SA2,... and also at meshblock scale. This notebook contains code for obtaining estimates of populations on other geometries, in particular uniform hex and square grids. \n",
    "\n",
    "We do this using the known populations from the ABS 2016 Census at the meshblock level and then perform a weighted average over these with each of the cells in the new geometry. The result is a more granular representation of the population than at SA2 level. This can be useful when working with data sources that are defined on uniform geometries rather than standard ABS geometries.\n",
    "\n",
    "<b>References:</b>\n",
    "- https://www.abs.gov.au/ausstats/abs@.nsf/Lookup/by%20Subject/1270.0.55.001~July%202016~Main%20Features~Mesh%20Blocks%20(MB)~10012\n",
    "\n",
    "- https://www.abs.gov.au/ausstats/abs@.nsf/mf/2074.0\n",
    "\n",
    "- https://www.abs.gov.au/websitedbs/D3310114.nsf/home/Australian+Statistical+Geography+Standard+(ASGS)"
   ]
  },
  {
   "cell_type": "markdown",
   "metadata": {},
   "source": [
    "# 1.0. Setup"
   ]
  },
  {
   "cell_type": "code",
   "execution_count": 1,
   "metadata": {},
   "outputs": [],
   "source": [
    "import pandas as pd\n",
    "import geopandas as gpd\n",
    "import matplotlib.pyplot as plt\n",
    "import numpy as np\n",
    "\n",
    "import folium\n",
    "\n",
    "from shapely.geometry import Polygon, Point, MultiPolygon\n",
    "from shapely import wkt\n",
    "\n",
    "%matplotlib inline"
   ]
  },
  {
   "cell_type": "markdown",
   "metadata": {},
   "source": [
    "## 1.1. Population transformation function"
   ]
  },
  {
   "cell_type": "markdown",
   "metadata": {},
   "source": [
    "This function carriers out the estimates of the populations on the new geometry. It takes two shapefiles: \n",
    "\n",
    "- <b>gdf1: </b> the meshblock geometry, population figures and areas of the meshblocks\n",
    "- <b>gdf2: </b> the shapefile for the new geometry\n",
    "\n",
    "The approach is as follows. For each of the cells in the new geometry:\n",
    "- Calculate the meshblocks that is intersects with and the corresponding areas.\n",
    "- Compute the fraction of overlap there is with each of these meshblocks based on the area.\n",
    "- Estimate the population by taking a weighted sum of the populations of the intersecting meshblocks and the corresponding overlap fractions"
   ]
  },
  {
   "cell_type": "code",
   "execution_count": 2,
   "metadata": {},
   "outputs": [],
   "source": [
    "def parameter_estimate(gdf1, gdf2, area_field, param_field, label2_field):\n",
    "    \n",
    "    # calculate the overlay\n",
    "    gdf_overlay = gpd.overlay(gdf1, gdf2, how='intersection')\n",
    "    \n",
    "    # calculate the area of each of the new polygons\n",
    "    gdf_overlay['area_new'] = gdf_overlay['geometry'].apply(lambda p: p.area)\n",
    "    \n",
    "    # calculate the fraction of the new polygons intersecting with the old ones\n",
    "    gdf_overlay['fraction_overlap'] = gdf_overlay['area_new'] / gdf_overlay[area_field]\n",
    "    \n",
    "    # estimate the value of the parameter for each of the new polygons in their overlaps\n",
    "    gdf_overlay[param_field + '_new'] = gdf_overlay['fraction_overlap'] * gdf_overlay[param_field]\n",
    "    \n",
    "    # calculate the weighted sum to estimate the new value for each of the new polygons\n",
    "    df_ws = gdf_overlay.groupby(label2_field)[param_field + '_new'].sum().reset_index()\n",
    "    \n",
    "    return df_ws"
   ]
  },
  {
   "cell_type": "markdown",
   "metadata": {},
   "source": [
    "## 1.2. Define the CRS\n",
    "\n",
    "- crs_abs is the lat, lng coord system\n",
    "- crs_vic is the one that MABM uses"
   ]
  },
  {
   "cell_type": "code",
   "execution_count": 3,
   "metadata": {},
   "outputs": [],
   "source": [
    "# define a CRS\n",
    "crs_abs = {'init': 'epsg:4283'}\n",
    "\n",
    "# the projected CRS used in MABM\n",
    "crs_vic = {'init': 'epsg:28355'}"
   ]
  },
  {
   "cell_type": "markdown",
   "metadata": {},
   "source": [
    "# 2.0. Load up datasets\n",
    "\n",
    "We use following datasets:\n",
    "- Victorian meshblocks which contain the counts of people and dwellings\n",
    "- Victorian meshblock shapefiles containing the geometry\n",
    "- Regular 1km x 1km square shapefile\n",
    "- Regular hexagon shapefile"
   ]
  },
  {
   "cell_type": "markdown",
   "metadata": {},
   "source": [
    "## 2.1. Victorian meshblocks with person and dwelling counts"
   ]
  },
  {
   "cell_type": "code",
   "execution_count": 4,
   "metadata": {},
   "outputs": [],
   "source": [
    "# load up the Vic meshblock codes and corresponding dwelling and person counts\n",
    "df_mb_vic = pd.read_csv('data/refined/MB_VIC_2016.csv')"
   ]
  },
  {
   "cell_type": "code",
   "execution_count": 5,
   "metadata": {},
   "outputs": [
    {
     "data": {
      "text/html": [
       "<div>\n",
       "<style scoped>\n",
       "    .dataframe tbody tr th:only-of-type {\n",
       "        vertical-align: middle;\n",
       "    }\n",
       "\n",
       "    .dataframe tbody tr th {\n",
       "        vertical-align: top;\n",
       "    }\n",
       "\n",
       "    .dataframe thead th {\n",
       "        text-align: right;\n",
       "    }\n",
       "</style>\n",
       "<table border=\"1\" class=\"dataframe\">\n",
       "  <thead>\n",
       "    <tr style=\"text-align: right;\">\n",
       "      <th></th>\n",
       "      <th>MB_CODE_2016</th>\n",
       "      <th>MB_CATEGORY_NAME_2016_y</th>\n",
       "      <th>SA1_MAINCODE_2016</th>\n",
       "      <th>SA2_NAME_2016</th>\n",
       "      <th>SA3_NAME_2016</th>\n",
       "      <th>SA4_NAME_2016</th>\n",
       "      <th>GCCSA_NAME_2016</th>\n",
       "      <th>Dwelling</th>\n",
       "      <th>Person</th>\n",
       "    </tr>\n",
       "  </thead>\n",
       "  <tbody>\n",
       "    <tr>\n",
       "      <th>0</th>\n",
       "      <td>20000009499</td>\n",
       "      <td>NOUSUALRESIDENCE</td>\n",
       "      <td>29999949999</td>\n",
       "      <td>No usual address (Vic.)</td>\n",
       "      <td>No usual address (Vic.)</td>\n",
       "      <td>No usual address (Vic.)</td>\n",
       "      <td>No usual address (Vic.)</td>\n",
       "      <td>NaN</td>\n",
       "      <td>7565.0</td>\n",
       "    </tr>\n",
       "    <tr>\n",
       "      <th>1</th>\n",
       "      <td>20000010000</td>\n",
       "      <td>Education</td>\n",
       "      <td>20403106914</td>\n",
       "      <td>Bright - Mount Beauty</td>\n",
       "      <td>Wodonga - Alpine</td>\n",
       "      <td>Hume</td>\n",
       "      <td>Rest of Vic.</td>\n",
       "      <td>0.0</td>\n",
       "      <td>0.0</td>\n",
       "    </tr>\n",
       "    <tr>\n",
       "      <th>2</th>\n",
       "      <td>20000021000</td>\n",
       "      <td>Commercial</td>\n",
       "      <td>20403106902</td>\n",
       "      <td>Bright - Mount Beauty</td>\n",
       "      <td>Wodonga - Alpine</td>\n",
       "      <td>Hume</td>\n",
       "      <td>Rest of Vic.</td>\n",
       "      <td>3.0</td>\n",
       "      <td>0.0</td>\n",
       "    </tr>\n",
       "    <tr>\n",
       "      <th>3</th>\n",
       "      <td>20000022000</td>\n",
       "      <td>Commercial</td>\n",
       "      <td>20403106902</td>\n",
       "      <td>Bright - Mount Beauty</td>\n",
       "      <td>Wodonga - Alpine</td>\n",
       "      <td>Hume</td>\n",
       "      <td>Rest of Vic.</td>\n",
       "      <td>3.0</td>\n",
       "      <td>3.0</td>\n",
       "    </tr>\n",
       "    <tr>\n",
       "      <th>4</th>\n",
       "      <td>20000023000</td>\n",
       "      <td>Commercial</td>\n",
       "      <td>20403106902</td>\n",
       "      <td>Bright - Mount Beauty</td>\n",
       "      <td>Wodonga - Alpine</td>\n",
       "      <td>Hume</td>\n",
       "      <td>Rest of Vic.</td>\n",
       "      <td>5.0</td>\n",
       "      <td>5.0</td>\n",
       "    </tr>\n",
       "  </tbody>\n",
       "</table>\n",
       "</div>"
      ],
      "text/plain": [
       "   MB_CODE_2016 MB_CATEGORY_NAME_2016_y  SA1_MAINCODE_2016  \\\n",
       "0   20000009499        NOUSUALRESIDENCE        29999949999   \n",
       "1   20000010000               Education        20403106914   \n",
       "2   20000021000              Commercial        20403106902   \n",
       "3   20000022000              Commercial        20403106902   \n",
       "4   20000023000              Commercial        20403106902   \n",
       "\n",
       "             SA2_NAME_2016            SA3_NAME_2016            SA4_NAME_2016  \\\n",
       "0  No usual address (Vic.)  No usual address (Vic.)  No usual address (Vic.)   \n",
       "1    Bright - Mount Beauty         Wodonga - Alpine                     Hume   \n",
       "2    Bright - Mount Beauty         Wodonga - Alpine                     Hume   \n",
       "3    Bright - Mount Beauty         Wodonga - Alpine                     Hume   \n",
       "4    Bright - Mount Beauty         Wodonga - Alpine                     Hume   \n",
       "\n",
       "           GCCSA_NAME_2016  Dwelling  Person  \n",
       "0  No usual address (Vic.)       NaN  7565.0  \n",
       "1             Rest of Vic.       0.0     0.0  \n",
       "2             Rest of Vic.       3.0     0.0  \n",
       "3             Rest of Vic.       3.0     3.0  \n",
       "4             Rest of Vic.       5.0     5.0  "
      ]
     },
     "execution_count": 5,
     "metadata": {},
     "output_type": "execute_result"
    }
   ],
   "source": [
    "# let's have a look at this\n",
    "df_mb_vic.head(5)"
   ]
  },
  {
   "cell_type": "markdown",
   "metadata": {},
   "source": [
    "## 2.2. Regular 1km x 1km square grid shapefile"
   ]
  },
  {
   "cell_type": "code",
   "execution_count": 6,
   "metadata": {},
   "outputs": [
    {
     "data": {
      "text/html": [
       "<div>\n",
       "<style scoped>\n",
       "    .dataframe tbody tr th:only-of-type {\n",
       "        vertical-align: middle;\n",
       "    }\n",
       "\n",
       "    .dataframe tbody tr th {\n",
       "        vertical-align: top;\n",
       "    }\n",
       "\n",
       "    .dataframe thead th {\n",
       "        text-align: right;\n",
       "    }\n",
       "</style>\n",
       "<table border=\"1\" class=\"dataframe\">\n",
       "  <thead>\n",
       "    <tr style=\"text-align: right;\">\n",
       "      <th></th>\n",
       "      <th>SquareLabe</th>\n",
       "      <th>geometry</th>\n",
       "    </tr>\n",
       "  </thead>\n",
       "  <tbody>\n",
       "    <tr>\n",
       "      <th>0</th>\n",
       "      <td>5777</td>\n",
       "      <td>POLYGON ((143.6154027552672 -37.98629078606395...</td>\n",
       "    </tr>\n",
       "    <tr>\n",
       "      <th>1</th>\n",
       "      <td>6069</td>\n",
       "      <td>POLYGON ((143.6247063477386 -38.03160383838987...</td>\n",
       "    </tr>\n",
       "    <tr>\n",
       "      <th>2</th>\n",
       "      <td>6070</td>\n",
       "      <td>POLYGON ((143.6251195822346 -38.02260665306308...</td>\n",
       "    </tr>\n",
       "    <tr>\n",
       "      <th>3</th>\n",
       "      <td>6071</td>\n",
       "      <td>POLYGON ((143.6255326327272 -38.01360945011705...</td>\n",
       "    </tr>\n",
       "    <tr>\n",
       "      <th>4</th>\n",
       "      <td>6074</td>\n",
       "      <td>POLYGON ((143.6267706810596 -37.98661773559558...</td>\n",
       "    </tr>\n",
       "  </tbody>\n",
       "</table>\n",
       "</div>"
      ],
      "text/plain": [
       "   SquareLabe                                           geometry\n",
       "0        5777  POLYGON ((143.6154027552672 -37.98629078606395...\n",
       "1        6069  POLYGON ((143.6247063477386 -38.03160383838987...\n",
       "2        6070  POLYGON ((143.6251195822346 -38.02260665306308...\n",
       "3        6071  POLYGON ((143.6255326327272 -38.01360945011705...\n",
       "4        6074  POLYGON ((143.6267706810596 -37.98661773559558..."
      ]
     },
     "execution_count": 6,
     "metadata": {},
     "output_type": "execute_result"
    }
   ],
   "source": [
    "gdf_1km_sqr = gpd.read_file('data/refined/sqrgrid_aoi_1km.shp')\n",
    "gdf_1km_sqr.head(5)"
   ]
  },
  {
   "cell_type": "markdown",
   "metadata": {},
   "source": [
    "## 2.3. Regular hexagaon shapefile (1km side lengths)"
   ]
  },
  {
   "cell_type": "code",
   "execution_count": 7,
   "metadata": {},
   "outputs": [
    {
     "data": {
      "text/html": [
       "<div>\n",
       "<style scoped>\n",
       "    .dataframe tbody tr th:only-of-type {\n",
       "        vertical-align: middle;\n",
       "    }\n",
       "\n",
       "    .dataframe tbody tr th {\n",
       "        vertical-align: top;\n",
       "    }\n",
       "\n",
       "    .dataframe thead th {\n",
       "        text-align: right;\n",
       "    }\n",
       "</style>\n",
       "<table border=\"1\" class=\"dataframe\">\n",
       "  <thead>\n",
       "    <tr style=\"text-align: right;\">\n",
       "      <th></th>\n",
       "      <th>HexLabel</th>\n",
       "      <th>geometry</th>\n",
       "    </tr>\n",
       "  </thead>\n",
       "  <tbody>\n",
       "    <tr>\n",
       "      <th>0</th>\n",
       "      <td>13733</td>\n",
       "      <td>POLYGON ((144.3291385892137 -37.62172602425927...</td>\n",
       "    </tr>\n",
       "    <tr>\n",
       "      <th>1</th>\n",
       "      <td>14027</td>\n",
       "      <td>POLYGON ((144.3477842656918 -37.64917983509825...</td>\n",
       "    </tr>\n",
       "    <tr>\n",
       "      <th>2</th>\n",
       "      <td>14028</td>\n",
       "      <td>POLYGON ((144.3384597639403 -37.63545324745296...</td>\n",
       "    </tr>\n",
       "    <tr>\n",
       "      <th>3</th>\n",
       "      <td>14029</td>\n",
       "      <td>POLYGON ((144.3487448672874 -37.62216848943908...</td>\n",
       "    </tr>\n",
       "    <tr>\n",
       "      <th>4</th>\n",
       "      <td>14030</td>\n",
       "      <td>POLYGON ((144.3394232637044 -37.60844204331411...</td>\n",
       "    </tr>\n",
       "  </tbody>\n",
       "</table>\n",
       "</div>"
      ],
      "text/plain": [
       "   HexLabel                                           geometry\n",
       "0     13733  POLYGON ((144.3291385892137 -37.62172602425927...\n",
       "1     14027  POLYGON ((144.3477842656918 -37.64917983509825...\n",
       "2     14028  POLYGON ((144.3384597639403 -37.63545324745296...\n",
       "3     14029  POLYGON ((144.3487448672874 -37.62216848943908...\n",
       "4     14030  POLYGON ((144.3394232637044 -37.60844204331411..."
      ]
     },
     "execution_count": 7,
     "metadata": {},
     "output_type": "execute_result"
    }
   ],
   "source": [
    "gdf_1km_hex = gpd.read_file('data/refined/hexgrid_aoi_1km.shp')\n",
    "gdf_1km_hex.head(5)"
   ]
  },
  {
   "cell_type": "markdown",
   "metadata": {},
   "source": [
    "## 2.4. Victorian meshblocks shapefile"
   ]
  },
  {
   "cell_type": "code",
   "execution_count": 8,
   "metadata": {},
   "outputs": [
    {
     "data": {
      "text/html": [
       "<div>\n",
       "<style scoped>\n",
       "    .dataframe tbody tr th:only-of-type {\n",
       "        vertical-align: middle;\n",
       "    }\n",
       "\n",
       "    .dataframe tbody tr th {\n",
       "        vertical-align: top;\n",
       "    }\n",
       "\n",
       "    .dataframe thead th {\n",
       "        text-align: right;\n",
       "    }\n",
       "</style>\n",
       "<table border=\"1\" class=\"dataframe\">\n",
       "  <thead>\n",
       "    <tr style=\"text-align: right;\">\n",
       "      <th></th>\n",
       "      <th>MB_CODE_2016</th>\n",
       "      <th>geometry</th>\n",
       "    </tr>\n",
       "  </thead>\n",
       "  <tbody>\n",
       "    <tr>\n",
       "      <th>0</th>\n",
       "      <td>20000009499</td>\n",
       "      <td>None</td>\n",
       "    </tr>\n",
       "    <tr>\n",
       "      <th>1</th>\n",
       "      <td>20000010000</td>\n",
       "      <td>POLYGON ((147.1425276460001 -36.69220601699993...</td>\n",
       "    </tr>\n",
       "    <tr>\n",
       "      <th>2</th>\n",
       "      <td>20000021000</td>\n",
       "      <td>POLYGON ((146.9593400960001 -36.72780516099994...</td>\n",
       "    </tr>\n",
       "    <tr>\n",
       "      <th>3</th>\n",
       "      <td>20000022000</td>\n",
       "      <td>POLYGON ((146.9613617580001 -36.72686980099996...</td>\n",
       "    </tr>\n",
       "    <tr>\n",
       "      <th>4</th>\n",
       "      <td>20000023000</td>\n",
       "      <td>POLYGON ((146.9610484790001 -36.72822697899994...</td>\n",
       "    </tr>\n",
       "  </tbody>\n",
       "</table>\n",
       "</div>"
      ],
      "text/plain": [
       "   MB_CODE_2016                                           geometry\n",
       "0   20000009499                                               None\n",
       "1   20000010000  POLYGON ((147.1425276460001 -36.69220601699993...\n",
       "2   20000021000  POLYGON ((146.9593400960001 -36.72780516099994...\n",
       "3   20000022000  POLYGON ((146.9613617580001 -36.72686980099996...\n",
       "4   20000023000  POLYGON ((146.9610484790001 -36.72822697899994..."
      ]
     },
     "execution_count": 8,
     "metadata": {},
     "output_type": "execute_result"
    }
   ],
   "source": [
    "# load up the meshblocks shapefiles\n",
    "gdf_mb = gpd.read_file('data/opendata/Census/1270055001_mb_2016_vic_shape/MB_2016_VIC.shp')\n",
    "\n",
    "# rename the column to be consistent with the other data sources\n",
    "gdf_mb = gdf_mb.rename(columns={'MB_CODE16': 'MB_CODE_2016'})\n",
    "gdf_mb = gdf_mb[['MB_CODE_2016', 'geometry']]\n",
    "\n",
    "# convert the MB_CODE_2016 to a integer\n",
    "gdf_mb['MB_CODE_2016'] = gdf_mb['MB_CODE_2016'].astype(np.int)\n",
    "\n",
    "gdf_mb.head(5)"
   ]
  },
  {
   "cell_type": "markdown",
   "metadata": {},
   "source": [
    "# 3.0. Wrangling\n",
    "\n",
    "## 3.1. Filter to SA2 (Suburb)"
   ]
  },
  {
   "cell_type": "code",
   "execution_count": 9,
   "metadata": {},
   "outputs": [],
   "source": [
    "# look at just one suburb\n",
    "#SA2_NAME_2016 = 'Carlton'\n",
    "#SA3_NAME_2016 = 'Melbourne City'\n",
    "#df_smaller = df_mb_vic[df_mb_vic['SA3_NAME_2016']==SA3_NAME_2016]\n",
    "#df_smaller.head(5)"
   ]
  },
  {
   "cell_type": "markdown",
   "metadata": {},
   "source": [
    "## 3.2. Filter to Greater Melbourne area\n",
    "\n",
    "Select 'Greater Melbourne' as the GCCSA_NAME_2016 value and the meshblocks in this region."
   ]
  },
  {
   "cell_type": "code",
   "execution_count": 10,
   "metadata": {},
   "outputs": [
    {
     "data": {
      "text/html": [
       "<div>\n",
       "<style scoped>\n",
       "    .dataframe tbody tr th:only-of-type {\n",
       "        vertical-align: middle;\n",
       "    }\n",
       "\n",
       "    .dataframe tbody tr th {\n",
       "        vertical-align: top;\n",
       "    }\n",
       "\n",
       "    .dataframe thead th {\n",
       "        text-align: right;\n",
       "    }\n",
       "</style>\n",
       "<table border=\"1\" class=\"dataframe\">\n",
       "  <thead>\n",
       "    <tr style=\"text-align: right;\">\n",
       "      <th></th>\n",
       "      <th>MB_CODE_2016</th>\n",
       "      <th>MB_CATEGORY_NAME_2016_y</th>\n",
       "      <th>SA1_MAINCODE_2016</th>\n",
       "      <th>SA2_NAME_2016</th>\n",
       "      <th>SA3_NAME_2016</th>\n",
       "      <th>SA4_NAME_2016</th>\n",
       "      <th>GCCSA_NAME_2016</th>\n",
       "      <th>Dwelling</th>\n",
       "      <th>Person</th>\n",
       "    </tr>\n",
       "  </thead>\n",
       "  <tbody>\n",
       "    <tr>\n",
       "      <th>1599</th>\n",
       "      <td>20015400000</td>\n",
       "      <td>Residential</td>\n",
       "      <td>20901119918</td>\n",
       "      <td>Heidelberg West</td>\n",
       "      <td>Banyule</td>\n",
       "      <td>Melbourne - North East</td>\n",
       "      <td>Greater Melbourne</td>\n",
       "      <td>33.0</td>\n",
       "      <td>53.0</td>\n",
       "    </tr>\n",
       "    <tr>\n",
       "      <th>1600</th>\n",
       "      <td>20015410000</td>\n",
       "      <td>Residential</td>\n",
       "      <td>20901120346</td>\n",
       "      <td>Viewbank - Yallambie</td>\n",
       "      <td>Banyule</td>\n",
       "      <td>Melbourne - North East</td>\n",
       "      <td>Greater Melbourne</td>\n",
       "      <td>32.0</td>\n",
       "      <td>87.0</td>\n",
       "    </tr>\n",
       "    <tr>\n",
       "      <th>1601</th>\n",
       "      <td>20015420000</td>\n",
       "      <td>Residential</td>\n",
       "      <td>20901120316</td>\n",
       "      <td>Viewbank - Yallambie</td>\n",
       "      <td>Banyule</td>\n",
       "      <td>Melbourne - North East</td>\n",
       "      <td>Greater Melbourne</td>\n",
       "      <td>63.0</td>\n",
       "      <td>178.0</td>\n",
       "    </tr>\n",
       "    <tr>\n",
       "      <th>1602</th>\n",
       "      <td>20015430000</td>\n",
       "      <td>Residential</td>\n",
       "      <td>20901120318</td>\n",
       "      <td>Viewbank - Yallambie</td>\n",
       "      <td>Banyule</td>\n",
       "      <td>Melbourne - North East</td>\n",
       "      <td>Greater Melbourne</td>\n",
       "      <td>47.0</td>\n",
       "      <td>115.0</td>\n",
       "    </tr>\n",
       "    <tr>\n",
       "      <th>1603</th>\n",
       "      <td>20015440000</td>\n",
       "      <td>Residential</td>\n",
       "      <td>20901120012</td>\n",
       "      <td>Ivanhoe</td>\n",
       "      <td>Banyule</td>\n",
       "      <td>Melbourne - North East</td>\n",
       "      <td>Greater Melbourne</td>\n",
       "      <td>33.0</td>\n",
       "      <td>68.0</td>\n",
       "    </tr>\n",
       "  </tbody>\n",
       "</table>\n",
       "</div>"
      ],
      "text/plain": [
       "      MB_CODE_2016 MB_CATEGORY_NAME_2016_y  SA1_MAINCODE_2016  \\\n",
       "1599   20015400000             Residential        20901119918   \n",
       "1600   20015410000             Residential        20901120346   \n",
       "1601   20015420000             Residential        20901120316   \n",
       "1602   20015430000             Residential        20901120318   \n",
       "1603   20015440000             Residential        20901120012   \n",
       "\n",
       "             SA2_NAME_2016 SA3_NAME_2016           SA4_NAME_2016  \\\n",
       "1599       Heidelberg West       Banyule  Melbourne - North East   \n",
       "1600  Viewbank - Yallambie       Banyule  Melbourne - North East   \n",
       "1601  Viewbank - Yallambie       Banyule  Melbourne - North East   \n",
       "1602  Viewbank - Yallambie       Banyule  Melbourne - North East   \n",
       "1603               Ivanhoe       Banyule  Melbourne - North East   \n",
       "\n",
       "        GCCSA_NAME_2016  Dwelling  Person  \n",
       "1599  Greater Melbourne      33.0    53.0  \n",
       "1600  Greater Melbourne      32.0    87.0  \n",
       "1601  Greater Melbourne      63.0   178.0  \n",
       "1602  Greater Melbourne      47.0   115.0  \n",
       "1603  Greater Melbourne      33.0    68.0  "
      ]
     },
     "execution_count": 10,
     "metadata": {},
     "output_type": "execute_result"
    }
   ],
   "source": [
    "GCCSA_NAME_2016 = 'Greater Melbourne'\n",
    "df_aoi = df_mb_vic[df_mb_vic['GCCSA_NAME_2016']==GCCSA_NAME_2016]\n",
    "df_aoi.head(5)"
   ]
  },
  {
   "cell_type": "markdown",
   "metadata": {},
   "source": [
    "Check that the population we're getting is reasonable"
   ]
  },
  {
   "cell_type": "code",
   "execution_count": 11,
   "metadata": {},
   "outputs": [
    {
     "data": {
      "text/plain": [
       "4484394.0"
      ]
     },
     "execution_count": 11,
     "metadata": {},
     "output_type": "execute_result"
    }
   ],
   "source": [
    "df_aoi['Person'].sum()"
   ]
  },
  {
   "cell_type": "markdown",
   "metadata": {},
   "source": [
    "## 3.3. Join the meshblock shapefiles with the mesh block population data\n",
    "\n",
    "This is done for just our Area of Interest"
   ]
  },
  {
   "cell_type": "code",
   "execution_count": 12,
   "metadata": {},
   "outputs": [],
   "source": [
    "# join the shapefiles with the Vic. meshblock data\n",
    "gdf_mb_sa2 = df_aoi.merge(gdf_mb, on='MB_CODE_2016')\n",
    "\n",
    "nice_cols = ['MB_CODE_2016', 'MB_CATEGORY_NAME_2016_y', 'SA1_MAINCODE_2016', 'SA2_NAME_2016', 'SA3_NAME_2016',\n",
    "            'Dwelling', 'Person']\n",
    "\n",
    "meshblocks_sa2 = gpd.GeoDataFrame(data=gdf_mb_sa2[nice_cols], geometry=gdf_mb_sa2['geometry'])\n",
    "meshblocks_sa2.crs = crs_abs"
   ]
  },
  {
   "cell_type": "markdown",
   "metadata": {},
   "source": [
    "## 3.4. Intersect with square grid covering the AOI"
   ]
  },
  {
   "cell_type": "code",
   "execution_count": 13,
   "metadata": {},
   "outputs": [],
   "source": [
    "gdf_sa2 = gpd.sjoin(gdf_1km_sqr, meshblocks_sa2, op='intersects')\n",
    "sqr_sa2 = gdf_sa2.dissolve(by='SquareLabe', aggfunc='first')"
   ]
  },
  {
   "cell_type": "markdown",
   "metadata": {},
   "source": [
    "## 3.5. Intersect with hex grid covering the AOI"
   ]
  },
  {
   "cell_type": "code",
   "execution_count": 14,
   "metadata": {},
   "outputs": [],
   "source": [
    "gdf_sa2 = gpd.sjoin(gdf_1km_hex, meshblocks_sa2, op='intersects')\n",
    "hex_sa2 = gdf_sa2.dissolve(by='HexLabel', aggfunc='first')"
   ]
  },
  {
   "cell_type": "markdown",
   "metadata": {},
   "source": [
    "# 4.0. Population estimates"
   ]
  },
  {
   "cell_type": "markdown",
   "metadata": {},
   "source": [
    "## 4.1. Change CRS\n",
    "\n",
    "Because I don't know how to do area calculations correctly in the lat, lng CRS"
   ]
  },
  {
   "cell_type": "code",
   "execution_count": 15,
   "metadata": {},
   "outputs": [],
   "source": [
    "meshblocks_sa2_new = meshblocks_sa2.to_crs(crs_vic)\n",
    "sqr_sa2_new = sqr_sa2.to_crs(crs_vic) # convert the squares\n",
    "hex_sa2_new = hex_sa2.to_crs(crs_vic) # convert the hexagons"
   ]
  },
  {
   "cell_type": "code",
   "execution_count": 16,
   "metadata": {},
   "outputs": [
    {
     "data": {
      "text/html": [
       "<div>\n",
       "<style scoped>\n",
       "    .dataframe tbody tr th:only-of-type {\n",
       "        vertical-align: middle;\n",
       "    }\n",
       "\n",
       "    .dataframe tbody tr th {\n",
       "        vertical-align: top;\n",
       "    }\n",
       "\n",
       "    .dataframe thead th {\n",
       "        text-align: right;\n",
       "    }\n",
       "</style>\n",
       "<table border=\"1\" class=\"dataframe\">\n",
       "  <thead>\n",
       "    <tr style=\"text-align: right;\">\n",
       "      <th></th>\n",
       "      <th>MB_CODE_2016</th>\n",
       "      <th>MB_CATEGORY_NAME_2016_y</th>\n",
       "      <th>SA1_MAINCODE_2016</th>\n",
       "      <th>SA2_NAME_2016</th>\n",
       "      <th>SA3_NAME_2016</th>\n",
       "      <th>Dwelling</th>\n",
       "      <th>Person</th>\n",
       "      <th>geometry</th>\n",
       "    </tr>\n",
       "  </thead>\n",
       "  <tbody>\n",
       "    <tr>\n",
       "      <th>0</th>\n",
       "      <td>20015400000</td>\n",
       "      <td>Residential</td>\n",
       "      <td>20901119918</td>\n",
       "      <td>Heidelberg West</td>\n",
       "      <td>Banyule</td>\n",
       "      <td>33.0</td>\n",
       "      <td>53.0</td>\n",
       "      <td>POLYGON ((328410.1439992741 5819338.914122874,...</td>\n",
       "    </tr>\n",
       "    <tr>\n",
       "      <th>1</th>\n",
       "      <td>20015410000</td>\n",
       "      <td>Residential</td>\n",
       "      <td>20901120346</td>\n",
       "      <td>Viewbank - Yallambie</td>\n",
       "      <td>Banyule</td>\n",
       "      <td>32.0</td>\n",
       "      <td>87.0</td>\n",
       "      <td>POLYGON ((332284.1471433818 5821512.586353699,...</td>\n",
       "    </tr>\n",
       "    <tr>\n",
       "      <th>2</th>\n",
       "      <td>20015420000</td>\n",
       "      <td>Residential</td>\n",
       "      <td>20901120316</td>\n",
       "      <td>Viewbank - Yallambie</td>\n",
       "      <td>Banyule</td>\n",
       "      <td>63.0</td>\n",
       "      <td>178.0</td>\n",
       "      <td>POLYGON ((332245.6594393802 5822051.032302149,...</td>\n",
       "    </tr>\n",
       "    <tr>\n",
       "      <th>3</th>\n",
       "      <td>20015430000</td>\n",
       "      <td>Residential</td>\n",
       "      <td>20901120318</td>\n",
       "      <td>Viewbank - Yallambie</td>\n",
       "      <td>Banyule</td>\n",
       "      <td>47.0</td>\n",
       "      <td>115.0</td>\n",
       "      <td>POLYGON ((332663.5247888024 5822260.237469032,...</td>\n",
       "    </tr>\n",
       "    <tr>\n",
       "      <th>4</th>\n",
       "      <td>20015440000</td>\n",
       "      <td>Residential</td>\n",
       "      <td>20901120012</td>\n",
       "      <td>Ivanhoe</td>\n",
       "      <td>Banyule</td>\n",
       "      <td>33.0</td>\n",
       "      <td>68.0</td>\n",
       "      <td>POLYGON ((326746.5876069277 5818877.766105011,...</td>\n",
       "    </tr>\n",
       "  </tbody>\n",
       "</table>\n",
       "</div>"
      ],
      "text/plain": [
       "   MB_CODE_2016 MB_CATEGORY_NAME_2016_y  SA1_MAINCODE_2016  \\\n",
       "0   20015400000             Residential        20901119918   \n",
       "1   20015410000             Residential        20901120346   \n",
       "2   20015420000             Residential        20901120316   \n",
       "3   20015430000             Residential        20901120318   \n",
       "4   20015440000             Residential        20901120012   \n",
       "\n",
       "          SA2_NAME_2016 SA3_NAME_2016  Dwelling  Person  \\\n",
       "0       Heidelberg West       Banyule      33.0    53.0   \n",
       "1  Viewbank - Yallambie       Banyule      32.0    87.0   \n",
       "2  Viewbank - Yallambie       Banyule      63.0   178.0   \n",
       "3  Viewbank - Yallambie       Banyule      47.0   115.0   \n",
       "4               Ivanhoe       Banyule      33.0    68.0   \n",
       "\n",
       "                                            geometry  \n",
       "0  POLYGON ((328410.1439992741 5819338.914122874,...  \n",
       "1  POLYGON ((332284.1471433818 5821512.586353699,...  \n",
       "2  POLYGON ((332245.6594393802 5822051.032302149,...  \n",
       "3  POLYGON ((332663.5247888024 5822260.237469032,...  \n",
       "4  POLYGON ((326746.5876069277 5818877.766105011,...  "
      ]
     },
     "execution_count": 16,
     "metadata": {},
     "output_type": "execute_result"
    }
   ],
   "source": [
    "meshblocks_sa2_new.head(5)"
   ]
  },
  {
   "cell_type": "markdown",
   "metadata": {},
   "source": [
    "## 4.2. Filter data\n",
    "\n",
    "We only need a few of the columns from the above datasets."
   ]
  },
  {
   "cell_type": "code",
   "execution_count": 17,
   "metadata": {},
   "outputs": [
    {
     "data": {
      "text/html": [
       "<div>\n",
       "<style scoped>\n",
       "    .dataframe tbody tr th:only-of-type {\n",
       "        vertical-align: middle;\n",
       "    }\n",
       "\n",
       "    .dataframe tbody tr th {\n",
       "        vertical-align: top;\n",
       "    }\n",
       "\n",
       "    .dataframe thead th {\n",
       "        text-align: right;\n",
       "    }\n",
       "</style>\n",
       "<table border=\"1\" class=\"dataframe\">\n",
       "  <thead>\n",
       "    <tr style=\"text-align: right;\">\n",
       "      <th></th>\n",
       "      <th>SquareLabe</th>\n",
       "      <th>MB_CODE_2016</th>\n",
       "      <th>geometry</th>\n",
       "    </tr>\n",
       "  </thead>\n",
       "  <tbody>\n",
       "    <tr>\n",
       "      <th>0</th>\n",
       "      <td>23934</td>\n",
       "      <td>20631929990</td>\n",
       "      <td>POLYGON ((263743.8136395717 5830298.752182018,...</td>\n",
       "    </tr>\n",
       "    <tr>\n",
       "      <th>1</th>\n",
       "      <td>24231</td>\n",
       "      <td>20631929990</td>\n",
       "      <td>POLYGON ((264743.8136395747 5830298.752182018,...</td>\n",
       "    </tr>\n",
       "    <tr>\n",
       "      <th>2</th>\n",
       "      <td>24232</td>\n",
       "      <td>20631929990</td>\n",
       "      <td>POLYGON ((264743.8136395735 5831298.752182018,...</td>\n",
       "    </tr>\n",
       "    <tr>\n",
       "      <th>3</th>\n",
       "      <td>24233</td>\n",
       "      <td>20631929990</td>\n",
       "      <td>POLYGON ((264743.8136395724 5832298.752182018,...</td>\n",
       "    </tr>\n",
       "    <tr>\n",
       "      <th>4</th>\n",
       "      <td>24525</td>\n",
       "      <td>20631929990</td>\n",
       "      <td>POLYGON ((265743.8136395731 5827298.752182018,...</td>\n",
       "    </tr>\n",
       "  </tbody>\n",
       "</table>\n",
       "</div>"
      ],
      "text/plain": [
       "   SquareLabe  MB_CODE_2016                                           geometry\n",
       "0       23934   20631929990  POLYGON ((263743.8136395717 5830298.752182018,...\n",
       "1       24231   20631929990  POLYGON ((264743.8136395747 5830298.752182018,...\n",
       "2       24232   20631929990  POLYGON ((264743.8136395735 5831298.752182018,...\n",
       "3       24233   20631929990  POLYGON ((264743.8136395724 5832298.752182018,...\n",
       "4       24525   20631929990  POLYGON ((265743.8136395731 5827298.752182018,..."
      ]
     },
     "execution_count": 17,
     "metadata": {},
     "output_type": "execute_result"
    }
   ],
   "source": [
    "squares = sqr_sa2_new[['MB_CODE_2016', 'geometry']].reset_index()\n",
    "squares.head(5)"
   ]
  },
  {
   "cell_type": "code",
   "execution_count": 18,
   "metadata": {},
   "outputs": [
    {
     "data": {
      "text/html": [
       "<div>\n",
       "<style scoped>\n",
       "    .dataframe tbody tr th:only-of-type {\n",
       "        vertical-align: middle;\n",
       "    }\n",
       "\n",
       "    .dataframe tbody tr th {\n",
       "        vertical-align: top;\n",
       "    }\n",
       "\n",
       "    .dataframe thead th {\n",
       "        text-align: right;\n",
       "    }\n",
       "</style>\n",
       "<table border=\"1\" class=\"dataframe\">\n",
       "  <thead>\n",
       "    <tr style=\"text-align: right;\">\n",
       "      <th></th>\n",
       "      <th>HexLabel</th>\n",
       "      <th>MB_CODE_2016</th>\n",
       "      <th>geometry</th>\n",
       "    </tr>\n",
       "  </thead>\n",
       "  <tbody>\n",
       "    <tr>\n",
       "      <th>0</th>\n",
       "      <td>13733</td>\n",
       "      <td>20631929990</td>\n",
       "      <td>POLYGON ((264284.1761915246 5832798.752182018,...</td>\n",
       "    </tr>\n",
       "    <tr>\n",
       "      <th>1</th>\n",
       "      <td>14027</td>\n",
       "      <td>20631929990</td>\n",
       "      <td>POLYGON ((266016.2269990934 5829798.752182018,...</td>\n",
       "    </tr>\n",
       "    <tr>\n",
       "      <th>2</th>\n",
       "      <td>14028</td>\n",
       "      <td>20631929990</td>\n",
       "      <td>POLYGON ((265150.201595313 5831298.752182018, ...</td>\n",
       "    </tr>\n",
       "    <tr>\n",
       "      <th>3</th>\n",
       "      <td>14029</td>\n",
       "      <td>20631929990</td>\n",
       "      <td>POLYGON ((266016.226999094 5832798.752182018, ...</td>\n",
       "    </tr>\n",
       "    <tr>\n",
       "      <th>4</th>\n",
       "      <td>14030</td>\n",
       "      <td>20631929990</td>\n",
       "      <td>POLYGON ((265150.2015953095 5834298.752182016,...</td>\n",
       "    </tr>\n",
       "  </tbody>\n",
       "</table>\n",
       "</div>"
      ],
      "text/plain": [
       "   HexLabel  MB_CODE_2016                                           geometry\n",
       "0     13733   20631929990  POLYGON ((264284.1761915246 5832798.752182018,...\n",
       "1     14027   20631929990  POLYGON ((266016.2269990934 5829798.752182018,...\n",
       "2     14028   20631929990  POLYGON ((265150.201595313 5831298.752182018, ...\n",
       "3     14029   20631929990  POLYGON ((266016.226999094 5832798.752182018, ...\n",
       "4     14030   20631929990  POLYGON ((265150.2015953095 5834298.752182016,..."
      ]
     },
     "execution_count": 18,
     "metadata": {},
     "output_type": "execute_result"
    }
   ],
   "source": [
    "hexes = hex_sa2_new[['MB_CODE_2016', 'geometry']].reset_index()\n",
    "hexes.head(5)"
   ]
  },
  {
   "cell_type": "markdown",
   "metadata": {},
   "source": [
    "From the meshblock data we need the meshblock code, meshblock polygons and the population within each meshblock"
   ]
  },
  {
   "cell_type": "code",
   "execution_count": 19,
   "metadata": {},
   "outputs": [
    {
     "name": "stderr",
     "output_type": "stream",
     "text": [
      "/Users/vic2e3a/.conda/envs/uberenv/lib/python3.6/site-packages/ipykernel_launcher.py:4: SettingWithCopyWarning: \n",
      "A value is trying to be set on a copy of a slice from a DataFrame.\n",
      "Try using .loc[row_indexer,col_indexer] = value instead\n",
      "\n",
      "See the caveats in the documentation: http://pandas.pydata.org/pandas-docs/stable/indexing.html#indexing-view-versus-copy\n",
      "  after removing the cwd from sys.path.\n"
     ]
    }
   ],
   "source": [
    "mesh = meshblocks_sa2_new[['MB_CODE_2016', 'Person', 'geometry']]\n",
    "\n",
    "# calculate the area of each of the meshblocks in the MABM crs\n",
    "mesh['area'] = mesh['geometry'].apply(lambda p: p.area)"
   ]
  },
  {
   "cell_type": "code",
   "execution_count": 20,
   "metadata": {},
   "outputs": [
    {
     "data": {
      "text/html": [
       "<div>\n",
       "<style scoped>\n",
       "    .dataframe tbody tr th:only-of-type {\n",
       "        vertical-align: middle;\n",
       "    }\n",
       "\n",
       "    .dataframe tbody tr th {\n",
       "        vertical-align: top;\n",
       "    }\n",
       "\n",
       "    .dataframe thead th {\n",
       "        text-align: right;\n",
       "    }\n",
       "</style>\n",
       "<table border=\"1\" class=\"dataframe\">\n",
       "  <thead>\n",
       "    <tr style=\"text-align: right;\">\n",
       "      <th></th>\n",
       "      <th>MB_CODE_2016</th>\n",
       "      <th>Person</th>\n",
       "      <th>geometry</th>\n",
       "      <th>area</th>\n",
       "    </tr>\n",
       "  </thead>\n",
       "  <tbody>\n",
       "    <tr>\n",
       "      <th>0</th>\n",
       "      <td>20015400000</td>\n",
       "      <td>53.0</td>\n",
       "      <td>POLYGON ((328410.1439992741 5819338.914122874,...</td>\n",
       "      <td>12500.606939</td>\n",
       "    </tr>\n",
       "    <tr>\n",
       "      <th>1</th>\n",
       "      <td>20015410000</td>\n",
       "      <td>87.0</td>\n",
       "      <td>POLYGON ((332284.1471433818 5821512.586353699,...</td>\n",
       "      <td>27133.446933</td>\n",
       "    </tr>\n",
       "    <tr>\n",
       "      <th>2</th>\n",
       "      <td>20015420000</td>\n",
       "      <td>178.0</td>\n",
       "      <td>POLYGON ((332245.6594393802 5822051.032302149,...</td>\n",
       "      <td>44286.746329</td>\n",
       "    </tr>\n",
       "    <tr>\n",
       "      <th>3</th>\n",
       "      <td>20015430000</td>\n",
       "      <td>115.0</td>\n",
       "      <td>POLYGON ((332663.5247888024 5822260.237469032,...</td>\n",
       "      <td>45616.607446</td>\n",
       "    </tr>\n",
       "    <tr>\n",
       "      <th>4</th>\n",
       "      <td>20015440000</td>\n",
       "      <td>68.0</td>\n",
       "      <td>POLYGON ((326746.5876069277 5818877.766105011,...</td>\n",
       "      <td>24518.744626</td>\n",
       "    </tr>\n",
       "  </tbody>\n",
       "</table>\n",
       "</div>"
      ],
      "text/plain": [
       "   MB_CODE_2016  Person                                           geometry  \\\n",
       "0   20015400000    53.0  POLYGON ((328410.1439992741 5819338.914122874,...   \n",
       "1   20015410000    87.0  POLYGON ((332284.1471433818 5821512.586353699,...   \n",
       "2   20015420000   178.0  POLYGON ((332245.6594393802 5822051.032302149,...   \n",
       "3   20015430000   115.0  POLYGON ((332663.5247888024 5822260.237469032,...   \n",
       "4   20015440000    68.0  POLYGON ((326746.5876069277 5818877.766105011,...   \n",
       "\n",
       "           area  \n",
       "0  12500.606939  \n",
       "1  27133.446933  \n",
       "2  44286.746329  \n",
       "3  45616.607446  \n",
       "4  24518.744626  "
      ]
     },
     "execution_count": 20,
     "metadata": {},
     "output_type": "execute_result"
    }
   ],
   "source": [
    "mesh.head(5)"
   ]
  },
  {
   "cell_type": "markdown",
   "metadata": {},
   "source": [
    "## 4.3. Calculate the population estimates\n",
    "\n",
    "Given the meshblock grid on which we have population data we want to estimate how many people are in each of our regular grid cells."
   ]
  },
  {
   "cell_type": "code",
   "execution_count": 21,
   "metadata": {},
   "outputs": [],
   "source": [
    "square_data = np.round(parameter_estimate(mesh, squares, 'area', 'Person', 'SquareLabe'))"
   ]
  },
  {
   "cell_type": "code",
   "execution_count": 22,
   "metadata": {},
   "outputs": [
    {
     "data": {
      "text/html": [
       "<div>\n",
       "<style scoped>\n",
       "    .dataframe tbody tr th:only-of-type {\n",
       "        vertical-align: middle;\n",
       "    }\n",
       "\n",
       "    .dataframe tbody tr th {\n",
       "        vertical-align: top;\n",
       "    }\n",
       "\n",
       "    .dataframe thead th {\n",
       "        text-align: right;\n",
       "    }\n",
       "</style>\n",
       "<table border=\"1\" class=\"dataframe\">\n",
       "  <thead>\n",
       "    <tr style=\"text-align: right;\">\n",
       "      <th></th>\n",
       "      <th>SquareLabe</th>\n",
       "      <th>Person_new</th>\n",
       "    </tr>\n",
       "  </thead>\n",
       "  <tbody>\n",
       "    <tr>\n",
       "      <th>0</th>\n",
       "      <td>23934</td>\n",
       "      <td>0.0</td>\n",
       "    </tr>\n",
       "    <tr>\n",
       "      <th>1</th>\n",
       "      <td>24231</td>\n",
       "      <td>4.0</td>\n",
       "    </tr>\n",
       "    <tr>\n",
       "      <th>2</th>\n",
       "      <td>24232</td>\n",
       "      <td>4.0</td>\n",
       "    </tr>\n",
       "    <tr>\n",
       "      <th>3</th>\n",
       "      <td>24233</td>\n",
       "      <td>2.0</td>\n",
       "    </tr>\n",
       "    <tr>\n",
       "      <th>4</th>\n",
       "      <td>24525</td>\n",
       "      <td>1.0</td>\n",
       "    </tr>\n",
       "  </tbody>\n",
       "</table>\n",
       "</div>"
      ],
      "text/plain": [
       "   SquareLabe  Person_new\n",
       "0       23934         0.0\n",
       "1       24231         4.0\n",
       "2       24232         4.0\n",
       "3       24233         2.0\n",
       "4       24525         1.0"
      ]
     },
     "execution_count": 22,
     "metadata": {},
     "output_type": "execute_result"
    }
   ],
   "source": [
    "square_data.head(5)"
   ]
  },
  {
   "cell_type": "code",
   "execution_count": 23,
   "metadata": {},
   "outputs": [],
   "source": [
    "hex_data = np.round(parameter_estimate(mesh, hexes, 'area', 'Person', 'HexLabel'))"
   ]
  },
  {
   "cell_type": "code",
   "execution_count": 24,
   "metadata": {},
   "outputs": [
    {
     "data": {
      "text/html": [
       "<div>\n",
       "<style scoped>\n",
       "    .dataframe tbody tr th:only-of-type {\n",
       "        vertical-align: middle;\n",
       "    }\n",
       "\n",
       "    .dataframe tbody tr th {\n",
       "        vertical-align: top;\n",
       "    }\n",
       "\n",
       "    .dataframe thead th {\n",
       "        text-align: right;\n",
       "    }\n",
       "</style>\n",
       "<table border=\"1\" class=\"dataframe\">\n",
       "  <thead>\n",
       "    <tr style=\"text-align: right;\">\n",
       "      <th></th>\n",
       "      <th>HexLabel</th>\n",
       "      <th>Person_new</th>\n",
       "    </tr>\n",
       "  </thead>\n",
       "  <tbody>\n",
       "    <tr>\n",
       "      <th>0</th>\n",
       "      <td>13733</td>\n",
       "      <td>1.0</td>\n",
       "    </tr>\n",
       "    <tr>\n",
       "      <th>1</th>\n",
       "      <td>14027</td>\n",
       "      <td>5.0</td>\n",
       "    </tr>\n",
       "    <tr>\n",
       "      <th>2</th>\n",
       "      <td>14028</td>\n",
       "      <td>3.0</td>\n",
       "    </tr>\n",
       "    <tr>\n",
       "      <th>3</th>\n",
       "      <td>14029</td>\n",
       "      <td>10.0</td>\n",
       "    </tr>\n",
       "    <tr>\n",
       "      <th>4</th>\n",
       "      <td>14030</td>\n",
       "      <td>2.0</td>\n",
       "    </tr>\n",
       "  </tbody>\n",
       "</table>\n",
       "</div>"
      ],
      "text/plain": [
       "   HexLabel  Person_new\n",
       "0     13733         1.0\n",
       "1     14027         5.0\n",
       "2     14028         3.0\n",
       "3     14029        10.0\n",
       "4     14030         2.0"
      ]
     },
     "execution_count": 24,
     "metadata": {},
     "output_type": "execute_result"
    }
   ],
   "source": [
    "hex_data.head(5)"
   ]
  },
  {
   "cell_type": "markdown",
   "metadata": {},
   "source": [
    "## 4.4. Output the new estimates\n",
    "\n",
    "Note that there is a population estimate associated with each of the polygons. These are labelled by 'SquareLabe' (for the square geometry) and 'HexLabel' for the hexagon geometry."
   ]
  },
  {
   "cell_type": "code",
   "execution_count": 25,
   "metadata": {},
   "outputs": [],
   "source": [
    "square_data.to_csv('data/refined/population_sqr_1km.csv', index=False)"
   ]
  },
  {
   "cell_type": "code",
   "execution_count": 26,
   "metadata": {},
   "outputs": [],
   "source": [
    "hex_data.to_csv('data/refined/population_hex_1km.csv', index=False)"
   ]
  },
  {
   "cell_type": "code",
   "execution_count": 27,
   "metadata": {},
   "outputs": [
    {
     "data": {
      "text/html": [
       "<div>\n",
       "<style scoped>\n",
       "    .dataframe tbody tr th:only-of-type {\n",
       "        vertical-align: middle;\n",
       "    }\n",
       "\n",
       "    .dataframe tbody tr th {\n",
       "        vertical-align: top;\n",
       "    }\n",
       "\n",
       "    .dataframe thead th {\n",
       "        text-align: right;\n",
       "    }\n",
       "</style>\n",
       "<table border=\"1\" class=\"dataframe\">\n",
       "  <thead>\n",
       "    <tr style=\"text-align: right;\">\n",
       "      <th></th>\n",
       "      <th>SquareLabe</th>\n",
       "      <th>Person_new</th>\n",
       "    </tr>\n",
       "  </thead>\n",
       "  <tbody>\n",
       "    <tr>\n",
       "      <th>0</th>\n",
       "      <td>23934</td>\n",
       "      <td>0.0</td>\n",
       "    </tr>\n",
       "    <tr>\n",
       "      <th>1</th>\n",
       "      <td>24231</td>\n",
       "      <td>4.0</td>\n",
       "    </tr>\n",
       "    <tr>\n",
       "      <th>2</th>\n",
       "      <td>24232</td>\n",
       "      <td>4.0</td>\n",
       "    </tr>\n",
       "    <tr>\n",
       "      <th>3</th>\n",
       "      <td>24233</td>\n",
       "      <td>2.0</td>\n",
       "    </tr>\n",
       "    <tr>\n",
       "      <th>4</th>\n",
       "      <td>24525</td>\n",
       "      <td>1.0</td>\n",
       "    </tr>\n",
       "  </tbody>\n",
       "</table>\n",
       "</div>"
      ],
      "text/plain": [
       "   SquareLabe  Person_new\n",
       "0       23934         0.0\n",
       "1       24231         4.0\n",
       "2       24232         4.0\n",
       "3       24233         2.0\n",
       "4       24525         1.0"
      ]
     },
     "execution_count": 27,
     "metadata": {},
     "output_type": "execute_result"
    }
   ],
   "source": [
    "square_data.head(5)"
   ]
  },
  {
   "cell_type": "code",
   "execution_count": 28,
   "metadata": {},
   "outputs": [
    {
     "data": {
      "text/html": [
       "<div>\n",
       "<style scoped>\n",
       "    .dataframe tbody tr th:only-of-type {\n",
       "        vertical-align: middle;\n",
       "    }\n",
       "\n",
       "    .dataframe tbody tr th {\n",
       "        vertical-align: top;\n",
       "    }\n",
       "\n",
       "    .dataframe thead th {\n",
       "        text-align: right;\n",
       "    }\n",
       "</style>\n",
       "<table border=\"1\" class=\"dataframe\">\n",
       "  <thead>\n",
       "    <tr style=\"text-align: right;\">\n",
       "      <th></th>\n",
       "      <th>HexLabel</th>\n",
       "      <th>Person_new</th>\n",
       "    </tr>\n",
       "  </thead>\n",
       "  <tbody>\n",
       "    <tr>\n",
       "      <th>0</th>\n",
       "      <td>13733</td>\n",
       "      <td>1.0</td>\n",
       "    </tr>\n",
       "    <tr>\n",
       "      <th>1</th>\n",
       "      <td>14027</td>\n",
       "      <td>5.0</td>\n",
       "    </tr>\n",
       "    <tr>\n",
       "      <th>2</th>\n",
       "      <td>14028</td>\n",
       "      <td>3.0</td>\n",
       "    </tr>\n",
       "    <tr>\n",
       "      <th>3</th>\n",
       "      <td>14029</td>\n",
       "      <td>10.0</td>\n",
       "    </tr>\n",
       "    <tr>\n",
       "      <th>4</th>\n",
       "      <td>14030</td>\n",
       "      <td>2.0</td>\n",
       "    </tr>\n",
       "  </tbody>\n",
       "</table>\n",
       "</div>"
      ],
      "text/plain": [
       "   HexLabel  Person_new\n",
       "0     13733         1.0\n",
       "1     14027         5.0\n",
       "2     14028         3.0\n",
       "3     14029        10.0\n",
       "4     14030         2.0"
      ]
     },
     "execution_count": 28,
     "metadata": {},
     "output_type": "execute_result"
    }
   ],
   "source": [
    "hex_data.head(5)"
   ]
  },
  {
   "cell_type": "code",
   "execution_count": 29,
   "metadata": {},
   "outputs": [
    {
     "data": {
      "text/plain": [
       "4484488.0"
      ]
     },
     "execution_count": 29,
     "metadata": {},
     "output_type": "execute_result"
    }
   ],
   "source": [
    "square_data['Person_new'].sum()"
   ]
  },
  {
   "cell_type": "code",
   "execution_count": 30,
   "metadata": {},
   "outputs": [
    {
     "data": {
      "text/plain": [
       "4484421.0"
      ]
     },
     "execution_count": 30,
     "metadata": {},
     "output_type": "execute_result"
    }
   ],
   "source": [
    "hex_data['Person_new'].sum()"
   ]
  },
  {
   "cell_type": "code",
   "execution_count": null,
   "metadata": {},
   "outputs": [],
   "source": []
  }
 ],
 "metadata": {
  "kernelspec": {
   "display_name": "Python 3",
   "language": "python",
   "name": "python3"
  },
  "language_info": {
   "codemirror_mode": {
    "name": "ipython",
    "version": 3
   },
   "file_extension": ".py",
   "mimetype": "text/x-python",
   "name": "python",
   "nbconvert_exporter": "python",
   "pygments_lexer": "ipython3",
   "version": "3.6.8"
  }
 },
 "nbformat": 4,
 "nbformat_minor": 2
}
