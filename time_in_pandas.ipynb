{
 "cells": [
  {
   "cell_type": "markdown",
   "metadata": {},
   "source": [
    "# Date and time variables in Pandas\n",
    "\n",
    "23 March 2019\n",
    "\n",
    "Despite using Pandas for a few years ago, I've never really understood how to probably handle date and time variables. This notebook summarises my understanding of this topic so far, mainly so I can refer back to it when I have forgotten how to properly use datetimes. Hopefully it is useful for others too.\n",
    "\n",
    "References: http://strftime.org/"
   ]
  },
  {
   "cell_type": "code",
   "execution_count": 1,
   "metadata": {},
   "outputs": [],
   "source": [
    "import pandas as pd\n",
    "import matplotlib.pyplot as plt\n",
    "import numpy as np\n",
    "import seaborn as sns\n",
    "\n",
    "%matplotlib inline"
   ]
  },
  {
   "cell_type": "markdown",
   "metadata": {},
   "source": [
    "## Intro\n",
    "\n",
    "Let's start with some Pandas series that consist of strings with dates and times in different formats"
   ]
  },
  {
   "cell_type": "code",
   "execution_count": 2,
   "metadata": {},
   "outputs": [],
   "source": [
    "dates1 = pd.Series(['3/5/1972', '24/5/1984', '1/11/1977'])\n",
    "dates2 = pd.Series(['17 May 1982', '12 June 2016'])\n",
    "dates3 = pd.Series(['23/5/1984 17:31:07'])\n",
    "dates4 = pd.Series(['8 November 1948', '3/6/1983'])\n",
    "dates5 = pd.Series(['12 Nov 1912', '8 July 1723', '3/7/1982', '12   May, 1932'])"
   ]
  },
  {
   "cell_type": "markdown",
   "metadata": {},
   "source": [
    "Now we convert each of these to a Pandas datetime series using the to_datetime method. Note that this is a method in the Pandas module not the series. \n",
    "\n",
    "We have to specify the input along with the format that the datetime values are expressed in."
   ]
  },
  {
   "cell_type": "code",
   "execution_count": 3,
   "metadata": {},
   "outputs": [
    {
     "name": "stdout",
     "output_type": "stream",
     "text": [
      "0   1972-05-03\n",
      "1   1984-05-24\n",
      "2   1977-11-01\n",
      "dtype: datetime64[ns]\n",
      "0   1982-05-17\n",
      "1   2016-06-12\n",
      "dtype: datetime64[ns]\n",
      "0   1984-05-23 17:31:07\n",
      "dtype: datetime64[ns]\n",
      "0   1948-11-08\n",
      "1   1983-06-03\n",
      "dtype: datetime64[ns]\n",
      "0   1912-11-12\n",
      "1   1723-07-08\n",
      "2   1982-07-03\n",
      "3   1932-05-12\n",
      "dtype: datetime64[ns]\n"
     ]
    }
   ],
   "source": [
    "dates1_pd = pd.to_datetime(dates1, format=\"%d/%m/%Y\")  # day, month, year\n",
    "dates2_pd = pd.to_datetime(dates2, format=\"%d %B %Y\")  # day, month name, year\n",
    "# day, month year and hour, minute, seconds\n",
    "dates3_pd = pd.to_datetime(dates3, format=\"%d/%m/%Y %H:%M:%S\")\n",
    "# infer the datetime format based on the structure of the input string\n",
    "dates4_pd = pd.to_datetime(dates4, infer_datetime_format=True, dayfirst=True)\n",
    "dates5_pd = pd.to_datetime(dates5, infer_datetime_format=True, dayfirst=True)\n",
    "\n",
    "print(dates1_pd)\n",
    "print(dates2_pd)\n",
    "print(dates3_pd)\n",
    "print(dates4_pd)\n",
    "print(dates5_pd)"
   ]
  },
  {
   "cell_type": "markdown",
   "metadata": {},
   "source": [
    "## Creating datetime series using timestamps\n",
    "\n",
    "Rather than writing a datetime as a string then converting it to a datetime type, we can create a series of datetime values directly using the Timestamp function. We can specifiy the year, month, day, hour, minute and second. \n",
    "\n",
    "Below we do this using keyword arguments."
   ]
  },
  {
   "cell_type": "code",
   "execution_count": 4,
   "metadata": {},
   "outputs": [],
   "source": [
    "dates6 = pd.Series([pd.Timestamp(year=1972, day=3, month=5), pd.Timestamp(year=1984, month=5, day=24), \n",
    "               pd.Timestamp(year=1977, month=11, day=1)])"
   ]
  },
  {
   "cell_type": "markdown",
   "metadata": {},
   "source": [
    "Here we specify a datetime value another way, without used keyword arguments."
   ]
  },
  {
   "cell_type": "code",
   "execution_count": 5,
   "metadata": {},
   "outputs": [
    {
     "data": {
      "text/plain": [
       "Timestamp('1984-05-24 09:45:21')"
      ]
     },
     "execution_count": 5,
     "metadata": {},
     "output_type": "execute_result"
    }
   ],
   "source": [
    "pd.Timestamp(1984, 5, 24, 9, 45, 21)"
   ]
  },
  {
   "cell_type": "markdown",
   "metadata": {},
   "source": [
    "The <i>date_range</i> method allows us to create a series of datetime values between a start and end date with a specified frequency, e.g., days, months, hours etc. Below we create a series consisting of all days between the release of Ghostbusters and today's date."
   ]
  },
  {
   "cell_type": "code",
   "execution_count": 6,
   "metadata": {},
   "outputs": [],
   "source": [
    "date_range_egon = pd.date_range(start='11/15/1984', end='23/03/2019', freq='D')"
   ]
  },
  {
   "cell_type": "code",
   "execution_count": 7,
   "metadata": {},
   "outputs": [
    {
     "data": {
      "text/plain": [
       "DatetimeIndex(['1984-11-15', '1984-11-16', '1984-11-17', '1984-11-18',\n",
       "               '1984-11-19', '1984-11-20', '1984-11-21', '1984-11-22',\n",
       "               '1984-11-23', '1984-11-24',\n",
       "               ...\n",
       "               '2019-03-14', '2019-03-15', '2019-03-16', '2019-03-17',\n",
       "               '2019-03-18', '2019-03-19', '2019-03-20', '2019-03-21',\n",
       "               '2019-03-22', '2019-03-23'],\n",
       "              dtype='datetime64[ns]', length=12547, freq='D')"
      ]
     },
     "execution_count": 7,
     "metadata": {},
     "output_type": "execute_result"
    }
   ],
   "source": [
    "date_range_egon"
   ]
  },
  {
   "cell_type": "markdown",
   "metadata": {},
   "source": [
    "We can put this data into a data frame and then extract the day and month names. Note that the datetime index doesn't require us to use the <i>dt</i> accessor to extract this information that we use later on. Instead we use the <i>day_name()</i> and <i>month_name()</i> methods."
   ]
  },
  {
   "cell_type": "code",
   "execution_count": 8,
   "metadata": {},
   "outputs": [],
   "source": [
    "# convert to Pandas dataframe\n",
    "df = pd.DataFrame(data={'Date': date_range_egon, 'Day': date_range_egon.day_name(), \n",
    "                        'Month': date_range_egon.month_name()})"
   ]
  },
  {
   "cell_type": "markdown",
   "metadata": {},
   "source": [
    "We can set the index of the dataframe to the datetime value. This then allows us to slice the dataframe based on an interval of date values."
   ]
  },
  {
   "cell_type": "code",
   "execution_count": 9,
   "metadata": {},
   "outputs": [
    {
     "data": {
      "text/html": [
       "<div>\n",
       "<style scoped>\n",
       "    .dataframe tbody tr th:only-of-type {\n",
       "        vertical-align: middle;\n",
       "    }\n",
       "\n",
       "    .dataframe tbody tr th {\n",
       "        vertical-align: top;\n",
       "    }\n",
       "\n",
       "    .dataframe thead th {\n",
       "        text-align: right;\n",
       "    }\n",
       "</style>\n",
       "<table border=\"1\" class=\"dataframe\">\n",
       "  <thead>\n",
       "    <tr style=\"text-align: right;\">\n",
       "      <th></th>\n",
       "      <th>Day</th>\n",
       "      <th>Month</th>\n",
       "    </tr>\n",
       "    <tr>\n",
       "      <th>Date</th>\n",
       "      <th></th>\n",
       "      <th></th>\n",
       "    </tr>\n",
       "  </thead>\n",
       "  <tbody>\n",
       "    <tr>\n",
       "      <th>1987-12-01</th>\n",
       "      <td>Tuesday</td>\n",
       "      <td>December</td>\n",
       "    </tr>\n",
       "    <tr>\n",
       "      <th>1987-12-02</th>\n",
       "      <td>Wednesday</td>\n",
       "      <td>December</td>\n",
       "    </tr>\n",
       "    <tr>\n",
       "      <th>1987-12-03</th>\n",
       "      <td>Thursday</td>\n",
       "      <td>December</td>\n",
       "    </tr>\n",
       "    <tr>\n",
       "      <th>1987-12-04</th>\n",
       "      <td>Friday</td>\n",
       "      <td>December</td>\n",
       "    </tr>\n",
       "    <tr>\n",
       "      <th>1987-12-05</th>\n",
       "      <td>Saturday</td>\n",
       "      <td>December</td>\n",
       "    </tr>\n",
       "    <tr>\n",
       "      <th>1987-12-06</th>\n",
       "      <td>Sunday</td>\n",
       "      <td>December</td>\n",
       "    </tr>\n",
       "    <tr>\n",
       "      <th>1987-12-07</th>\n",
       "      <td>Monday</td>\n",
       "      <td>December</td>\n",
       "    </tr>\n",
       "    <tr>\n",
       "      <th>1987-12-08</th>\n",
       "      <td>Tuesday</td>\n",
       "      <td>December</td>\n",
       "    </tr>\n",
       "    <tr>\n",
       "      <th>1987-12-09</th>\n",
       "      <td>Wednesday</td>\n",
       "      <td>December</td>\n",
       "    </tr>\n",
       "    <tr>\n",
       "      <th>1987-12-10</th>\n",
       "      <td>Thursday</td>\n",
       "      <td>December</td>\n",
       "    </tr>\n",
       "    <tr>\n",
       "      <th>1987-12-11</th>\n",
       "      <td>Friday</td>\n",
       "      <td>December</td>\n",
       "    </tr>\n",
       "    <tr>\n",
       "      <th>1987-12-12</th>\n",
       "      <td>Saturday</td>\n",
       "      <td>December</td>\n",
       "    </tr>\n",
       "    <tr>\n",
       "      <th>1987-12-13</th>\n",
       "      <td>Sunday</td>\n",
       "      <td>December</td>\n",
       "    </tr>\n",
       "    <tr>\n",
       "      <th>1987-12-14</th>\n",
       "      <td>Monday</td>\n",
       "      <td>December</td>\n",
       "    </tr>\n",
       "    <tr>\n",
       "      <th>1987-12-15</th>\n",
       "      <td>Tuesday</td>\n",
       "      <td>December</td>\n",
       "    </tr>\n",
       "    <tr>\n",
       "      <th>1987-12-16</th>\n",
       "      <td>Wednesday</td>\n",
       "      <td>December</td>\n",
       "    </tr>\n",
       "    <tr>\n",
       "      <th>1987-12-17</th>\n",
       "      <td>Thursday</td>\n",
       "      <td>December</td>\n",
       "    </tr>\n",
       "    <tr>\n",
       "      <th>1987-12-18</th>\n",
       "      <td>Friday</td>\n",
       "      <td>December</td>\n",
       "    </tr>\n",
       "    <tr>\n",
       "      <th>1987-12-19</th>\n",
       "      <td>Saturday</td>\n",
       "      <td>December</td>\n",
       "    </tr>\n",
       "    <tr>\n",
       "      <th>1987-12-20</th>\n",
       "      <td>Sunday</td>\n",
       "      <td>December</td>\n",
       "    </tr>\n",
       "    <tr>\n",
       "      <th>1987-12-21</th>\n",
       "      <td>Monday</td>\n",
       "      <td>December</td>\n",
       "    </tr>\n",
       "    <tr>\n",
       "      <th>1987-12-22</th>\n",
       "      <td>Tuesday</td>\n",
       "      <td>December</td>\n",
       "    </tr>\n",
       "    <tr>\n",
       "      <th>1987-12-23</th>\n",
       "      <td>Wednesday</td>\n",
       "      <td>December</td>\n",
       "    </tr>\n",
       "    <tr>\n",
       "      <th>1987-12-24</th>\n",
       "      <td>Thursday</td>\n",
       "      <td>December</td>\n",
       "    </tr>\n",
       "  </tbody>\n",
       "</table>\n",
       "</div>"
      ],
      "text/plain": [
       "                  Day     Month\n",
       "Date                           \n",
       "1987-12-01    Tuesday  December\n",
       "1987-12-02  Wednesday  December\n",
       "1987-12-03   Thursday  December\n",
       "1987-12-04     Friday  December\n",
       "1987-12-05   Saturday  December\n",
       "1987-12-06     Sunday  December\n",
       "1987-12-07     Monday  December\n",
       "1987-12-08    Tuesday  December\n",
       "1987-12-09  Wednesday  December\n",
       "1987-12-10   Thursday  December\n",
       "1987-12-11     Friday  December\n",
       "1987-12-12   Saturday  December\n",
       "1987-12-13     Sunday  December\n",
       "1987-12-14     Monday  December\n",
       "1987-12-15    Tuesday  December\n",
       "1987-12-16  Wednesday  December\n",
       "1987-12-17   Thursday  December\n",
       "1987-12-18     Friday  December\n",
       "1987-12-19   Saturday  December\n",
       "1987-12-20     Sunday  December\n",
       "1987-12-21     Monday  December\n",
       "1987-12-22    Tuesday  December\n",
       "1987-12-23  Wednesday  December\n",
       "1987-12-24   Thursday  December"
      ]
     },
     "execution_count": 9,
     "metadata": {},
     "output_type": "execute_result"
    }
   ],
   "source": [
    "# set the index to datetime value\n",
    "df = df.set_index('Date')\n",
    "\n",
    "# slice the dataframe based on time period\n",
    "df['1987-12-01':'1987-12-24']"
   ]
  },
  {
   "cell_type": "markdown",
   "metadata": {},
   "source": [
    "So which day of the week was Ghostbusters released on?"
   ]
  },
  {
   "cell_type": "code",
   "execution_count": 10,
   "metadata": {},
   "outputs": [
    {
     "data": {
      "text/html": [
       "<div>\n",
       "<style scoped>\n",
       "    .dataframe tbody tr th:only-of-type {\n",
       "        vertical-align: middle;\n",
       "    }\n",
       "\n",
       "    .dataframe tbody tr th {\n",
       "        vertical-align: top;\n",
       "    }\n",
       "\n",
       "    .dataframe thead th {\n",
       "        text-align: right;\n",
       "    }\n",
       "</style>\n",
       "<table border=\"1\" class=\"dataframe\">\n",
       "  <thead>\n",
       "    <tr style=\"text-align: right;\">\n",
       "      <th></th>\n",
       "      <th>Day</th>\n",
       "      <th>Month</th>\n",
       "    </tr>\n",
       "    <tr>\n",
       "      <th>Date</th>\n",
       "      <th></th>\n",
       "      <th></th>\n",
       "    </tr>\n",
       "  </thead>\n",
       "  <tbody>\n",
       "    <tr>\n",
       "      <th>1984-11-15</th>\n",
       "      <td>Thursday</td>\n",
       "      <td>November</td>\n",
       "    </tr>\n",
       "  </tbody>\n",
       "</table>\n",
       "</div>"
      ],
      "text/plain": [
       "                 Day     Month\n",
       "Date                          \n",
       "1984-11-15  Thursday  November"
      ]
     },
     "execution_count": 10,
     "metadata": {},
     "output_type": "execute_result"
    }
   ],
   "source": [
    "df['1984-11-15':'1984-11-15']"
   ]
  },
  {
   "cell_type": "markdown",
   "metadata": {},
   "source": [
    "## Using accessors to extract days, years and months\n",
    "\n",
    "Once a field has been converted to a datetime series, we can extract the day, year, month etc using accessor methods. A more detailed explanation of accessors is available here: https://realpython.com/python-pandas-tricks/"
   ]
  },
  {
   "cell_type": "code",
   "execution_count": 11,
   "metadata": {},
   "outputs": [],
   "source": [
    "# given a dataframe of datetime like values...\n",
    "dt1 = pd.to_datetime(dates3, format=\"%d/%m/%Y %H:%M:%S\")\n",
    "# create a column for the year, day, month, hour etc"
   ]
  },
  {
   "cell_type": "code",
   "execution_count": 12,
   "metadata": {},
   "outputs": [
    {
     "name": "stdout",
     "output_type": "stream",
     "text": [
      "0   1984-05-23 17:31:07\n",
      "dtype: datetime64[ns]\n",
      "0    31\n",
      "dtype: int64\n",
      "0    17\n",
      "dtype: int64\n",
      "0    23\n",
      "dtype: int64\n",
      "0    Wednesday\n",
      "dtype: object\n",
      "0    5\n",
      "dtype: int64\n",
      "0    May\n",
      "dtype: object\n",
      "0    1984\n",
      "dtype: int64\n",
      "0    2\n",
      "dtype: int64\n"
     ]
    }
   ],
   "source": [
    "print(dt1)\n",
    "print(dt1.dt.minute)\n",
    "print(dt1.dt.hour)\n",
    "print(dt1.dt.day)\n",
    "print(dt1.dt.day_name())\n",
    "print(dt1.dt.month)\n",
    "print(dt1.dt.month_name())\n",
    "print(dt1.dt.year)\n",
    "print(dt1.dt.quarter)"
   ]
  },
  {
   "cell_type": "markdown",
   "metadata": {},
   "source": [
    "## Time differences\n",
    "\n",
    "Given two timestamp objects, taking the difference returns a Timedelta object"
   ]
  },
  {
   "cell_type": "code",
   "execution_count": 14,
   "metadata": {},
   "outputs": [],
   "source": [
    "# the number of days between when the date that Ghostbusters was released and today\n",
    "time1 = pd.Timestamp(2019, 3, 23)\n",
    "time2 = pd.Timestamp(1984, 11, 15)\n",
    "\n",
    "# returns a Timedelta object\n",
    "time_delta1 = (time1 - time2)"
   ]
  },
  {
   "cell_type": "code",
   "execution_count": 23,
   "metadata": {},
   "outputs": [
    {
     "name": "stdout",
     "output_type": "stream",
     "text": [
      "12546\n",
      "34.37260273972603\n"
     ]
    }
   ],
   "source": [
    "# how many days difference. Returns an integer\n",
    "print(time_delta1.days)\n",
    "\n",
    "# how many years difference?\n",
    "print(time_delta1.days / 365)"
   ]
  },
  {
   "cell_type": "markdown",
   "metadata": {},
   "source": [
    "## Timezones, Unix time and UTC\n",
    "\n",
    "Another topic that I have found very confusing is working with timezone variables.\n",
    "\n",
    "UTC: Coordinated Universal Time\n",
    "\n",
    "Unix time: the number of seconds that have elapsed since 00:00:00 Thursday 1 January 1970 UTC. "
   ]
  },
  {
   "cell_type": "code",
   "execution_count": 19,
   "metadata": {},
   "outputs": [
    {
     "data": {
      "text/plain": [
       "0   1984-05-23 17:31:07\n",
       "dtype: datetime64[ns]"
      ]
     },
     "execution_count": 19,
     "metadata": {},
     "output_type": "execute_result"
    }
   ],
   "source": [
    "from pytz import all_timezones\n",
    "\n",
    "dates3_pd"
   ]
  },
  {
   "cell_type": "code",
   "execution_count": 17,
   "metadata": {},
   "outputs": [
    {
     "data": {
      "text/plain": [
       "['Australia/Eucla',\n",
       " 'Australia/Hobart',\n",
       " 'Australia/LHI',\n",
       " 'Australia/Lindeman',\n",
       " 'Australia/Lord_Howe',\n",
       " 'Australia/Melbourne',\n",
       " 'Australia/NSW',\n",
       " 'Australia/North',\n",
       " 'Australia/Perth',\n",
       " 'Australia/Queensland']"
      ]
     },
     "execution_count": 17,
     "metadata": {},
     "output_type": "execute_result"
    }
   ],
   "source": [
    "# list of timezones\n",
    "all_timezones[350:360]"
   ]
  },
  {
   "cell_type": "code",
   "execution_count": 18,
   "metadata": {},
   "outputs": [
    {
     "data": {
      "text/plain": [
       "0   1984-05-24 02:31:07+10:00\n",
       "dtype: datetime64[ns, Australia/Melbourne]"
      ]
     },
     "execution_count": 18,
     "metadata": {},
     "output_type": "execute_result"
    }
   ],
   "source": [
    "# convert from one timezone to another\n",
    "dates3_pd.dt.tz_localize('Europe/London').dt.tz_convert('Australia/Melbourne')"
   ]
  },
  {
   "cell_type": "code",
   "execution_count": null,
   "metadata": {},
   "outputs": [],
   "source": []
  }
 ],
 "metadata": {
  "kernelspec": {
   "display_name": "Python 3",
   "language": "python",
   "name": "python3"
  },
  "language_info": {
   "codemirror_mode": {
    "name": "ipython",
    "version": 3
   },
   "file_extension": ".py",
   "mimetype": "text/x-python",
   "name": "python",
   "nbconvert_exporter": "python",
   "pygments_lexer": "ipython3",
   "version": "3.6.7"
  }
 },
 "nbformat": 4,
 "nbformat_minor": 2
}
