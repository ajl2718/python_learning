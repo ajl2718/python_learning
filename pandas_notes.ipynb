{
 "cells": [
  {
   "cell_type": "markdown",
   "id": "971a1ced",
   "metadata": {},
   "source": [
    "# Pandas notes: groupby\n",
    "\n",
    "12 November 2021\n",
    "\n",
    "---\n",
    "\n",
    "**Objective**\n",
    "To understand what groupby is doing, and how to think about it.\n",
    "\n",
    "**Description**\n",
    "Despite using it regularly, the groupby operation in Pandas is a constant source of mystery for me, and I often find myself to resorting to stack overflow to solve some seemingly basic problem. This is my attempt to finally clarify what is actually happening when I perform a groupby on a Pandas dataframe, and how operations are then performed on the resulting DataFrameGroupBy object. \n",
    "\n",
    "I'll do this by doing through a few problems that can be tackled effectively using groupby:\n",
    "- Finding all occurences of events leading up to a specific event for a group of patients\n",
    "- Extracting the first n rows from each group\n",
    "- Calculating the running sum of a variable\n",
    "- Applying aggregation functions to groups"
   ]
  },
  {
   "cell_type": "markdown",
   "id": "39bd05e8",
   "metadata": {},
   "source": [
    "## Load up libraries"
   ]
  },
  {
   "cell_type": "code",
   "execution_count": 4,
   "id": "8fdc0f3a",
   "metadata": {},
   "outputs": [],
   "source": [
    "import pandas as pd\n",
    "import numpy as np\n",
    "import matplotlib.pyplot as plt\n",
    "import seaborn as sns\n",
    "\n",
    "sns.set()\n",
    "%matplotlib inline"
   ]
  },
  {
   "cell_type": "markdown",
   "id": "0139e957",
   "metadata": {},
   "source": [
    "## What is the groupby operation?\n",
    "\n",
    "Given a dataframe, a groupby splits it into distinct groups based on the names of the columns that are provided to it. \n",
    "\n",
    "One question I often ask myself is: *what is returned after performing a groupby object and how do I interact with it?*\n",
    "\n",
    "Let's start with an example of some dummy data"
   ]
  },
  {
   "cell_type": "code",
   "execution_count": 40,
   "id": "4053b77a",
   "metadata": {},
   "outputs": [],
   "source": [
    "# create a dataframe\n",
    "patientid_values = [1, 1, 1, 2123, 2123, 2123, 2123, 2123, 1043, 1043, 1043, 1043, 1043, 1043]\n",
    "\n",
    "date_values = ['01/01/2010', '04/09/1987', '25/03/1990',\n",
    "              '17/03/2013', '31/01/2015', '04/07/2016', '19/07/2007', '02/02/2012',\n",
    "              '19/03/2011', '18/08/2004', '31/10/2004', '04/01/2009', '31/03/2010', '07/07/2021']\n",
    "\n",
    "status_values = [0, 0, 1,\n",
    "                0, 1, 1, 0, 0,\n",
    "                1, 0, 0, 1, 0, 1]\n",
    "\n",
    "bpsys_values = [118, 110, 112,\n",
    "               111, 118, 119, 118, 130,\n",
    "               109, 110, 110, 112, 135, 140]\n",
    "\n",
    "df = pd.DataFrame(data={'patientid': patientid_values, 'date': date_values, 'status': status_values,\n",
    "                       'bp_systolic': bpsys_values})\n",
    "\n",
    "df['date'] = pd.to_datetime(df['date'], format='%d/%m/%Y')\n",
    "\n",
    "df = df.sort_values(by=['patientid', 'date']).reset_index()[['patientid', 'date', 'status', 'bp_systolic']]"
   ]
  },
  {
   "cell_type": "code",
   "execution_count": 41,
   "id": "dd5a7ac7",
   "metadata": {},
   "outputs": [
    {
     "data": {
      "text/plain": [
       "<pandas.core.groupby.generic.DataFrameGroupBy object at 0x1290a4ee0>"
      ]
     },
     "execution_count": 41,
     "metadata": {},
     "output_type": "execute_result"
    }
   ],
   "source": [
    "# let's group by the patient id\n",
    "df.groupby('patientid')"
   ]
  },
  {
   "cell_type": "markdown",
   "id": "7d3a3f7d",
   "metadata": {},
   "source": [
    "This returns a DataFrameGroupBy object. We can inspect the groups, apply functions to the groups and check their size as follows:"
   ]
  },
  {
   "cell_type": "code",
   "execution_count": 42,
   "id": "99186b33",
   "metadata": {},
   "outputs": [
    {
     "data": {
      "text/plain": [
       "{1: [0, 1, 2], 1043: [3, 4, 5, 6, 7, 8], 2123: [9, 10, 11, 12, 13]}"
      ]
     },
     "execution_count": 42,
     "metadata": {},
     "output_type": "execute_result"
    }
   ],
   "source": [
    "# for each of the groups, with patientid being the label, this gives a list of the indices \n",
    "# in the original dataframe that correspond to them\n",
    "df.groupby('patientid').groups"
   ]
  },
  {
   "cell_type": "code",
   "execution_count": 43,
   "id": "cc10f090",
   "metadata": {},
   "outputs": [
    {
     "data": {
      "text/html": [
       "<div>\n",
       "<style scoped>\n",
       "    .dataframe tbody tr th:only-of-type {\n",
       "        vertical-align: middle;\n",
       "    }\n",
       "\n",
       "    .dataframe tbody tr th {\n",
       "        vertical-align: top;\n",
       "    }\n",
       "\n",
       "    .dataframe thead th {\n",
       "        text-align: right;\n",
       "    }\n",
       "</style>\n",
       "<table border=\"1\" class=\"dataframe\">\n",
       "  <thead>\n",
       "    <tr style=\"text-align: right;\">\n",
       "      <th></th>\n",
       "      <th>patientid</th>\n",
       "      <th>date</th>\n",
       "      <th>status</th>\n",
       "      <th>bp_systolic</th>\n",
       "    </tr>\n",
       "  </thead>\n",
       "  <tbody>\n",
       "    <tr>\n",
       "      <th>9</th>\n",
       "      <td>2123</td>\n",
       "      <td>2007-07-19</td>\n",
       "      <td>0</td>\n",
       "      <td>118</td>\n",
       "    </tr>\n",
       "    <tr>\n",
       "      <th>10</th>\n",
       "      <td>2123</td>\n",
       "      <td>2012-02-02</td>\n",
       "      <td>0</td>\n",
       "      <td>130</td>\n",
       "    </tr>\n",
       "    <tr>\n",
       "      <th>11</th>\n",
       "      <td>2123</td>\n",
       "      <td>2013-03-17</td>\n",
       "      <td>0</td>\n",
       "      <td>111</td>\n",
       "    </tr>\n",
       "    <tr>\n",
       "      <th>12</th>\n",
       "      <td>2123</td>\n",
       "      <td>2015-01-31</td>\n",
       "      <td>1</td>\n",
       "      <td>118</td>\n",
       "    </tr>\n",
       "    <tr>\n",
       "      <th>13</th>\n",
       "      <td>2123</td>\n",
       "      <td>2016-07-04</td>\n",
       "      <td>1</td>\n",
       "      <td>119</td>\n",
       "    </tr>\n",
       "  </tbody>\n",
       "</table>\n",
       "</div>"
      ],
      "text/plain": [
       "    patientid       date  status  bp_systolic\n",
       "9        2123 2007-07-19       0          118\n",
       "10       2123 2012-02-02       0          130\n",
       "11       2123 2013-03-17       0          111\n",
       "12       2123 2015-01-31       1          118\n",
       "13       2123 2016-07-04       1          119"
      ]
     },
     "execution_count": 43,
     "metadata": {},
     "output_type": "execute_result"
    }
   ],
   "source": [
    "# we can then return the data for a specific group\n",
    "df.groupby('patientid').get_group(2123)"
   ]
  },
  {
   "cell_type": "code",
   "execution_count": 44,
   "id": "2cc84eb4",
   "metadata": {},
   "outputs": [
    {
     "data": {
      "text/plain": [
       "patientid\n",
       "1       3\n",
       "1043    6\n",
       "2123    5\n",
       "dtype: int64"
      ]
     },
     "execution_count": 44,
     "metadata": {},
     "output_type": "execute_result"
    }
   ],
   "source": [
    "# if we want to count the number of elements in each of the groups\n",
    "df.groupby('patientid').size()"
   ]
  },
  {
   "cell_type": "code",
   "execution_count": 45,
   "id": "01c9e38e",
   "metadata": {},
   "outputs": [
    {
     "data": {
      "text/plain": [
       "patientid\n",
       "1       <class 'pandas.core.frame.DataFrame'>\n",
       "1043    <class 'pandas.core.frame.DataFrame'>\n",
       "2123    <class 'pandas.core.frame.DataFrame'>\n",
       "dtype: object"
      ]
     },
     "execution_count": 45,
     "metadata": {},
     "output_type": "execute_result"
    }
   ],
   "source": [
    "# apply a function to each group\n",
    "df.groupby('patientid').apply(lambda g: type(g))"
   ]
  },
  {
   "cell_type": "markdown",
   "id": "c010b484",
   "metadata": {},
   "source": [
    "So what is this DataFrameGroupBy object? "
   ]
  },
  {
   "cell_type": "markdown",
   "id": "708d79b4",
   "metadata": {},
   "source": [
    "We see that the groupby operation splits up the dataframe into separate dataframes based on the patientid in this case, which means all the operations that can be applied to dataframes can be applied via the *apply* operation. Let's look at how some specific problems can now be solved."
   ]
  },
  {
   "cell_type": "code",
   "execution_count": 46,
   "id": "4835993c",
   "metadata": {},
   "outputs": [
    {
     "data": {
      "text/plain": [
       "patientid\n",
       "1       1\n",
       "1043    3\n",
       "2123    2\n",
       "Name: status, dtype: int64"
      ]
     },
     "execution_count": 46,
     "metadata": {},
     "output_type": "execute_result"
    }
   ],
   "source": [
    "df.groupby('patientid')['status'].sum()"
   ]
  },
  {
   "cell_type": "code",
   "execution_count": 47,
   "id": "5b93c717",
   "metadata": {},
   "outputs": [],
   "source": [
    "gb1 = df.groupby('patientid').__iter__()"
   ]
  },
  {
   "cell_type": "code",
   "execution_count": 48,
   "id": "c12d085c",
   "metadata": {},
   "outputs": [
    {
     "data": {
      "text/plain": [
       "(1,\n",
       "    patientid       date  status  bp_systolic\n",
       " 0          1 1987-09-04       0          110\n",
       " 1          1 1990-03-25       1          112\n",
       " 2          1 2010-01-01       0          118)"
      ]
     },
     "execution_count": 48,
     "metadata": {},
     "output_type": "execute_result"
    }
   ],
   "source": [
    "next(gb1)"
   ]
  },
  {
   "cell_type": "markdown",
   "id": "f7ed4ad2",
   "metadata": {},
   "source": [
    "We can also get a SeriesGroupBy object if we index the DataFrameGroupBy object by one of the original column\n",
    "names"
   ]
  },
  {
   "cell_type": "markdown",
   "id": "366f2c51",
   "metadata": {},
   "source": [
    "As expected, this also has a groups attribute and a get_group method which behave similarly to the ones before:"
   ]
  },
  {
   "cell_type": "code",
   "execution_count": 49,
   "id": "ac75cc43",
   "metadata": {},
   "outputs": [
    {
     "data": {
      "text/plain": [
       "({1: [0, 1, 2], 1043: [3, 4, 5, 6, 7, 8], 2123: [9, 10, 11, 12, 13]},\n",
       " 3    0\n",
       " 4    0\n",
       " 5    1\n",
       " 6    0\n",
       " 7    1\n",
       " 8    1\n",
       " Name: status, dtype: int64)"
      ]
     },
     "execution_count": 49,
     "metadata": {},
     "output_type": "execute_result"
    }
   ],
   "source": [
    "df.groupby('patientid')['status'].groups, df.groupby('patientid')['status'].get_group(1043)"
   ]
  },
  {
   "cell_type": "markdown",
   "id": "9598c546",
   "metadata": {},
   "source": [
    "### 1. Finding all occurences of events leading up to a specific event for a group of patients"
   ]
  },
  {
   "cell_type": "code",
   "execution_count": 59,
   "id": "5071641a",
   "metadata": {},
   "outputs": [
    {
     "data": {
      "text/html": [
       "<div>\n",
       "<style scoped>\n",
       "    .dataframe tbody tr th:only-of-type {\n",
       "        vertical-align: middle;\n",
       "    }\n",
       "\n",
       "    .dataframe tbody tr th {\n",
       "        vertical-align: top;\n",
       "    }\n",
       "\n",
       "    .dataframe thead th {\n",
       "        text-align: right;\n",
       "    }\n",
       "</style>\n",
       "<table border=\"1\" class=\"dataframe\">\n",
       "  <thead>\n",
       "    <tr style=\"text-align: right;\">\n",
       "      <th></th>\n",
       "      <th></th>\n",
       "      <th>patientid</th>\n",
       "      <th>date</th>\n",
       "      <th>status</th>\n",
       "      <th>bp_systolic</th>\n",
       "      <th>status_cumsum</th>\n",
       "    </tr>\n",
       "    <tr>\n",
       "      <th>patientid</th>\n",
       "      <th></th>\n",
       "      <th></th>\n",
       "      <th></th>\n",
       "      <th></th>\n",
       "      <th></th>\n",
       "      <th></th>\n",
       "    </tr>\n",
       "  </thead>\n",
       "  <tbody>\n",
       "    <tr>\n",
       "      <th rowspan=\"2\" valign=\"top\">1</th>\n",
       "      <th>0</th>\n",
       "      <td>1</td>\n",
       "      <td>1987-09-04</td>\n",
       "      <td>0</td>\n",
       "      <td>110</td>\n",
       "      <td>0</td>\n",
       "    </tr>\n",
       "    <tr>\n",
       "      <th>1</th>\n",
       "      <td>1</td>\n",
       "      <td>1990-03-25</td>\n",
       "      <td>1</td>\n",
       "      <td>112</td>\n",
       "      <td>1</td>\n",
       "    </tr>\n",
       "    <tr>\n",
       "      <th rowspan=\"3\" valign=\"top\">1043</th>\n",
       "      <th>3</th>\n",
       "      <td>1043</td>\n",
       "      <td>2004-08-18</td>\n",
       "      <td>0</td>\n",
       "      <td>110</td>\n",
       "      <td>0</td>\n",
       "    </tr>\n",
       "    <tr>\n",
       "      <th>4</th>\n",
       "      <td>1043</td>\n",
       "      <td>2004-10-31</td>\n",
       "      <td>0</td>\n",
       "      <td>110</td>\n",
       "      <td>0</td>\n",
       "    </tr>\n",
       "    <tr>\n",
       "      <th>5</th>\n",
       "      <td>1043</td>\n",
       "      <td>2009-01-04</td>\n",
       "      <td>1</td>\n",
       "      <td>112</td>\n",
       "      <td>1</td>\n",
       "    </tr>\n",
       "    <tr>\n",
       "      <th rowspan=\"4\" valign=\"top\">2123</th>\n",
       "      <th>9</th>\n",
       "      <td>2123</td>\n",
       "      <td>2007-07-19</td>\n",
       "      <td>0</td>\n",
       "      <td>118</td>\n",
       "      <td>0</td>\n",
       "    </tr>\n",
       "    <tr>\n",
       "      <th>10</th>\n",
       "      <td>2123</td>\n",
       "      <td>2012-02-02</td>\n",
       "      <td>0</td>\n",
       "      <td>130</td>\n",
       "      <td>0</td>\n",
       "    </tr>\n",
       "    <tr>\n",
       "      <th>11</th>\n",
       "      <td>2123</td>\n",
       "      <td>2013-03-17</td>\n",
       "      <td>0</td>\n",
       "      <td>111</td>\n",
       "      <td>0</td>\n",
       "    </tr>\n",
       "    <tr>\n",
       "      <th>12</th>\n",
       "      <td>2123</td>\n",
       "      <td>2015-01-31</td>\n",
       "      <td>1</td>\n",
       "      <td>118</td>\n",
       "      <td>1</td>\n",
       "    </tr>\n",
       "  </tbody>\n",
       "</table>\n",
       "</div>"
      ],
      "text/plain": [
       "              patientid       date  status  bp_systolic  status_cumsum\n",
       "patientid                                                             \n",
       "1         0           1 1987-09-04       0          110              0\n",
       "          1           1 1990-03-25       1          112              1\n",
       "1043      3        1043 2004-08-18       0          110              0\n",
       "          4        1043 2004-10-31       0          110              0\n",
       "          5        1043 2009-01-04       1          112              1\n",
       "2123      9        2123 2007-07-19       0          118              0\n",
       "          10       2123 2012-02-02       0          130              0\n",
       "          11       2123 2013-03-17       0          111              0\n",
       "          12       2123 2015-01-31       1          118              1"
      ]
     },
     "execution_count": 59,
     "metadata": {},
     "output_type": "execute_result"
    }
   ],
   "source": [
    "# for each patientid, find all events up to and including a status==1\n",
    "df.groupby('patientid').apply(lambda g: g.iloc[:np.where(g['status'] == 1)[0][0]+1])"
   ]
  },
  {
   "cell_type": "code",
   "execution_count": 68,
   "id": "6b50ea9a",
   "metadata": {},
   "outputs": [
    {
     "data": {
      "text/html": [
       "<div>\n",
       "<style scoped>\n",
       "    .dataframe tbody tr th:only-of-type {\n",
       "        vertical-align: middle;\n",
       "    }\n",
       "\n",
       "    .dataframe tbody tr th {\n",
       "        vertical-align: top;\n",
       "    }\n",
       "\n",
       "    .dataframe thead th {\n",
       "        text-align: right;\n",
       "    }\n",
       "</style>\n",
       "<table border=\"1\" class=\"dataframe\">\n",
       "  <thead>\n",
       "    <tr style=\"text-align: right;\">\n",
       "      <th></th>\n",
       "      <th></th>\n",
       "      <th>patientid</th>\n",
       "      <th>date</th>\n",
       "      <th>status</th>\n",
       "      <th>bp_systolic</th>\n",
       "      <th>status_cumsum</th>\n",
       "    </tr>\n",
       "    <tr>\n",
       "      <th>patientid</th>\n",
       "      <th></th>\n",
       "      <th></th>\n",
       "      <th></th>\n",
       "      <th></th>\n",
       "      <th></th>\n",
       "      <th></th>\n",
       "    </tr>\n",
       "  </thead>\n",
       "  <tbody>\n",
       "    <tr>\n",
       "      <th rowspan=\"2\" valign=\"top\">1043</th>\n",
       "      <th>6</th>\n",
       "      <td>1043</td>\n",
       "      <td>2010-03-31</td>\n",
       "      <td>0</td>\n",
       "      <td>135</td>\n",
       "      <td>1</td>\n",
       "    </tr>\n",
       "    <tr>\n",
       "      <th>8</th>\n",
       "      <td>1043</td>\n",
       "      <td>2021-07-07</td>\n",
       "      <td>1</td>\n",
       "      <td>140</td>\n",
       "      <td>3</td>\n",
       "    </tr>\n",
       "    <tr>\n",
       "      <th>2123</th>\n",
       "      <th>10</th>\n",
       "      <td>2123</td>\n",
       "      <td>2012-02-02</td>\n",
       "      <td>0</td>\n",
       "      <td>130</td>\n",
       "      <td>0</td>\n",
       "    </tr>\n",
       "  </tbody>\n",
       "</table>\n",
       "</div>"
      ],
      "text/plain": [
       "              patientid       date  status  bp_systolic  status_cumsum\n",
       "patientid                                                             \n",
       "1043      6        1043 2010-03-31       0          135              1\n",
       "          8        1043 2021-07-07       1          140              3\n",
       "2123      10       2123 2012-02-02       0          130              0"
      ]
     },
     "execution_count": 68,
     "metadata": {},
     "output_type": "execute_result"
    }
   ],
   "source": [
    "# for each patientid, find all events up to and including above the systolic bp value of 120\n",
    "df.groupby('patientid').apply(lambda g: g[g['bp_systolic'].ge(120)])"
   ]
  },
  {
   "cell_type": "markdown",
   "id": "17864714",
   "metadata": {},
   "source": [
    "### 2. Extracting the first n rows from each group"
   ]
  },
  {
   "cell_type": "code",
   "execution_count": 52,
   "id": "cd3f10fb",
   "metadata": {},
   "outputs": [
    {
     "data": {
      "text/html": [
       "<div>\n",
       "<style scoped>\n",
       "    .dataframe tbody tr th:only-of-type {\n",
       "        vertical-align: middle;\n",
       "    }\n",
       "\n",
       "    .dataframe tbody tr th {\n",
       "        vertical-align: top;\n",
       "    }\n",
       "\n",
       "    .dataframe thead th {\n",
       "        text-align: right;\n",
       "    }\n",
       "</style>\n",
       "<table border=\"1\" class=\"dataframe\">\n",
       "  <thead>\n",
       "    <tr style=\"text-align: right;\">\n",
       "      <th></th>\n",
       "      <th>patientid</th>\n",
       "      <th>date</th>\n",
       "      <th>status</th>\n",
       "      <th>bp_systolic</th>\n",
       "    </tr>\n",
       "  </thead>\n",
       "  <tbody>\n",
       "    <tr>\n",
       "      <th>0</th>\n",
       "      <td>1</td>\n",
       "      <td>1987-09-04</td>\n",
       "      <td>0</td>\n",
       "      <td>110</td>\n",
       "    </tr>\n",
       "    <tr>\n",
       "      <th>1</th>\n",
       "      <td>1</td>\n",
       "      <td>1990-03-25</td>\n",
       "      <td>1</td>\n",
       "      <td>112</td>\n",
       "    </tr>\n",
       "    <tr>\n",
       "      <th>2</th>\n",
       "      <td>1</td>\n",
       "      <td>2010-01-01</td>\n",
       "      <td>0</td>\n",
       "      <td>118</td>\n",
       "    </tr>\n",
       "    <tr>\n",
       "      <th>3</th>\n",
       "      <td>1043</td>\n",
       "      <td>2004-08-18</td>\n",
       "      <td>0</td>\n",
       "      <td>110</td>\n",
       "    </tr>\n",
       "    <tr>\n",
       "      <th>4</th>\n",
       "      <td>1043</td>\n",
       "      <td>2004-10-31</td>\n",
       "      <td>0</td>\n",
       "      <td>110</td>\n",
       "    </tr>\n",
       "    <tr>\n",
       "      <th>5</th>\n",
       "      <td>1043</td>\n",
       "      <td>2009-01-04</td>\n",
       "      <td>1</td>\n",
       "      <td>112</td>\n",
       "    </tr>\n",
       "    <tr>\n",
       "      <th>9</th>\n",
       "      <td>2123</td>\n",
       "      <td>2007-07-19</td>\n",
       "      <td>0</td>\n",
       "      <td>118</td>\n",
       "    </tr>\n",
       "    <tr>\n",
       "      <th>10</th>\n",
       "      <td>2123</td>\n",
       "      <td>2012-02-02</td>\n",
       "      <td>0</td>\n",
       "      <td>130</td>\n",
       "    </tr>\n",
       "    <tr>\n",
       "      <th>11</th>\n",
       "      <td>2123</td>\n",
       "      <td>2013-03-17</td>\n",
       "      <td>0</td>\n",
       "      <td>111</td>\n",
       "    </tr>\n",
       "  </tbody>\n",
       "</table>\n",
       "</div>"
      ],
      "text/plain": [
       "    patientid       date  status  bp_systolic\n",
       "0           1 1987-09-04       0          110\n",
       "1           1 1990-03-25       1          112\n",
       "2           1 2010-01-01       0          118\n",
       "3        1043 2004-08-18       0          110\n",
       "4        1043 2004-10-31       0          110\n",
       "5        1043 2009-01-04       1          112\n",
       "9        2123 2007-07-19       0          118\n",
       "10       2123 2012-02-02       0          130\n",
       "11       2123 2013-03-17       0          111"
      ]
     },
     "execution_count": 52,
     "metadata": {},
     "output_type": "execute_result"
    }
   ],
   "source": [
    "df.groupby('patientid').head(3)"
   ]
  },
  {
   "cell_type": "code",
   "execution_count": 53,
   "id": "53297beb",
   "metadata": {},
   "outputs": [
    {
     "data": {
      "text/html": [
       "<div>\n",
       "<style scoped>\n",
       "    .dataframe tbody tr th:only-of-type {\n",
       "        vertical-align: middle;\n",
       "    }\n",
       "\n",
       "    .dataframe tbody tr th {\n",
       "        vertical-align: top;\n",
       "    }\n",
       "\n",
       "    .dataframe thead th {\n",
       "        text-align: right;\n",
       "    }\n",
       "</style>\n",
       "<table border=\"1\" class=\"dataframe\">\n",
       "  <thead>\n",
       "    <tr style=\"text-align: right;\">\n",
       "      <th></th>\n",
       "      <th>date</th>\n",
       "      <th>status</th>\n",
       "      <th>bp_systolic</th>\n",
       "    </tr>\n",
       "    <tr>\n",
       "      <th>patientid</th>\n",
       "      <th></th>\n",
       "      <th></th>\n",
       "      <th></th>\n",
       "    </tr>\n",
       "  </thead>\n",
       "  <tbody>\n",
       "    <tr>\n",
       "      <th>1</th>\n",
       "      <td>2010-01-01</td>\n",
       "      <td>0</td>\n",
       "      <td>118</td>\n",
       "    </tr>\n",
       "    <tr>\n",
       "      <th>1043</th>\n",
       "      <td>2021-07-07</td>\n",
       "      <td>1</td>\n",
       "      <td>140</td>\n",
       "    </tr>\n",
       "    <tr>\n",
       "      <th>2123</th>\n",
       "      <td>2016-07-04</td>\n",
       "      <td>1</td>\n",
       "      <td>119</td>\n",
       "    </tr>\n",
       "  </tbody>\n",
       "</table>\n",
       "</div>"
      ],
      "text/plain": [
       "                date  status  bp_systolic\n",
       "patientid                                \n",
       "1         2010-01-01       0          118\n",
       "1043      2021-07-07       1          140\n",
       "2123      2016-07-04       1          119"
      ]
     },
     "execution_count": 53,
     "metadata": {},
     "output_type": "execute_result"
    }
   ],
   "source": [
    "# get the last element of each group\n",
    "df.groupby('patientid').last()"
   ]
  },
  {
   "cell_type": "markdown",
   "id": "7b5fcb0e",
   "metadata": {},
   "source": [
    "### 3. Calculating the running sum of a variable"
   ]
  },
  {
   "cell_type": "code",
   "execution_count": 54,
   "id": "29c2037f",
   "metadata": {},
   "outputs": [],
   "source": [
    "df['status_cumsum'] = df.groupby('patientid')['status'].cumsum()"
   ]
  },
  {
   "cell_type": "code",
   "execution_count": 55,
   "id": "4c9b1789",
   "metadata": {},
   "outputs": [
    {
     "data": {
      "text/html": [
       "<div>\n",
       "<style scoped>\n",
       "    .dataframe tbody tr th:only-of-type {\n",
       "        vertical-align: middle;\n",
       "    }\n",
       "\n",
       "    .dataframe tbody tr th {\n",
       "        vertical-align: top;\n",
       "    }\n",
       "\n",
       "    .dataframe thead th {\n",
       "        text-align: right;\n",
       "    }\n",
       "</style>\n",
       "<table border=\"1\" class=\"dataframe\">\n",
       "  <thead>\n",
       "    <tr style=\"text-align: right;\">\n",
       "      <th></th>\n",
       "      <th>patientid</th>\n",
       "      <th>date</th>\n",
       "      <th>status</th>\n",
       "      <th>bp_systolic</th>\n",
       "      <th>status_cumsum</th>\n",
       "    </tr>\n",
       "  </thead>\n",
       "  <tbody>\n",
       "    <tr>\n",
       "      <th>0</th>\n",
       "      <td>1</td>\n",
       "      <td>1987-09-04</td>\n",
       "      <td>0</td>\n",
       "      <td>110</td>\n",
       "      <td>0</td>\n",
       "    </tr>\n",
       "    <tr>\n",
       "      <th>1</th>\n",
       "      <td>1</td>\n",
       "      <td>1990-03-25</td>\n",
       "      <td>1</td>\n",
       "      <td>112</td>\n",
       "      <td>1</td>\n",
       "    </tr>\n",
       "    <tr>\n",
       "      <th>2</th>\n",
       "      <td>1</td>\n",
       "      <td>2010-01-01</td>\n",
       "      <td>0</td>\n",
       "      <td>118</td>\n",
       "      <td>1</td>\n",
       "    </tr>\n",
       "    <tr>\n",
       "      <th>3</th>\n",
       "      <td>1043</td>\n",
       "      <td>2004-08-18</td>\n",
       "      <td>0</td>\n",
       "      <td>110</td>\n",
       "      <td>0</td>\n",
       "    </tr>\n",
       "    <tr>\n",
       "      <th>4</th>\n",
       "      <td>1043</td>\n",
       "      <td>2004-10-31</td>\n",
       "      <td>0</td>\n",
       "      <td>110</td>\n",
       "      <td>0</td>\n",
       "    </tr>\n",
       "    <tr>\n",
       "      <th>5</th>\n",
       "      <td>1043</td>\n",
       "      <td>2009-01-04</td>\n",
       "      <td>1</td>\n",
       "      <td>112</td>\n",
       "      <td>1</td>\n",
       "    </tr>\n",
       "    <tr>\n",
       "      <th>6</th>\n",
       "      <td>1043</td>\n",
       "      <td>2010-03-31</td>\n",
       "      <td>0</td>\n",
       "      <td>135</td>\n",
       "      <td>1</td>\n",
       "    </tr>\n",
       "    <tr>\n",
       "      <th>7</th>\n",
       "      <td>1043</td>\n",
       "      <td>2011-03-19</td>\n",
       "      <td>1</td>\n",
       "      <td>109</td>\n",
       "      <td>2</td>\n",
       "    </tr>\n",
       "    <tr>\n",
       "      <th>8</th>\n",
       "      <td>1043</td>\n",
       "      <td>2021-07-07</td>\n",
       "      <td>1</td>\n",
       "      <td>140</td>\n",
       "      <td>3</td>\n",
       "    </tr>\n",
       "    <tr>\n",
       "      <th>9</th>\n",
       "      <td>2123</td>\n",
       "      <td>2007-07-19</td>\n",
       "      <td>0</td>\n",
       "      <td>118</td>\n",
       "      <td>0</td>\n",
       "    </tr>\n",
       "    <tr>\n",
       "      <th>10</th>\n",
       "      <td>2123</td>\n",
       "      <td>2012-02-02</td>\n",
       "      <td>0</td>\n",
       "      <td>130</td>\n",
       "      <td>0</td>\n",
       "    </tr>\n",
       "    <tr>\n",
       "      <th>11</th>\n",
       "      <td>2123</td>\n",
       "      <td>2013-03-17</td>\n",
       "      <td>0</td>\n",
       "      <td>111</td>\n",
       "      <td>0</td>\n",
       "    </tr>\n",
       "    <tr>\n",
       "      <th>12</th>\n",
       "      <td>2123</td>\n",
       "      <td>2015-01-31</td>\n",
       "      <td>1</td>\n",
       "      <td>118</td>\n",
       "      <td>1</td>\n",
       "    </tr>\n",
       "    <tr>\n",
       "      <th>13</th>\n",
       "      <td>2123</td>\n",
       "      <td>2016-07-04</td>\n",
       "      <td>1</td>\n",
       "      <td>119</td>\n",
       "      <td>2</td>\n",
       "    </tr>\n",
       "  </tbody>\n",
       "</table>\n",
       "</div>"
      ],
      "text/plain": [
       "    patientid       date  status  bp_systolic  status_cumsum\n",
       "0           1 1987-09-04       0          110              0\n",
       "1           1 1990-03-25       1          112              1\n",
       "2           1 2010-01-01       0          118              1\n",
       "3        1043 2004-08-18       0          110              0\n",
       "4        1043 2004-10-31       0          110              0\n",
       "5        1043 2009-01-04       1          112              1\n",
       "6        1043 2010-03-31       0          135              1\n",
       "7        1043 2011-03-19       1          109              2\n",
       "8        1043 2021-07-07       1          140              3\n",
       "9        2123 2007-07-19       0          118              0\n",
       "10       2123 2012-02-02       0          130              0\n",
       "11       2123 2013-03-17       0          111              0\n",
       "12       2123 2015-01-31       1          118              1\n",
       "13       2123 2016-07-04       1          119              2"
      ]
     },
     "execution_count": 55,
     "metadata": {},
     "output_type": "execute_result"
    }
   ],
   "source": [
    "df"
   ]
  },
  {
   "cell_type": "markdown",
   "id": "df55f5e2",
   "metadata": {},
   "source": [
    "### 4. Applying aggregation functions to groups"
   ]
  },
  {
   "cell_type": "code",
   "execution_count": 58,
   "id": "86b395f5",
   "metadata": {},
   "outputs": [
    {
     "data": {
      "text/html": [
       "<div>\n",
       "<style scoped>\n",
       "    .dataframe tbody tr th:only-of-type {\n",
       "        vertical-align: middle;\n",
       "    }\n",
       "\n",
       "    .dataframe tbody tr th {\n",
       "        vertical-align: top;\n",
       "    }\n",
       "\n",
       "    .dataframe thead th {\n",
       "        text-align: right;\n",
       "    }\n",
       "</style>\n",
       "<table border=\"1\" class=\"dataframe\">\n",
       "  <thead>\n",
       "    <tr style=\"text-align: right;\">\n",
       "      <th></th>\n",
       "      <th>mean</th>\n",
       "      <th>var</th>\n",
       "    </tr>\n",
       "    <tr>\n",
       "      <th>patientid</th>\n",
       "      <th></th>\n",
       "      <th></th>\n",
       "    </tr>\n",
       "  </thead>\n",
       "  <tbody>\n",
       "    <tr>\n",
       "      <th>1</th>\n",
       "      <td>113.333333</td>\n",
       "      <td>17.333333</td>\n",
       "    </tr>\n",
       "    <tr>\n",
       "      <th>1043</th>\n",
       "      <td>119.333333</td>\n",
       "      <td>201.466667</td>\n",
       "    </tr>\n",
       "    <tr>\n",
       "      <th>2123</th>\n",
       "      <td>119.200000</td>\n",
       "      <td>46.700000</td>\n",
       "    </tr>\n",
       "  </tbody>\n",
       "</table>\n",
       "</div>"
      ],
      "text/plain": [
       "                 mean         var\n",
       "patientid                        \n",
       "1          113.333333   17.333333\n",
       "1043       119.333333  201.466667\n",
       "2123       119.200000   46.700000"
      ]
     },
     "execution_count": 58,
     "metadata": {},
     "output_type": "execute_result"
    }
   ],
   "source": [
    "df.groupby('patientid')['bp_systolic'].agg([np.mean, np.var])"
   ]
  }
 ],
 "metadata": {
  "kernelspec": {
   "display_name": "Python 3 (ipykernel)",
   "language": "python",
   "name": "python3"
  },
  "language_info": {
   "codemirror_mode": {
    "name": "ipython",
    "version": 3
   },
   "file_extension": ".py",
   "mimetype": "text/x-python",
   "name": "python",
   "nbconvert_exporter": "python",
   "pygments_lexer": "ipython3",
   "version": "3.9.6"
  }
 },
 "nbformat": 4,
 "nbformat_minor": 5
}
