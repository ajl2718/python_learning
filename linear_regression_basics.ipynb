{
 "cells": [
  {
   "cell_type": "markdown",
   "id": "06ae7b5d",
   "metadata": {},
   "source": [
    "# Linear regression basics\n",
    "\n",
    "6 September 2021\n",
    "\n",
    "---\n",
    "\n",
    "Fitting, estimating parameters, estimating z-values and p-values.\n",
    "\n",
    "From <b>Chapter 2 of Hastie, Tibshirani and Friedman \"Elements of Statistical Learning\"</b>\n",
    "\n",
    "To do:\n",
    "- Calculate the p-values (done)\n",
    "- t-distribution for z (done)\n",
    "- Chi^2 distribution for the sample variance (done)\n",
    "    - Distribution of the sum of squares of normally distributed random variables\n",
    "    \n",
    "- Understand F-statistics\n",
    "- Calculate the confidence intervals for each of the parameters in the model\n",
    "- Fit different models to data and determine which is the best based on the z- and F-statistics\n",
    "- Generate the confidence set"
   ]
  },
  {
   "cell_type": "code",
   "execution_count": 151,
   "id": "bc62e81b",
   "metadata": {},
   "outputs": [],
   "source": [
    "import pandas as pd\n",
    "import numpy as np\n",
    "import matplotlib.pyplot as plt\n",
    "import seaborn as sns\n",
    "from numpy.linalg import inv as invert\n",
    "from numpy import matmul as multiply\n",
    "from numpy import diag as diagonal\n",
    "from numpy import repeat as repeat\n",
    "\n",
    "sns.set()\n",
    "%matplotlib inline"
   ]
  },
  {
   "cell_type": "markdown",
   "id": "1ec970a5",
   "metadata": {},
   "source": [
    "## Functions for estimating stuff\n",
    "\n",
    "Regression coefficients, z-scores p-values"
   ]
  },
  {
   "cell_type": "code",
   "execution_count": 191,
   "id": "4f81600e",
   "metadata": {},
   "outputs": [],
   "source": [
    "def estimate_beta(X, y):\n",
    "    \"\"\"\n",
    "    Estimate the parameters of the linear regression model,\n",
    "    assuming y = X * beta\n",
    "    \n",
    "    Args\n",
    "    -----\n",
    "    X: np.array of shape (num_examples, p + 1)\n",
    "    y: np.array of shape (num_examples, num_trials)\n",
    "    \n",
    "    where p is the dimensionality of the data\n",
    "    and num_trials is the number of trials run\n",
    "    \n",
    "    Return\n",
    "    ------\n",
    "    beta: np.array of shape (p + 1, num_trials)\n",
    "    \n",
    "    \"\"\"\n",
    "    beta_est = multiply(multiply(invert(multiply(X.T, X)), X.T), y)\n",
    "    return beta_est\n",
    "\n",
    "def estimate_sigma(X, y):\n",
    "    \"\"\"\n",
    "    Estimate the standard deviation of the Gaussian noise\n",
    "    in the linear model\n",
    "    \n",
    "    Args\n",
    "    ----\n",
    "    X: np.array of shape (num_examples, p + 1)\n",
    "    y: np.array of shape (num_examples, num_trials)\n",
    "    \n",
    "    where p is the dimensionality of the data\n",
    "    and num_trials is the number of trials run\n",
    "    \n",
    "    Return\n",
    "    ------\n",
    "    sigma2_est: np.array of shape (p + 1, num_trials) estimating the variance\n",
    "    \n",
    "    \"\"\"\n",
    "    num_examples, p = X.shape\n",
    "    beta_est = estimate_beta(X, y)\n",
    "    y_est = multiply(X, beta_est)\n",
    "    \n",
    "    sigma_est = np.sqrt(np.sum((ys - y_est)**2, axis=0) / (num_examples - p - 1))\n",
    "    return sigma_est.reshape(1, -1)\n",
    "\n",
    "def estimate_z(X, y):\n",
    "    \"\"\"\n",
    "    Calculate the z-statistics for each of the parameters\n",
    "    in the linear model\n",
    "    \n",
    "    Args\n",
    "    ----\n",
    "    X: np.array of shape (num_examples, p + 1)\n",
    "    y: np.array of shape (num_examples, num_trials)\n",
    "    \n",
    "    where p is the dimensionality of the data\n",
    "    and num_trials is the number of trials run\n",
    "    \n",
    "    Return\n",
    "    ------\n",
    "    beta: np.array of shape (p + 1, num_trials)\n",
    "    \n",
    "    \"\"\"\n",
    "    p, num_trials = y.shape\n",
    "    \n",
    "    beta_est = estimate_beta(X, y)\n",
    "    sigma_est = estimate_sigma(X, y)\n",
    "    V = invert(multiply(X.T, X))\n",
    "    \n",
    "    v = repeat(diagonal(V).reshape(-1, 1), num_trials, axis=1)\n",
    "    z = (beta_est / (sigma_est * np.sqrt(v)))\n",
    "    \n",
    "    return z"
   ]
  },
  {
   "cell_type": "markdown",
   "id": "8d48bbae",
   "metadata": {},
   "source": [
    "## Generate some data"
   ]
  },
  {
   "cell_type": "code",
   "execution_count": 100,
   "id": "61f081c4",
   "metadata": {},
   "outputs": [],
   "source": [
    "num_trials = 2**12\n",
    "num_points = 64\n",
    "\n",
    "sigma = np.sqrt(2.5)\n",
    "\n",
    "# model: y = 1 + 2.5x\n",
    "beta = np.array([[1, 2.5]]).T\n",
    "\n",
    "x = np.arange(1, 10, 9 / num_points)\n",
    "X = np.concatenate([np.ones(num_points).reshape(-1, 1), x.reshape(-1, 1)], axis=1)"
   ]
  },
  {
   "cell_type": "code",
   "execution_count": 4,
   "id": "11123e0a",
   "metadata": {},
   "outputs": [],
   "source": [
    "# exact model\n",
    "y_true = multiply(X, beta)"
   ]
  },
  {
   "cell_type": "code",
   "execution_count": 5,
   "id": "fdc41ef3",
   "metadata": {},
   "outputs": [],
   "source": [
    "# measured values\n",
    "ys = []\n",
    "\n",
    "for n in range(0, num_trials):\n",
    "    y = y_true + sigma * np.random.randn(num_points).reshape(-1, 1)\n",
    "    ys.append(y)"
   ]
  },
  {
   "cell_type": "code",
   "execution_count": 6,
   "id": "d2fa15c1",
   "metadata": {},
   "outputs": [],
   "source": [
    "ys = np.concatenate(ys, axis=1)"
   ]
  },
  {
   "cell_type": "markdown",
   "id": "5d02f522",
   "metadata": {},
   "source": [
    "## Plot data"
   ]
  },
  {
   "cell_type": "code",
   "execution_count": 8,
   "id": "aad02a82",
   "metadata": {},
   "outputs": [
    {
     "data": {
      "image/png": "[encoded data removed]",
      "text/plain": [
       "<Figure size 864x576 with 1 Axes>"
      ]
     },
     "metadata": {
      "needs_background": "light"
     },
     "output_type": "display_data"
    }
   ],
   "source": [
    "plt.figure(figsize=(12, 8))\n",
    "plt.scatter(x, ys[:, 0])\n",
    "plt.show()"
   ]
  },
  {
   "cell_type": "markdown",
   "id": "b6003066",
   "metadata": {},
   "source": [
    "## Parameter estimates and z-scores"
   ]
  },
  {
   "cell_type": "code",
   "execution_count": 207,
   "id": "e10c0cb9",
   "metadata": {},
   "outputs": [],
   "source": [
    "beta_est = estimate_beta(X, ys)\n",
    "sigma_est = estimate_sigma(X, ys)\n",
    "z = estimate_z(X, ys)"
   ]
  },
  {
   "cell_type": "code",
   "execution_count": 208,
   "id": "a75217dc",
   "metadata": {},
   "outputs": [],
   "source": [
    "# estimate the best fit\n",
    "y_pred = multiply(X, beta_est)"
   ]
  },
  {
   "cell_type": "code",
   "execution_count": 209,
   "id": "4d5e5b80",
   "metadata": {},
   "outputs": [
    {
     "data": {
      "text/plain": [
       "(2, 4096)"
      ]
     },
     "execution_count": 209,
     "metadata": {},
     "output_type": "execute_result"
    }
   ],
   "source": [
    "# plot the distribution of the values of beta\n",
    "beta_est.shape"
   ]
  },
  {
   "cell_type": "code",
   "execution_count": 210,
   "id": "dc6c3b56",
   "metadata": {},
   "outputs": [
    {
     "data": {
      "image/png": "[encoded data removed]",
      "text/plain": [
       "<Figure size 864x576 with 1 Axes>"
      ]
     },
     "metadata": {
      "needs_background": "light"
     },
     "output_type": "display_data"
    }
   ],
   "source": [
    "# beta0 estimates\n",
    "plt.figure(figsize=(12, 8))\n",
    "plt.hist(beta_est[0, :], bins=32)\n",
    "plt.show()"
   ]
  },
  {
   "cell_type": "code",
   "execution_count": 211,
   "id": "2a917a96",
   "metadata": {},
   "outputs": [
    {
     "data": {
      "image/png": "[encoded data removed]",
      "text/plain": [
       "<Figure size 864x576 with 1 Axes>"
      ]
     },
     "metadata": {
      "needs_background": "light"
     },
     "output_type": "display_data"
    }
   ],
   "source": [
    "# beta1 estimates\n",
    "plt.figure(figsize=(12, 8))\n",
    "plt.hist(beta_est[1, :], bins=32)\n",
    "plt.show()"
   ]
  },
  {
   "cell_type": "code",
   "execution_count": 212,
   "id": "598baa71",
   "metadata": {},
   "outputs": [
    {
     "data": {
      "text/plain": [
       "(array([1.00703203, 2.49948603]), array([0.21485678, 0.0057842 ]))"
      ]
     },
     "execution_count": 212,
     "metadata": {},
     "output_type": "execute_result"
    }
   ],
   "source": [
    "beta_est.mean(axis=1), beta_est.var(axis=1)"
   ]
  },
  {
   "cell_type": "code",
   "execution_count": 213,
   "id": "93a07109",
   "metadata": {},
   "outputs": [],
   "source": [
    "# distribution of z-scores"
   ]
  },
  {
   "cell_type": "code",
   "execution_count": 220,
   "id": "ba2cd4b6",
   "metadata": {},
   "outputs": [
    {
     "data": {
      "image/png": "[encoded data removed]",
      "text/plain": [
       "<Figure size 864x576 with 1 Axes>"
      ]
     },
     "metadata": {
      "needs_background": "light"
     },
     "output_type": "display_data"
    }
   ],
   "source": [
    "plt.figure(figsize=(12, 8))\n",
    "plt.hist(z[0, :], bins=32, label='$z_0$')\n",
    "plt.hist(z[1, :], bins=32, label='$z_1$')\n",
    "plt.legend()\n",
    "plt.show()"
   ]
  },
  {
   "cell_type": "markdown",
   "id": "1495de57",
   "metadata": {},
   "source": [
    "## Calculate the p-values\n",
    "\n",
    "<b>Null hypothesis</b>: that the value of $\\beta_j = 0$.\n",
    "\n",
    "Under null hypothesis, $z_j$ distributed according to $t$ distribution with $N - p - 1$ degrees of freedom.\n",
    "\n",
    "What is the probability of getting a value at least as large as a given $z_j$ value, under the null hypothesis?"
   ]
  },
  {
   "cell_type": "code",
   "execution_count": 222,
   "id": "21fe17ed",
   "metadata": {},
   "outputs": [],
   "source": [
    "from scipy.stats import t"
   ]
  },
  {
   "cell_type": "code",
   "execution_count": 236,
   "id": "d65b3359",
   "metadata": {},
   "outputs": [],
   "source": [
    "z = z[0, 0]"
   ]
  },
  {
   "cell_type": "code",
   "execution_count": 238,
   "id": "2a645212",
   "metadata": {},
   "outputs": [],
   "source": [
    "p = 1-t.cdf(z, df=62)"
   ]
  },
  {
   "cell_type": "markdown",
   "id": "4b6c404c",
   "metadata": {},
   "source": [
    "## Plot data with estimated best fit"
   ]
  },
  {
   "cell_type": "code",
   "execution_count": 27,
   "id": "eb4b5d5e",
   "metadata": {},
   "outputs": [
    {
     "data": {
      "image/png": "[encoded data removed]",
      "text/plain": [
       "<Figure size 864x576 with 1 Axes>"
      ]
     },
     "metadata": {
      "needs_background": "light"
     },
     "output_type": "display_data"
    }
   ],
   "source": [
    "plt.figure(figsize=(12, 8))\n",
    "plt.scatter(x, y)\n",
    "plt.plot(x, y_pred[:, 0])\n",
    "plt.show()"
   ]
  },
  {
   "cell_type": "markdown",
   "id": "08e86ff5",
   "metadata": {},
   "source": [
    "## Calculate the z-scores and p-values"
   ]
  },
  {
   "cell_type": "code",
   "execution_count": null,
   "id": "676b6371",
   "metadata": {},
   "outputs": [],
   "source": []
  }
 ],
 "metadata": {
  "kernelspec": {
   "display_name": "Python 3 (ipykernel)",
   "language": "python",
   "name": "python3"
  },
  "language_info": {
   "codemirror_mode": {
    "name": "ipython",
    "version": 3
   },
   "file_extension": ".py",
   "mimetype": "text/x-python",
   "name": "python",
   "nbconvert_exporter": "python",
   "pygments_lexer": "ipython3",
   "version": "3.8.10"
  }
 },
 "nbformat": 4,
 "nbformat_minor": 5
}
