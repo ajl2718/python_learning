{
 "cells": [
  {
   "cell_type": "markdown",
   "metadata": {},
   "source": [
    "# Webscraping tutorial\n",
    "\n",
    "16 January 2020\n",
    "\n",
    "---\n",
    "\n",
    "This notebook contains all the code from the blog post \"Intro to webscraping\" from 1 January 2021"
   ]
  },
  {
   "cell_type": "markdown",
   "metadata": {},
   "source": [
    "## First example: Create a dataset of lonely dogs\n",
    "\n",
    "In this example we scrape Pet Rescue (https://www.petrescue.com.au) to create a dataset of dog names and corresponding locations."
   ]
  },
  {
   "cell_type": "markdown",
   "metadata": {},
   "source": [
    "### Install the relevant libraries"
   ]
  },
  {
   "cell_type": "code",
   "execution_count": null,
   "metadata": {},
   "outputs": [],
   "source": [
    "from lxml import html\n",
    "import requests\n",
    "import pandas as pd"
   ]
  },
  {
   "cell_type": "code",
   "execution_count": null,
   "metadata": {},
   "outputs": [],
   "source": [
    "url_base = 'https://www.petrescue.com.au/listings/search/dogs?page='\n",
    "\n",
    "name_path = '//article[@class=\"cards-listings-preview\"]/a/header/h3/text()'\n",
    "location_path = '//strong[@class=\"cards-listings-preview__content__section__location\"]/text()'\n",
    "\n",
    "all_names = []\n",
    "all_locations = []\n",
    "\n",
    "for n in range(1, 50):\n",
    "    print(f'Scraping page: {n}')\n",
    "    url = f'{url_base}{n}'\n",
    "    page = requests.get(url)\n",
    "    tree = html.fromstring(page.text)\n",
    "    names = tree.xpath(name_path)\n",
    "    locations = tree.xpath(location_path)\n",
    "    locations = locations[1::2]\n",
    "    all_names += names\n",
    "    all_locations += locations"
   ]
  },
  {
   "cell_type": "code",
   "execution_count": null,
   "metadata": {},
   "outputs": [],
   "source": [
    "df = pd.DataFrame(data={'name': all_names, 'location': all_locations})\n",
    "df['name'] = df['name'].str.strip()\n",
    "df['location'] = df['location'].str.strip()"
   ]
  },
  {
   "cell_type": "code",
   "execution_count": null,
   "metadata": {},
   "outputs": [],
   "source": [
    "df.head(5)"
   ]
  },
  {
   "cell_type": "markdown",
   "metadata": {},
   "source": [
    "## Second example: ATM locations\n",
    "\n",
    "In this second example we create a dataset of locations of all National Australia Bank ATMs in the country."
   ]
  },
  {
   "cell_type": "code",
   "execution_count": null,
   "metadata": {},
   "outputs": [],
   "source": [
    "import requests\n",
    "import pandas as pd"
   ]
  },
  {
   "cell_type": "code",
   "execution_count": null,
   "metadata": {},
   "outputs": [],
   "source": [
    "lat_min, lng_min = -43.834124, 114.078644\n",
    "lat_max, lng_max = -10.400824, 154.508331"
   ]
  },
  {
   "cell_type": "code",
   "execution_count": null,
   "metadata": {},
   "outputs": [],
   "source": [
    "url = f'https://api.nab.com.au/info/nab/location/locationType/atm+brc/queryType/geo/{lat_min}/{lng_min}/{lat_max}/{lng_max}/1/4000?v=1'\n",
    "\n",
    "headers = {'Host': 'api.nab.com.au', \n",
    "'Origin': 'https://www.nab.com.au', \n",
    "'Referer': 'https://www.nab.com.au/',\n",
    "'x-nab-key': 'a8469c09-22f8-45c1-a0aa-4178438481ef'}\n",
    "\n",
    "page = requests.get(url=url, headers=headers)\n",
    "data = page.json()"
   ]
  },
  {
   "cell_type": "code",
   "execution_count": null,
   "metadata": {},
   "outputs": [],
   "source": [
    "df = pd.json_normalize(data['locationSearchResponse']['locations'])\n",
    "df = df[['atm.address1', 'atm.suburb', 'atm.state', 'atm.postcode', 'atm.latitude', 'atm.longitude']].dropna()"
   ]
  },
  {
   "cell_type": "code",
   "execution_count": null,
   "metadata": {},
   "outputs": [],
   "source": [
    "df.head(5)"
   ]
  },
  {
   "cell_type": "markdown",
   "metadata": {},
   "source": [
    "### Map of NAB ATMs"
   ]
  },
  {
   "cell_type": "code",
   "execution_count": null,
   "metadata": {},
   "outputs": [],
   "source": []
  }
 ],
 "metadata": {
  "kernelspec": {
   "display_name": "Python 3",
   "language": "python",
   "name": "python3"
  },
  "language_info": {
   "codemirror_mode": {
    "name": "ipython",
    "version": 3
   },
   "file_extension": ".py",
   "mimetype": "text/x-python",
   "name": "python",
   "nbconvert_exporter": "python",
   "pygments_lexer": "ipython3"
  }
 },
 "nbformat": 4,
 "nbformat_minor": 4
}
