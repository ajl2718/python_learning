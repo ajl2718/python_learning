{
 "cells": [
  {
   "cell_type": "markdown",
   "id": "a971528a-7b0d-419b-8445-096fd87b8931",
   "metadata": {},
   "source": [
    "# Whereabouts: calculation of speed, accuracy and comparison with other geocoders\n",
    "\n",
    "06 09 24\n",
    "\n",
    "## Description\n",
    "This notebook contains code for producing the accuracy and speed results for the whereabouts package (https://www.github.com/ajl2718/whereabouts) and comparing with three other geocoders: Google, MapBox and Nominatim.\n",
    "\n",
    "\n",
    "## Test datasets\n",
    "There are three datasets used for testing, two for accuracy and one for speed:\n",
    "- Lcations of Guzman and Gomez stores in Australia\n",
    "- Random residential locations from parts of Australia\n",
    "- Licensed venues in Victoria, Australia\n",
    "\n",
    "These datasets are available here: https://github.com/ajl2718/python_learning/whereabouts_testing/\n",
    "\n",
    "## Methodology\n",
    "Accuracy is assessed at four levels of geographic granularity:\n",
    "- Apartment number: All components of the address must be correct including level number, building number, shop number where these appear\n",
    "- House number: The main street number has to be correct\n",
    "- Street name: The address is correct up to the street name\n",
    "- Suburb name: The correct suburb of the location is found\n",
    "\n",
    "For each level, a score of 1 is given if the address matches and 0 otherwise. Total accuracy (number of correct / number of addresses) is then calculated for each level"
   ]
  },
  {
   "cell_type": "code",
   "execution_count": 1,
   "id": "cf03bddb-b48f-4851-98d7-c2e1d3789422",
   "metadata": {},
   "outputs": [],
   "source": [
    "from time import time, sleep\n",
    "import requests\n",
    "\n",
    "import pandas as pd\n",
    "\n",
    "import matplotlib.pyplot as plt\n",
    "import seaborn as sns\n",
    "\n",
    "%matplotlib inline\n",
    "sns.set()"
   ]
  },
  {
   "cell_type": "code",
   "execution_count": 8,
   "id": "ae64daab-0c31-4ece-9268-71718db38b49",
   "metadata": {},
   "outputs": [],
   "source": [
    "sns.set_style(\"whitegrid\")"
   ]
  },
  {
   "cell_type": "markdown",
   "id": "3fccc417-5669-4687-938d-2337695c7696",
   "metadata": {},
   "source": [
    "## Data sources"
   ]
  },
  {
   "cell_type": "code",
   "execution_count": 2,
   "id": "19b81b11-97de-4ceb-b93f-ccd088f418d4",
   "metadata": {},
   "outputs": [],
   "source": [
    "# load Guzman y Gomez\n",
    "df = pd.read_csv('/Users/alexlee/Desktop/Data/geo/locations/gyg_210624_geocoded.csv')\n",
    "addresses_gyg = df['address'].values"
   ]
  },
  {
   "cell_type": "code",
   "execution_count": 3,
   "id": "b6382d25-86c1-4be9-b540-a733b9b1646b",
   "metadata": {},
   "outputs": [],
   "source": [
    "# load residential addresses\n",
    "df = pd.read_csv('/Users/alexlee/Desktop/Data/test_data/rea_130824.csv', sep='\\t')\n",
    "addresses_rea = df['address'].sample(128, random_state=42).values"
   ]
  },
  {
   "cell_type": "markdown",
   "id": "7af4320a-1412-4b05-a3fe-c51606a37292",
   "metadata": {},
   "source": [
    "## Geocoding: whereabouts"
   ]
  },
  {
   "cell_type": "code",
   "execution_count": 46,
   "id": "c9b8653a-240c-498b-aa16-e2e40934fad9",
   "metadata": {},
   "outputs": [],
   "source": [
    "from whereabouts.Matcher import Matcher\n",
    "from whereabouts.MatcherPipeline import MatcherPipeline"
   ]
  },
  {
   "cell_type": "code",
   "execution_count": 47,
   "id": "d7435af2-1c53-49a9-a4e7-7d81c8215e54",
   "metadata": {},
   "outputs": [],
   "source": [
    "matcher1 = Matcher('au_all_lg', how='standard')\n",
    "matcher2 = Matcher('au_all_lg', how='trigram')\n",
    "\n",
    "pipeline = MatcherPipeline([matcher1, matcher2])"
   ]
  },
  {
   "cell_type": "code",
   "execution_count": 48,
   "id": "7d375bb7-c5e5-4da2-bd9e-612deb47dbdf",
   "metadata": {},
   "outputs": [
    {
     "data": {
      "application/vnd.jupyter.widget-view+json": {
       "model_id": "1cb7c310dbec496cb4a71c2bf71b1745",
       "version_major": 2,
       "version_minor": 0
      },
      "text/plain": [
       "FloatProgress(value=0.0, layout=Layout(width='auto'), style=ProgressStyle(bar_color='black'))"
      ]
     },
     "metadata": {},
     "output_type": "display_data"
    }
   ],
   "source": [
    "# GYG geocoding: \n",
    "# whereabouts: 76.3%\n",
    "# google: 78.1%\n",
    "# mapbox: 61.9%\n",
    "results_gyg = pipeline.geocode(addresses_gyg)"
   ]
  },
  {
   "cell_type": "code",
   "execution_count": 57,
   "id": "9c9bcbdf-3340-49f8-9a8f-95da1b1e6a64",
   "metadata": {},
   "outputs": [],
   "source": [
    "df_results = pd.DataFrame(data=results_gyg)\n",
    "df_results.to_csv('/Users/alexlee/Desktop/Data/test_data/gyg_experiment_whereabouts_030924.csv', index=False)"
   ]
  },
  {
   "cell_type": "code",
   "execution_count": 58,
   "id": "3784e3a0-c384-4988-943a-baeb6171535d",
   "metadata": {},
   "outputs": [],
   "source": [
    "# REA geocoding: \n",
    "# whereabouts: 94.5%\n",
    "# google: 99.6%\n",
    "# mapbox: 55.1\n",
    "results_rea = pipeline.geocode(addresses_rea)"
   ]
  },
  {
   "cell_type": "code",
   "execution_count": 59,
   "id": "cec882fb-d4e7-454f-954e-517075d41ec9",
   "metadata": {},
   "outputs": [],
   "source": [
    "df_results = pd.DataFrame(data=results_rea)\n",
    "df_results.to_csv('/Users/alexlee/Desktop/Data/test_data/rea_experiment_whereabouts_030924.csv', index=False)"
   ]
  },
  {
   "cell_type": "code",
   "execution_count": 63,
   "id": "016ae5aa-064b-44a1-b92a-63eb89e9f480",
   "metadata": {},
   "outputs": [
    {
     "data": {
      "text/plain": [
       "[{'address_id': 1,\n",
       "  'address': '2 16 60 SOUTH TERRACE ADELAIDE SA 5000',\n",
       "  'address_id2': 3914972,\n",
       "  'address_matched': 'UNIT 12 60 SOUTH TCE ADELAIDE SA 5000',\n",
       "  'suburb': 'ADELAIDE',\n",
       "  'postcode': 5000,\n",
       "  'latitude': -34.9359016418457,\n",
       "  'longitude': 138.59278869628906,\n",
       "  'similarity': 0.3706896551724138}]"
      ]
     },
     "execution_count": 63,
     "metadata": {},
     "output_type": "execute_result"
    }
   ],
   "source": [
    "matcher1.geocode('2 16 60 SOUTH TERRACE ADELAIDE SA 5000')"
   ]
  },
  {
   "cell_type": "markdown",
   "id": "bb74301c-a0a5-46c3-accc-8bbf7a2902ab",
   "metadata": {},
   "source": [
    "## Nominatim"
   ]
  },
  {
   "cell_type": "code",
   "execution_count": 4,
   "id": "5afdf75e-d5a2-49cd-918c-b6d25b1ea09d",
   "metadata": {},
   "outputs": [],
   "source": [
    "headers = {\n",
    "    \"User-Agent\": \"GeoTesting/1.0 (ajlee3141@gmail.com)\"\n",
    "}\n"
   ]
  },
  {
   "cell_type": "code",
   "execution_count": 7,
   "id": "686b3db5-35f4-4e1a-9ec5-602d9665c0d3",
   "metadata": {},
   "outputs": [],
   "source": [
    "# add country name to addresses\n",
    "addresses_gyg = [address + ' AUSTRALIA' for address in addresses_gyg]\n",
    "addresses_rea = [address + ' AUSTRALIA' for address in addresses_rea]"
   ]
  },
  {
   "cell_type": "code",
   "execution_count": 16,
   "id": "8dce38f3-32ba-497f-bedb-93d5d54bd301",
   "metadata": {},
   "outputs": [
    {
     "name": "stdout",
     "output_type": "stream",
     "text": [
      "Geocoding 5 Dylan Crt, Stanthorpe, Qld 4380 AUSTRALIA\n",
      "Geocoding 23 Northbridge Road, Highton, Vic 3216 AUSTRALIA\n",
      "Geocoding 62 Radstock Avenue, Highton, Vic 3216 AUSTRALIA\n",
      "Geocoding Lot 3 Texas Road, Stanthorpe, Qld 4380 AUSTRALIA\n",
      "Geocoding 44 Verner Street, South Geelong, Vic 3220 AUSTRALIA\n",
      "Geocoding 616 Woodhill Mountain Road, Woodhill, NSW 2535 AUSTRALIA\n",
      "Geocoding 501/567 Pacific Hwy, St Leonards, NSW 2065 AUSTRALIA\n",
      "Geocoding Unit 3/16 Poinciana Bvd, Cardwell, Qld 4849 AUSTRALIA\n",
      "Geocoding Lot 3, 232 Sugarloaf Road, Stanthorpe, Qld 4380 AUSTRALIA\n",
      "Geocoding 10/57-59 Lachlan Street, Warwick Farm, NSW 2170 AUSTRALIA\n",
      "Geocoding 10 Ilaroo Crescent, Warana, Qld 4575 AUSTRALIA\n",
      "Geocoding 801/51 Chandos Street, St Leonards, NSW 2065 AUSTRALIA\n",
      "Geocoding 75 Reema Boulevard, Endeavour Hills, Vic 3802 AUSTRALIA\n",
      "Geocoding 29 Jamieson St, Cardwell, Qld 4849 AUSTRALIA\n",
      "Geocoding 31/89-91 Hughes Street, Cabramatta, NSW 2166 AUSTRALIA\n",
      "Geocoding 2/11 Cedarville Close, Highton, Vic 3216 AUSTRALIA\n",
      "Geocoding 1201/29 HUNTER STREET, Parramatta, NSW 2150 AUSTRALIA\n",
      "Geocoding 13 Mainsbridge Avenue, Liverpool, NSW 2170 AUSTRALIA\n",
      "Geocoding 1307 Midge Point Road, Midge Point, Qld 4799 AUSTRALIA\n",
      "Geocoding 2 Sexton Court, Endeavour Hills, Vic 3802 AUSTRALIA\n",
      "Geocoding 1208/44 Ryrie Street, Geelong, Vic 3220 AUSTRALIA\n",
      "Geocoding 3 Cedar Drive, Dunoon, NSW 2480 AUSTRALIA\n",
      "Geocoding 4 Northbridge Road, Highton, Vic 3216 AUSTRALIA\n",
      "Geocoding 12 Bowlers Avenue, Geelong West, Vic 3218 AUSTRALIA\n",
      "Geocoding Level 30 / 500 Pacific Highway, St Leonards, NSW 2065 AUSTRALIA\n",
      "Geocoding 2 & 16/60 South Terrace, Adelaide, SA 5000 AUSTRALIA\n",
      "Geocoding 222 Shannon Avenue, Geelong West, Vic 3218 AUSTRALIA\n",
      "Geocoding 55 Nedlands Drive, Highton, Vic 3216 AUSTRALIA\n",
      "Geocoding 7/73 Parraween Street, Cremorne, NSW 2090 AUSTRALIA\n",
      "Geocoding 2201/17 Penny Place, Adelaide, SA 5000 AUSTRALIA\n",
      "Geocoding 15/5-7 Bombala Terrace, Caloundra, Qld 4551 AUSTRALIA\n",
      "Geocoding 21 Rathgar Road, Lysterfield, Vic 3156 AUSTRALIA\n",
      "Geocoding 1107/3 Herbert Street, St Leonards, NSW 2065 AUSTRALIA\n",
      "Geocoding 9/45 Walkers Drive, Lane Cove, NSW 2066 AUSTRALIA\n",
      "Geocoding 454 & 454a McEdward Street, Birdwoodton, Vic 3505 AUSTRALIA\n",
      "Geocoding 264 North Terrace, Adelaide, SA 5000 AUSTRALIA\n",
      "Geocoding 4 Mayton Court, Grovedale, Vic 3216 AUSTRALIA\n",
      "Geocoding 63/118 Adderton Road, Carlingford, NSW 2118 AUSTRALIA\n",
      "Geocoding 11 Leilani Court, Highton, Vic 3216 AUSTRALIA\n",
      "Geocoding 90 Major Crescent, Lysterfield, Vic 3156 AUSTRALIA\n",
      "Geocoding 5 Grantchester Road, Narre Warren North, Vic 3804 AUSTRALIA\n",
      "Geocoding 10 Aitkenside Avenue, Highton, Vic 3216 AUSTRALIA\n",
      "Geocoding 77 Postmans Ridge Road, Helidon Spa, Qld 4344 AUSTRALIA\n",
      "Geocoding 105/2 Marcus Clarke Street, City, ACT 2601 AUSTRALIA\n",
      "Geocoding 3741 The Bucketts Way, Krambach, NSW 2429 AUSTRALIA\n",
      "Geocoding 44 Mandara Drive, Wurtulla, Qld 4575 AUSTRALIA\n",
      "Geocoding UNIT 14/3 LONDON CIRCUIT, City, ACT 2601 AUSTRALIA\n",
      "Geocoding 76 Bathurst Street, Elliott Heads, Qld 4670 AUSTRALIA\n",
      "Geocoding 711/1 Sergeants Lane, St Leonards, NSW 2065 AUSTRALIA\n",
      "Geocoding 5 Jessica Way, Highton, Vic 3216 AUSTRALIA\n",
      "Geocoding 56 Needes Hill Rd, Brookhampton, WA 6239 AUSTRALIA\n",
      "Geocoding 8 Carolyn Close, Kariong, NSW 2250 AUSTRALIA\n",
      "Geocoding 8/68-70 Faunce Street West, Gosford, NSW 2250 AUSTRALIA\n",
      "Geocoding 2305/2A Help Street, Chatswood, NSW 2067 AUSTRALIA\n",
      "Geocoding 201/13-19 Canberra Avenue, St Leonards, NSW 2065 AUSTRALIA\n",
      "Geocoding 1107/19 Marcus Clarke Street, City, ACT 2601 AUSTRALIA\n",
      "Geocoding 908/35 Corio Street, Geelong, Vic 3220 AUSTRALIA\n",
      "Geocoding 25 Yale Close, North Rocks, NSW 2151 AUSTRALIA\n",
      "Geocoding 44 Francis Crescent, Ferntree Gully, Vic 3156 AUSTRALIA\n",
      "Geocoding Lot 4, 232 Sugarloaf Road, Stanthorpe, Qld 4380 AUSTRALIA\n",
      "Geocoding 11 Wiangaree Drive, Rangeville, Qld 4350 AUSTRALIA\n",
      "Geocoding Lot 671, 37 Frogmore Way, Highton, Vic 3216 AUSTRALIA\n",
      "Geocoding 3/17 Granby Crescent, Highton, Vic 3216 AUSTRALIA\n",
      "Geocoding 1609/1 Sergeants Lane, St Leonards, NSW 2065 AUSTRALIA\n",
      "Geocoding 73 Macquarie Street, Jamberoo, NSW 2533 AUSTRALIA\n",
      "Geocoding Unit 2404 'ZINC' 42 Bokarina Boulevard, Bokarina, Qld 4575 AUSTRALIA\n",
      "Geocoding 536 Philps Road, Grantham, Qld 4347 AUSTRALIA\n",
      "Geocoding 615 Delta Road, Curlwaa, NSW 2648 AUSTRALIA\n",
      "Geocoding 52 Majestic Drive, Highton, Vic 3216 AUSTRALIA\n",
      "Geocoding 7/143 Barrabool Road, Highton, Vic 3216 AUSTRALIA\n",
      "Geocoding 67 Barrys Road, Modanville, NSW 2480 AUSTRALIA\n",
      "Geocoding 18/32 Station Street, Dundas, NSW 2117 AUSTRALIA\n",
      "Geocoding 34/51 Bonnyrigg Avenue, Bonnyrigg, NSW 2177 AUSTRALIA\n",
      "Geocoding 13 Watersedge Terrace, Highton, Vic 3216 AUSTRALIA\n",
      "Geocoding 413/240 Bunda Street, City, ACT 2601 AUSTRALIA\n",
      "Geocoding Unit 2/29-31 Keith Williams Dr, Cardwell, Qld 4849 AUSTRALIA\n",
      "Geocoding 5 Brooks Road, Sarina, Qld 4737 AUSTRALIA\n",
      "Geocoding 3 Fairfax Court, Innes Park, Qld 4670 AUSTRALIA\n",
      "Geocoding 1007/25 Mann Street, Gosford, NSW 2250 AUSTRALIA\n",
      "Geocoding 501/65 Cooyong Street, Braddon, ACT 2612 AUSTRALIA\n",
      "Geocoding 12 Fords Road, Geeveston, Tas 7116 AUSTRALIA\n",
      "Geocoding 2503/1A Morton Street, Parramatta, NSW 2150 AUSTRALIA\n",
      "Geocoding 2008/88A Christie Street, St Leonards, NSW 2065 AUSTRALIA\n",
      "Geocoding 2608/1 Sergeants Lane, St Leonards, NSW 2065 AUSTRALIA\n",
      "Geocoding 705/225 Pacific Highway, North Sydney, NSW 2060 AUSTRALIA\n",
      "Geocoding 1/7 Croydon Avenue, Currimundi, Qld 4551 AUSTRALIA\n",
      "Geocoding 313 Wattle Grove Road, Wattle Grove, Tas 7109 AUSTRALIA\n",
      "Geocoding 2K/15 Campbell Street, Parramatta, NSW 2150 AUSTRALIA\n",
      "Geocoding 2 Shoubra Drive, Highton, Vic 3216 AUSTRALIA\n",
      "Geocoding 629/81 Cooyong Street, Reid, ACT 2612 AUSTRALIA\n",
      "Geocoding 25 Britannia Street, Geelong West, Vic 3218 AUSTRALIA\n",
      "Geocoding 1209/225 Pacific Hwy, North Sydney, NSW 2060 AUSTRALIA\n",
      "Geocoding 11 Thwaites Close, Highton, Vic 3216 AUSTRALIA\n",
      "Geocoding 5 Diamond Close, Ferntree Gully, Vic 3156 AUSTRALIA\n",
      "Geocoding 16 King Street, Kings Beach, Qld 4551 AUSTRALIA\n",
      "Geocoding 207 Victoria Street, Cardwell, Qld 4849 AUSTRALIA\n",
      "Geocoding 421 Cabramatta Road, Cabramatta, NSW 2166 AUSTRALIA\n",
      "Geocoding 712/2 Akuna Street, City, ACT 2601 AUSTRALIA\n",
      "Geocoding 40 Tate Place, Jamberoo, NSW 2533 AUSTRALIA\n",
      "Geocoding 49 Honiton Avenue W, Carlingford, NSW 2118 AUSTRALIA\n",
      "Geocoding 52 Vallah Lane, Stanthorpe, Qld 4380 AUSTRALIA\n",
      "Geocoding 392 Woongarra Scenic Drive, Innes Park, Qld 4670 AUSTRALIA\n",
      "Geocoding 124-126 Grantham Drive, Highton, Vic 3216 AUSTRALIA\n",
      "Geocoding Lot 44 Tantaus Road, Dereel, Vic 3352 AUSTRALIA\n",
      "Geocoding 18 River Road, Woodford, Vic 3281 AUSTRALIA\n",
      "Geocoding 1004/6-10 Charles Street, Parramatta, NSW 2150 AUSTRALIA\n",
      "Geocoding 16 Karingal Avenue, Carlingford, NSW 2118 AUSTRALIA\n",
      "Geocoding 16 Kombi Street, Bokarina, Qld 4575 AUSTRALIA\n",
      "Geocoding 315/10 Leeding Terrace, Caloundra, Qld 4551 AUSTRALIA\n",
      "Geocoding 32/30 Burgoyne Street, Roxby Downs, SA 5725 AUSTRALIA\n",
      "Geocoding 1/12 Redgrove Street, Green Point, NSW 2251 AUSTRALIA\n",
      "Geocoding 508/44 Ryrie Street, Geelong, Vic 3220 AUSTRALIA\n",
      "Geocoding Lot 1-3, 29 Daranda Terrace, Milang, SA 5256 AUSTRALIA\n",
      "Geocoding 38/1 Provan Street, Campbell, ACT 2612 AUSTRALIA\n",
      "Geocoding 6 Symes Street, Stanthorpe, Qld 4380 AUSTRALIA\n",
      "Geocoding 401 & 402/115 Bulcock Street, Caloundra, Qld 4551 AUSTRALIA\n",
      "Geocoding 8A Everett Avenue, Dulwich, SA 5065 AUSTRALIA\n",
      "Geocoding 31 Olive Avenue, Phegans Bay, NSW 2256 AUSTRALIA\n",
      "Geocoding 2 Tuckeroo Close, Coral Cove, Qld 4670 AUSTRALIA\n",
      "Geocoding 2/260 Roslyn Road, Highton, Vic 3216 AUSTRALIA\n",
      "Geocoding 1/48 Augustine Drive, Highton, Vic 3216 AUSTRALIA\n",
      "Geocoding 805/88 Church Street, Parramatta, NSW 2150 AUSTRALIA\n",
      "Geocoding 7/1 Oliver Road, Chatswood, NSW 2067 AUSTRALIA\n",
      "Geocoding 18 Minkara Street, Warana, Qld 4575 AUSTRALIA\n",
      "Geocoding 20 Davison Road, Wilson Beach, Qld 4800 AUSTRALIA\n",
      "Geocoding 4 Tom Gearon Court, Narre Warren North, Vic 3804 AUSTRALIA\n",
      "Geocoding 64 South Valley Road, Highton, Vic 3216 AUSTRALIA\n",
      "Geocoding 12/80 Wattle Street, Fullarton, SA 5063 AUSTRALIA\n"
     ]
    }
   ],
   "source": [
    "all_results = []\n",
    "\n",
    "for address in addresses_rea:\n",
    "    sleep(1)\n",
    "    print(f'Geocoding {address}')\n",
    "    address_new = address.replace(' ', '+')\n",
    "    url_base = 'https://nominatim.openstreetmap.org/search'\n",
    "    params = {'q': address_new,\n",
    "              'format': 'json',\n",
    "              'addressdetails': 1}\n",
    "    page = requests.get(url_base, params=params, headers=headers)\n",
    "    results = page.json()\n",
    "    if isinstance(results, list):\n",
    "        if len(results) > 0:\n",
    "            results_new = results[0]\n",
    "            all_results.append(results_new)\n",
    "        else:\n",
    "            all_results.append({})\n",
    "    elif isinstance(results, dict):\n",
    "        results_new = results\n",
    "        all_results.append(results_new)\n",
    "    else:\n",
    "        all_results.append({})\n",
    "    "
   ]
  },
  {
   "cell_type": "code",
   "execution_count": 21,
   "id": "ef390c1c-a3cd-4566-bc25-e7b85c37356a",
   "metadata": {},
   "outputs": [],
   "source": [
    "# write the results\n",
    "(\n",
    "    pd.DataFrame(all_results)\n",
    "    .assign(input_address=addresses_rea)\n",
    "    .to_csv('rea_experiments_nominatim_030924.csv', index=False)\n",
    ")"
   ]
  },
  {
   "cell_type": "markdown",
   "id": "39b08e6a-0275-42a7-ac3f-74a580733dda",
   "metadata": {},
   "source": [
    "## Googlemaps API"
   ]
  },
  {
   "cell_type": "code",
   "execution_count": 90,
   "id": "5c605d43-a0a9-4f21-8a6a-0e5efc47f185",
   "metadata": {},
   "outputs": [],
   "source": [
    "api_key = '' # set this"
   ]
  },
  {
   "cell_type": "code",
   "execution_count": null,
   "id": "7266f1ea-e33b-4b5d-95f0-0a3e424a3f08",
   "metadata": {},
   "outputs": [],
   "source": [
    "url_base = 'https://maps.googleapis.com/maps/api/geocode/json'\n",
    "url = 'https://maps.googleapis.com/maps/api/geocode/json?address=4/19+rathmins+st+fairfield+vic+3078&key=' + api_key"
   ]
  },
  {
   "cell_type": "code",
   "execution_count": 92,
   "id": "1783a27d-8625-4a2a-9f1e-220bf67ae661",
   "metadata": {},
   "outputs": [
    {
     "name": "stdout",
     "output_type": "stream",
     "text": [
      "Geocoding 5 Dylan Crt, Stanthorpe, Qld 4380\n",
      "Geocoding 23 Northbridge Road, Highton, Vic 3216\n",
      "Geocoding 62 Radstock Avenue, Highton, Vic 3216\n",
      "Geocoding Lot 3 Texas Road, Stanthorpe, Qld 4380\n",
      "Geocoding 44 Verner Street, South Geelong, Vic 3220\n",
      "Geocoding 616 Woodhill Mountain Road, Woodhill, NSW 2535\n",
      "Geocoding 501/567 Pacific Hwy, St Leonards, NSW 2065\n",
      "Geocoding Unit 3/16 Poinciana Bvd, Cardwell, Qld 4849\n",
      "Geocoding Lot 3, 232 Sugarloaf Road, Stanthorpe, Qld 4380\n",
      "Geocoding 10/57-59 Lachlan Street, Warwick Farm, NSW 2170\n",
      "Geocoding 10 Ilaroo Crescent, Warana, Qld 4575\n",
      "Geocoding 801/51 Chandos Street, St Leonards, NSW 2065\n",
      "Geocoding 75 Reema Boulevard, Endeavour Hills, Vic 3802\n",
      "Geocoding 29 Jamieson St, Cardwell, Qld 4849\n",
      "Geocoding 31/89-91 Hughes Street, Cabramatta, NSW 2166\n",
      "Geocoding 2/11 Cedarville Close, Highton, Vic 3216\n",
      "Geocoding 1201/29 HUNTER STREET, Parramatta, NSW 2150\n",
      "Geocoding 13 Mainsbridge Avenue, Liverpool, NSW 2170\n",
      "Geocoding 1307 Midge Point Road, Midge Point, Qld 4799\n",
      "Geocoding 2 Sexton Court, Endeavour Hills, Vic 3802\n",
      "Geocoding 1208/44 Ryrie Street, Geelong, Vic 3220\n",
      "Geocoding 3 Cedar Drive, Dunoon, NSW 2480\n",
      "Geocoding 4 Northbridge Road, Highton, Vic 3216\n",
      "Geocoding 12 Bowlers Avenue, Geelong West, Vic 3218\n",
      "Geocoding Level 30 / 500 Pacific Highway, St Leonards, NSW 2065\n",
      "Geocoding 2 & 16/60 South Terrace, Adelaide, SA 5000\n",
      "Geocoding 222 Shannon Avenue, Geelong West, Vic 3218\n",
      "Geocoding 55 Nedlands Drive, Highton, Vic 3216\n",
      "Geocoding 7/73 Parraween Street, Cremorne, NSW 2090\n",
      "Geocoding 2201/17 Penny Place, Adelaide, SA 5000\n",
      "Geocoding 15/5-7 Bombala Terrace, Caloundra, Qld 4551\n",
      "Geocoding 21 Rathgar Road, Lysterfield, Vic 3156\n",
      "Geocoding 1107/3 Herbert Street, St Leonards, NSW 2065\n",
      "Geocoding 9/45 Walkers Drive, Lane Cove, NSW 2066\n",
      "Geocoding 454 & 454a McEdward Street, Birdwoodton, Vic 3505\n",
      "Geocoding 264 North Terrace, Adelaide, SA 5000\n",
      "Geocoding 4 Mayton Court, Grovedale, Vic 3216\n",
      "Geocoding 63/118 Adderton Road, Carlingford, NSW 2118\n",
      "Geocoding 11 Leilani Court, Highton, Vic 3216\n",
      "Geocoding 90 Major Crescent, Lysterfield, Vic 3156\n",
      "Geocoding 5 Grantchester Road, Narre Warren North, Vic 3804\n",
      "Geocoding 10 Aitkenside Avenue, Highton, Vic 3216\n",
      "Geocoding 77 Postmans Ridge Road, Helidon Spa, Qld 4344\n",
      "Geocoding 105/2 Marcus Clarke Street, City, ACT 2601\n",
      "Geocoding 3741 The Bucketts Way, Krambach, NSW 2429\n",
      "Geocoding 44 Mandara Drive, Wurtulla, Qld 4575\n",
      "Geocoding UNIT 14/3 LONDON CIRCUIT, City, ACT 2601\n",
      "Geocoding 76 Bathurst Street, Elliott Heads, Qld 4670\n",
      "Geocoding 711/1 Sergeants Lane, St Leonards, NSW 2065\n",
      "Geocoding 5 Jessica Way, Highton, Vic 3216\n",
      "Geocoding 56 Needes Hill Rd, Brookhampton, WA 6239\n",
      "Geocoding 8 Carolyn Close, Kariong, NSW 2250\n",
      "Geocoding 8/68-70 Faunce Street West, Gosford, NSW 2250\n",
      "Geocoding 2305/2A Help Street, Chatswood, NSW 2067\n",
      "Geocoding 201/13-19 Canberra Avenue, St Leonards, NSW 2065\n",
      "Geocoding 1107/19 Marcus Clarke Street, City, ACT 2601\n",
      "Geocoding 908/35 Corio Street, Geelong, Vic 3220\n",
      "Geocoding 25 Yale Close, North Rocks, NSW 2151\n",
      "Geocoding 44 Francis Crescent, Ferntree Gully, Vic 3156\n",
      "Geocoding Lot 4, 232 Sugarloaf Road, Stanthorpe, Qld 4380\n",
      "Geocoding 11 Wiangaree Drive, Rangeville, Qld 4350\n",
      "Geocoding Lot 671, 37 Frogmore Way, Highton, Vic 3216\n",
      "Geocoding 3/17 Granby Crescent, Highton, Vic 3216\n",
      "Geocoding 1609/1 Sergeants Lane, St Leonards, NSW 2065\n",
      "Geocoding 73 Macquarie Street, Jamberoo, NSW 2533\n",
      "Geocoding Unit 2404 'ZINC' 42 Bokarina Boulevard, Bokarina, Qld 4575\n",
      "Geocoding 536 Philps Road, Grantham, Qld 4347\n",
      "Geocoding 615 Delta Road, Curlwaa, NSW 2648\n",
      "Geocoding 52 Majestic Drive, Highton, Vic 3216\n",
      "Geocoding 7/143 Barrabool Road, Highton, Vic 3216\n",
      "Geocoding 67 Barrys Road, Modanville, NSW 2480\n",
      "Geocoding 18/32 Station Street, Dundas, NSW 2117\n",
      "Geocoding 34/51 Bonnyrigg Avenue, Bonnyrigg, NSW 2177\n",
      "Geocoding 13 Watersedge Terrace, Highton, Vic 3216\n",
      "Geocoding 413/240 Bunda Street, City, ACT 2601\n",
      "Geocoding Unit 2/29-31 Keith Williams Dr, Cardwell, Qld 4849\n",
      "Geocoding 5 Brooks Road, Sarina, Qld 4737\n",
      "Geocoding 3 Fairfax Court, Innes Park, Qld 4670\n",
      "Geocoding 1007/25 Mann Street, Gosford, NSW 2250\n",
      "Geocoding 501/65 Cooyong Street, Braddon, ACT 2612\n",
      "Geocoding 12 Fords Road, Geeveston, Tas 7116\n",
      "Geocoding 2503/1A Morton Street, Parramatta, NSW 2150\n",
      "Geocoding 2008/88A Christie Street, St Leonards, NSW 2065\n",
      "Geocoding 2608/1 Sergeants Lane, St Leonards, NSW 2065\n",
      "Geocoding 705/225 Pacific Highway, North Sydney, NSW 2060\n",
      "Geocoding 1/7 Croydon Avenue, Currimundi, Qld 4551\n",
      "Geocoding 313 Wattle Grove Road, Wattle Grove, Tas 7109\n",
      "Geocoding 2K/15 Campbell Street, Parramatta, NSW 2150\n",
      "Geocoding 2 Shoubra Drive, Highton, Vic 3216\n",
      "Geocoding 629/81 Cooyong Street, Reid, ACT 2612\n",
      "Geocoding 25 Britannia Street, Geelong West, Vic 3218\n",
      "Geocoding 1209/225 Pacific Hwy, North Sydney, NSW 2060\n",
      "Geocoding 11 Thwaites Close, Highton, Vic 3216\n",
      "Geocoding 5 Diamond Close, Ferntree Gully, Vic 3156\n",
      "Geocoding 16 King Street, Kings Beach, Qld 4551\n",
      "Geocoding 207 Victoria Street, Cardwell, Qld 4849\n",
      "Geocoding 421 Cabramatta Road, Cabramatta, NSW 2166\n",
      "Geocoding 712/2 Akuna Street, City, ACT 2601\n",
      "Geocoding 40 Tate Place, Jamberoo, NSW 2533\n",
      "Geocoding 49 Honiton Avenue W, Carlingford, NSW 2118\n",
      "Geocoding 52 Vallah Lane, Stanthorpe, Qld 4380\n",
      "Geocoding 392 Woongarra Scenic Drive, Innes Park, Qld 4670\n",
      "Geocoding 124-126 Grantham Drive, Highton, Vic 3216\n",
      "Geocoding Lot 44 Tantaus Road, Dereel, Vic 3352\n",
      "Geocoding 18 River Road, Woodford, Vic 3281\n",
      "Geocoding 1004/6-10 Charles Street, Parramatta, NSW 2150\n",
      "Geocoding 16 Karingal Avenue, Carlingford, NSW 2118\n",
      "Geocoding 16 Kombi Street, Bokarina, Qld 4575\n",
      "Geocoding 315/10 Leeding Terrace, Caloundra, Qld 4551\n",
      "Geocoding 32/30 Burgoyne Street, Roxby Downs, SA 5725\n",
      "Geocoding 1/12 Redgrove Street, Green Point, NSW 2251\n",
      "Geocoding 508/44 Ryrie Street, Geelong, Vic 3220\n",
      "Geocoding Lot 1-3, 29 Daranda Terrace, Milang, SA 5256\n",
      "Geocoding 38/1 Provan Street, Campbell, ACT 2612\n",
      "Geocoding 6 Symes Street, Stanthorpe, Qld 4380\n",
      "Geocoding 401 & 402/115 Bulcock Street, Caloundra, Qld 4551\n",
      "Geocoding 8A Everett Avenue, Dulwich, SA 5065\n",
      "Geocoding 31 Olive Avenue, Phegans Bay, NSW 2256\n",
      "Geocoding 2 Tuckeroo Close, Coral Cove, Qld 4670\n",
      "Geocoding 2/260 Roslyn Road, Highton, Vic 3216\n",
      "Geocoding 1/48 Augustine Drive, Highton, Vic 3216\n",
      "Geocoding 805/88 Church Street, Parramatta, NSW 2150\n",
      "Geocoding 7/1 Oliver Road, Chatswood, NSW 2067\n",
      "Geocoding 18 Minkara Street, Warana, Qld 4575\n",
      "Geocoding 20 Davison Road, Wilson Beach, Qld 4800\n",
      "Geocoding 4 Tom Gearon Court, Narre Warren North, Vic 3804\n",
      "Geocoding 64 South Valley Road, Highton, Vic 3216\n",
      "Geocoding 12/80 Wattle Street, Fullarton, SA 5063\n"
     ]
    }
   ],
   "source": [
    "all_results = []\n",
    "\n",
    "dfs = []\n",
    "\n",
    "for address in addresses_rea:\n",
    "    print(f'Geocoding {address}')\n",
    "    address_new = address.replace(' ', '+')\n",
    "    params = {'address': address_new, 'key': api_key}\n",
    "    page = requests.get(url=url_base, params=params)\n",
    "    df_temp = (\n",
    "        pd.DataFrame(page.json()['results'][0]['address_components'])[['long_name']]\n",
    "        .T\n",
    "        .reset_index()\n",
    "        .rename(columns={0: 'number', 1: 'street', 2: 'name', 3: 'suburb', 4: 'state', 5: 'country', 6: 'postcode'})\n",
    "    )\n",
    "    dfs.append(df_temp)"
   ]
  },
  {
   "cell_type": "code",
   "execution_count": 1,
   "id": "1122cab4-9ed0-4b82-961f-1cccdae0744f",
   "metadata": {},
   "outputs": [],
   "source": [
    "# write the results\n",
    "(\n",
    "    pd.concat(dfs)\n",
    "    .assign(input_address=addresses_rea)\n",
    "    .to_csv('/Users/alexlee/Desktop/Data/test_data/rea_experiments_google_030924.csv', index=False)\n",
    ")"
   ]
  },
  {
   "cell_type": "markdown",
   "id": "c4cb418e-59db-4ac5-9355-62627f3686e4",
   "metadata": {},
   "source": [
    "## Mapbox\n"
   ]
  },
  {
   "cell_type": "code",
   "execution_count": 77,
   "id": "d40095f2-c57b-427f-ab89-5a804449fc75",
   "metadata": {},
   "outputs": [],
   "source": [
    "access_token = '' # set this"
   ]
  },
  {
   "cell_type": "code",
   "execution_count": 78,
   "id": "73c924be-02a3-48a3-a63f-21c4690ea09a",
   "metadata": {},
   "outputs": [],
   "source": [
    "url_base = 'https://api.mapbox.com/search/geocode/v6/forward'\n",
    "url_full = f'{url_base}?q={address}&access_token='+access_token"
   ]
  },
  {
   "cell_type": "code",
   "execution_count": 85,
   "id": "35f1783c-f392-4bef-a9e5-b0d7cf98d9d8",
   "metadata": {},
   "outputs": [
    {
     "name": "stdout",
     "output_type": "stream",
     "text": [
      "Geocoding 5 Dylan Crt, Stanthorpe, Qld 4380\n",
      "Geocoding 23 Northbridge Road, Highton, Vic 3216\n",
      "Geocoding 62 Radstock Avenue, Highton, Vic 3216\n",
      "Geocoding Lot 3 Texas Road, Stanthorpe, Qld 4380\n",
      "Geocoding 44 Verner Street, South Geelong, Vic 3220\n",
      "Geocoding 616 Woodhill Mountain Road, Woodhill, NSW 2535\n",
      "Geocoding 501/567 Pacific Hwy, St Leonards, NSW 2065\n",
      "Geocoding Unit 3/16 Poinciana Bvd, Cardwell, Qld 4849\n",
      "Geocoding Lot 3, 232 Sugarloaf Road, Stanthorpe, Qld 4380\n",
      "Geocoding 10/57-59 Lachlan Street, Warwick Farm, NSW 2170\n",
      "Geocoding 10 Ilaroo Crescent, Warana, Qld 4575\n",
      "Geocoding 801/51 Chandos Street, St Leonards, NSW 2065\n",
      "Geocoding 75 Reema Boulevard, Endeavour Hills, Vic 3802\n",
      "Geocoding 29 Jamieson St, Cardwell, Qld 4849\n",
      "Geocoding 31/89-91 Hughes Street, Cabramatta, NSW 2166\n",
      "Geocoding 2/11 Cedarville Close, Highton, Vic 3216\n",
      "Geocoding 1201/29 HUNTER STREET, Parramatta, NSW 2150\n",
      "Geocoding 13 Mainsbridge Avenue, Liverpool, NSW 2170\n",
      "Geocoding 1307 Midge Point Road, Midge Point, Qld 4799\n",
      "Geocoding 2 Sexton Court, Endeavour Hills, Vic 3802\n",
      "Geocoding 1208/44 Ryrie Street, Geelong, Vic 3220\n",
      "Geocoding 3 Cedar Drive, Dunoon, NSW 2480\n",
      "Geocoding 4 Northbridge Road, Highton, Vic 3216\n",
      "Geocoding 12 Bowlers Avenue, Geelong West, Vic 3218\n",
      "Geocoding Level 30 / 500 Pacific Highway, St Leonards, NSW 2065\n",
      "Geocoding 2 & 16/60 South Terrace, Adelaide, SA 5000\n",
      "Geocoding 222 Shannon Avenue, Geelong West, Vic 3218\n",
      "Geocoding 55 Nedlands Drive, Highton, Vic 3216\n",
      "Geocoding 7/73 Parraween Street, Cremorne, NSW 2090\n",
      "Geocoding 2201/17 Penny Place, Adelaide, SA 5000\n",
      "Geocoding 15/5-7 Bombala Terrace, Caloundra, Qld 4551\n",
      "Geocoding 21 Rathgar Road, Lysterfield, Vic 3156\n",
      "Geocoding 1107/3 Herbert Street, St Leonards, NSW 2065\n",
      "Geocoding 9/45 Walkers Drive, Lane Cove, NSW 2066\n",
      "Geocoding 454 & 454a McEdward Street, Birdwoodton, Vic 3505\n",
      "Geocoding 264 North Terrace, Adelaide, SA 5000\n",
      "Geocoding 4 Mayton Court, Grovedale, Vic 3216\n",
      "Geocoding 63/118 Adderton Road, Carlingford, NSW 2118\n",
      "Geocoding 11 Leilani Court, Highton, Vic 3216\n",
      "Geocoding 90 Major Crescent, Lysterfield, Vic 3156\n",
      "Geocoding 5 Grantchester Road, Narre Warren North, Vic 3804\n",
      "Geocoding 10 Aitkenside Avenue, Highton, Vic 3216\n",
      "Geocoding 77 Postmans Ridge Road, Helidon Spa, Qld 4344\n",
      "Geocoding 105/2 Marcus Clarke Street, City, ACT 2601\n",
      "Geocoding 3741 The Bucketts Way, Krambach, NSW 2429\n",
      "Geocoding 44 Mandara Drive, Wurtulla, Qld 4575\n",
      "Geocoding UNIT 14/3 LONDON CIRCUIT, City, ACT 2601\n",
      "Geocoding 76 Bathurst Street, Elliott Heads, Qld 4670\n",
      "Geocoding 711/1 Sergeants Lane, St Leonards, NSW 2065\n",
      "Geocoding 5 Jessica Way, Highton, Vic 3216\n",
      "Geocoding 56 Needes Hill Rd, Brookhampton, WA 6239\n",
      "Geocoding 8 Carolyn Close, Kariong, NSW 2250\n",
      "Geocoding 8/68-70 Faunce Street West, Gosford, NSW 2250\n",
      "Geocoding 2305/2A Help Street, Chatswood, NSW 2067\n",
      "Geocoding 201/13-19 Canberra Avenue, St Leonards, NSW 2065\n",
      "Geocoding 1107/19 Marcus Clarke Street, City, ACT 2601\n",
      "Geocoding 908/35 Corio Street, Geelong, Vic 3220\n",
      "Geocoding 25 Yale Close, North Rocks, NSW 2151\n",
      "Geocoding 44 Francis Crescent, Ferntree Gully, Vic 3156\n",
      "Geocoding Lot 4, 232 Sugarloaf Road, Stanthorpe, Qld 4380\n",
      "Geocoding 11 Wiangaree Drive, Rangeville, Qld 4350\n",
      "Geocoding Lot 671, 37 Frogmore Way, Highton, Vic 3216\n",
      "Geocoding 3/17 Granby Crescent, Highton, Vic 3216\n",
      "Geocoding 1609/1 Sergeants Lane, St Leonards, NSW 2065\n",
      "Geocoding 73 Macquarie Street, Jamberoo, NSW 2533\n",
      "Geocoding Unit 2404 'ZINC' 42 Bokarina Boulevard, Bokarina, Qld 4575\n",
      "Geocoding 536 Philps Road, Grantham, Qld 4347\n",
      "Geocoding 615 Delta Road, Curlwaa, NSW 2648\n",
      "Geocoding 52 Majestic Drive, Highton, Vic 3216\n",
      "Geocoding 7/143 Barrabool Road, Highton, Vic 3216\n",
      "Geocoding 67 Barrys Road, Modanville, NSW 2480\n",
      "Geocoding 18/32 Station Street, Dundas, NSW 2117\n",
      "Geocoding 34/51 Bonnyrigg Avenue, Bonnyrigg, NSW 2177\n",
      "Geocoding 13 Watersedge Terrace, Highton, Vic 3216\n",
      "Geocoding 413/240 Bunda Street, City, ACT 2601\n",
      "Geocoding Unit 2/29-31 Keith Williams Dr, Cardwell, Qld 4849\n",
      "Geocoding 5 Brooks Road, Sarina, Qld 4737\n",
      "Geocoding 3 Fairfax Court, Innes Park, Qld 4670\n",
      "Geocoding 1007/25 Mann Street, Gosford, NSW 2250\n",
      "Geocoding 501/65 Cooyong Street, Braddon, ACT 2612\n",
      "Geocoding 12 Fords Road, Geeveston, Tas 7116\n",
      "Geocoding 2503/1A Morton Street, Parramatta, NSW 2150\n",
      "Geocoding 2008/88A Christie Street, St Leonards, NSW 2065\n",
      "Geocoding 2608/1 Sergeants Lane, St Leonards, NSW 2065\n",
      "Geocoding 705/225 Pacific Highway, North Sydney, NSW 2060\n",
      "Geocoding 1/7 Croydon Avenue, Currimundi, Qld 4551\n",
      "Geocoding 313 Wattle Grove Road, Wattle Grove, Tas 7109\n",
      "Geocoding 2K/15 Campbell Street, Parramatta, NSW 2150\n",
      "Geocoding 2 Shoubra Drive, Highton, Vic 3216\n",
      "Geocoding 629/81 Cooyong Street, Reid, ACT 2612\n",
      "Geocoding 25 Britannia Street, Geelong West, Vic 3218\n",
      "Geocoding 1209/225 Pacific Hwy, North Sydney, NSW 2060\n",
      "Geocoding 11 Thwaites Close, Highton, Vic 3216\n",
      "Geocoding 5 Diamond Close, Ferntree Gully, Vic 3156\n",
      "Geocoding 16 King Street, Kings Beach, Qld 4551\n",
      "Geocoding 207 Victoria Street, Cardwell, Qld 4849\n",
      "Geocoding 421 Cabramatta Road, Cabramatta, NSW 2166\n",
      "Geocoding 712/2 Akuna Street, City, ACT 2601\n",
      "Geocoding 40 Tate Place, Jamberoo, NSW 2533\n",
      "Geocoding 49 Honiton Avenue W, Carlingford, NSW 2118\n",
      "Geocoding 52 Vallah Lane, Stanthorpe, Qld 4380\n",
      "Geocoding 392 Woongarra Scenic Drive, Innes Park, Qld 4670\n",
      "Geocoding 124-126 Grantham Drive, Highton, Vic 3216\n",
      "Geocoding Lot 44 Tantaus Road, Dereel, Vic 3352\n",
      "Geocoding 18 River Road, Woodford, Vic 3281\n",
      "Geocoding 1004/6-10 Charles Street, Parramatta, NSW 2150\n",
      "Geocoding 16 Karingal Avenue, Carlingford, NSW 2118\n",
      "Geocoding 16 Kombi Street, Bokarina, Qld 4575\n",
      "Geocoding 315/10 Leeding Terrace, Caloundra, Qld 4551\n",
      "Geocoding 32/30 Burgoyne Street, Roxby Downs, SA 5725\n",
      "Geocoding 1/12 Redgrove Street, Green Point, NSW 2251\n",
      "Geocoding 508/44 Ryrie Street, Geelong, Vic 3220\n",
      "Geocoding Lot 1-3, 29 Daranda Terrace, Milang, SA 5256\n",
      "Geocoding 38/1 Provan Street, Campbell, ACT 2612\n",
      "Geocoding 6 Symes Street, Stanthorpe, Qld 4380\n",
      "Geocoding 401 & 402/115 Bulcock Street, Caloundra, Qld 4551\n",
      "Geocoding 8A Everett Avenue, Dulwich, SA 5065\n",
      "Geocoding 31 Olive Avenue, Phegans Bay, NSW 2256\n",
      "Geocoding 2 Tuckeroo Close, Coral Cove, Qld 4670\n",
      "Geocoding 2/260 Roslyn Road, Highton, Vic 3216\n",
      "Geocoding 1/48 Augustine Drive, Highton, Vic 3216\n",
      "Geocoding 805/88 Church Street, Parramatta, NSW 2150\n",
      "Geocoding 7/1 Oliver Road, Chatswood, NSW 2067\n",
      "Geocoding 18 Minkara Street, Warana, Qld 4575\n",
      "Geocoding 20 Davison Road, Wilson Beach, Qld 4800\n",
      "Geocoding 4 Tom Gearon Court, Narre Warren North, Vic 3804\n",
      "Geocoding 64 South Valley Road, Highton, Vic 3216\n",
      "Geocoding 12/80 Wattle Street, Fullarton, SA 5063\n"
     ]
    }
   ],
   "source": [
    "all_results = []\n",
    "\n",
    "dfs = []\n",
    "\n",
    "for address in addresses_rea:\n",
    "    print(f'Geocoding {address}')\n",
    "    address_new = address.replace(' ', '+')\n",
    "    url_full = f'{url_base}?q={address_new}&access_token='+access_token\n",
    "    page = requests.get(url=url_full)\n",
    "    address_result = pd.DataFrame(page.json()['features'][0])['properties']\n",
    "    dfs.append(address_result)"
   ]
  },
  {
   "cell_type": "code",
   "execution_count": 86,
   "id": "d4d803a7-3990-46a6-9a64-9da26890ebd2",
   "metadata": {},
   "outputs": [],
   "source": [
    "# write the data\n",
    "(\n",
    "    pd.DataFrame(dfs)\n",
    "    .assign(input_address=addresses_rea)\n",
    "    .to_csv('/Users/alexlee/Desktop/Data/test_data/rea_experiments_mapbox_030924.csv', index=False)\n",
    ")"
   ]
  },
  {
   "cell_type": "markdown",
   "id": "15c046a7-d94a-4979-8f84-1a613728b34d",
   "metadata": {},
   "source": [
    "## Overall accuracy results\n",
    "\n",
    "These are found by manually reviewing the outputs from each of the geocoders. See the labelled outputs for the original data used to calculate these values."
   ]
  },
  {
   "cell_type": "code",
   "execution_count": null,
   "id": "a2cabda7-327b-400f-85fc-c06fb406a888",
   "metadata": {},
   "outputs": [],
   "source": [
    "overall_results_data = {'google': [0.675257732, 0.8969072165, 0.9742268041, 0.9896907216, \n",
    "                                   0.984375, 1, 1, 1],\n",
    "                        'whereabouts': [0.6701030928, 0.9536082474, 0.9484536082, 0.9536082474,\n",
    "                                        0.90625, 0.984375, 0.984375, 1],\n",
    "                        'mapbox': [0.4639175258, 0.7731958763, 0.8298969072, 0.8453608247, \n",
    "                                   0.5234375, 0.578125, 0.984375, 0.984375],\n",
    "                        'nominatim': [0.1494845361, 0.1494845361, 0.2164948454, 0.2164948454, \n",
    "                                      0.1171875, 0.1171875, 0.7265625, 0.71875]}\n",
    "\n",
    "overall_results_labels1 = ['apartment', 'house', 'street', 'suburb'] + ['apartment', 'house', 'street', 'suburb']\n",
    "overall_results_labels2 = ['retail', 'retail', 'retail', 'retail'] + ['residential', 'residential', 'residential', 'residential']\n",
    "\n",
    "df_overall_results = (\n",
    "    pd.DataFrame(data=overall_results_data)\n",
    "    .assign(address_level=overall_results_labels1,\n",
    "            location_type=overall_results_labels2)\n",
    "    .melt(id_vars=['address_level', 'location_type'], \n",
    "          value_vars=['google', 'whereabouts', 'mapbox', 'nominatim'])\n",
    ")\n",
    "\n",
    "custom_palette = {\n",
    "    'whereabouts': '#c34a36',   \n",
    "    'google': '#b0a8b9', \n",
    "    'mapbox': '#bea6a0', \n",
    "    'nominatim': '#b9b2d9'\n",
    "}"
   ]
  },
  {
   "cell_type": "code",
   "execution_count": null,
   "id": "b3ef2eaa-8256-4143-9192-136e14e4651f",
   "metadata": {},
   "outputs": [],
   "source": [
    "plt.figure(figsize=(8, 6))\n",
    "sns.barplot(df_overall_results.query('location_type==\"retail\"'),\n",
    "            x='address_level',\n",
    "            y='value',\n",
    "            hue='variable', \n",
    "            palette=custom_palette)\n",
    "plt.xlabel('Geographic granularity')\n",
    "plt.ylabel('Accuracy')\n",
    "plt.title('Accuracy comparison for retail dataset')\n",
    "plt.legend(loc='lower right')\n",
    "plt.savefig('geocoder_comparison_retail_050924.png')"
   ]
  },
  {
   "cell_type": "markdown",
   "id": "1e644fd2-a7bc-4d34-9ce0-8de855f8b474",
   "metadata": {},
   "source": [
    "## Speed comparison\n",
    "\n",
    "The %%timeit function is used which carries out 7 runs. The average speed is then calculated. \n",
    "\n",
    "These calculations are done for two databases:\n",
    "- The large Victoria database: this handles a broader range of spelling errors\n",
    "- The small Australian database: country wide but with less tolerance for spelling errors"
   ]
  },
  {
   "cell_type": "code",
   "execution_count": 67,
   "id": "c16a77f3-31f5-4313-ba5f-09ecdd5f4de3",
   "metadata": {},
   "outputs": [],
   "source": [
    "# load the data\n",
    "df = pd.read_excel('liquor.xlsx', skiprows=3)"
   ]
  },
  {
   "cell_type": "code",
   "execution_count": 68,
   "id": "7d3b473b-5399-4e00-98c8-8d7eacbf7c9d",
   "metadata": {},
   "outputs": [],
   "source": [
    "# calculate the full address\n",
    "df = (\n",
    "    df\n",
    "    .query('Postcode.isnull() == False')\n",
    "    .assign(Postcode=lambda df_: df_.Postcode.astype(int))\n",
    "    .loc[:, ['Address', 'Suburb', 'Postcode']]\n",
    "    .assign(full_address=lambda df_: df_.Address + ' ' + df_.Suburb + ' ' + df_.Postcode.astype(str))\n",
    ")"
   ]
  },
  {
   "cell_type": "code",
   "execution_count": 69,
   "id": "5aef65c8-202b-458a-8458-6e12dbb11ce0",
   "metadata": {},
   "outputs": [],
   "source": [
    "# take a random sample of 8192 addresses\n",
    "addresses = df.full_address.sample(2**13, random_state=42).values"
   ]
  },
  {
   "cell_type": "code",
   "execution_count": 76,
   "id": "c8c8ed06-6948-44d7-acf2-7185fb750744",
   "metadata": {},
   "outputs": [],
   "source": [
    "matcher_vic = Matcher('au_all_sm')"
   ]
  },
  {
   "cell_type": "code",
   "execution_count": 77,
   "id": "42f677dd-d732-4ca4-963f-2ca7eadc4c9c",
   "metadata": {},
   "outputs": [
    {
     "data": {
      "application/vnd.jupyter.widget-view+json": {
       "model_id": "6810167d32bd48ed965d42e4a68e7502",
       "version_major": 2,
       "version_minor": 0
      },
      "text/plain": [
       "FloatProgress(value=0.0, layout=Layout(width='auto'), style=ProgressStyle(bar_color='black'))"
      ]
     },
     "metadata": {},
     "output_type": "display_data"
    },
    {
     "data": {
      "application/vnd.jupyter.widget-view+json": {
       "model_id": "172f8cdbd1574d83a885a98da0c961b8",
       "version_major": 2,
       "version_minor": 0
      },
      "text/plain": [
       "FloatProgress(value=0.0, layout=Layout(width='auto'), style=ProgressStyle(bar_color='black'))"
      ]
     },
     "metadata": {},
     "output_type": "display_data"
    },
    {
     "data": {
      "application/vnd.jupyter.widget-view+json": {
       "model_id": "b325e952a9f14fdb902d4b85407b8d85",
       "version_major": 2,
       "version_minor": 0
      },
      "text/plain": [
       "FloatProgress(value=0.0, layout=Layout(width='auto'), style=ProgressStyle(bar_color='black'))"
      ]
     },
     "metadata": {},
     "output_type": "display_data"
    },
    {
     "data": {
      "application/vnd.jupyter.widget-view+json": {
       "model_id": "5198eb7f7e244e339249b53d9a99b9b6",
       "version_major": 2,
       "version_minor": 0
      },
      "text/plain": [
       "FloatProgress(value=0.0, layout=Layout(width='auto'), style=ProgressStyle(bar_color='black'))"
      ]
     },
     "metadata": {},
     "output_type": "display_data"
    },
    {
     "data": {
      "application/vnd.jupyter.widget-view+json": {
       "model_id": "16b1e6be52754ca7bc86a54235b62f93",
       "version_major": 2,
       "version_minor": 0
      },
      "text/plain": [
       "FloatProgress(value=0.0, layout=Layout(width='auto'), style=ProgressStyle(bar_color='black'))"
      ]
     },
     "metadata": {},
     "output_type": "display_data"
    },
    {
     "data": {
      "application/vnd.jupyter.widget-view+json": {
       "model_id": "cc8882da235240859455ec88c8628562",
       "version_major": 2,
       "version_minor": 0
      },
      "text/plain": [
       "FloatProgress(value=0.0, layout=Layout(width='auto'), style=ProgressStyle(bar_color='black'))"
      ]
     },
     "metadata": {},
     "output_type": "display_data"
    },
    {
     "data": {
      "application/vnd.jupyter.widget-view+json": {
       "model_id": "cc8f67581f8c42db8896f472cf2afb5d",
       "version_major": 2,
       "version_minor": 0
      },
      "text/plain": [
       "FloatProgress(value=0.0, layout=Layout(width='auto'), style=ProgressStyle(bar_color='black'))"
      ]
     },
     "metadata": {},
     "output_type": "display_data"
    },
    {
     "data": {
      "application/vnd.jupyter.widget-view+json": {
       "model_id": "5d80f41ddba2471f98bef9fed4085728",
       "version_major": 2,
       "version_minor": 0
      },
      "text/plain": [
       "FloatProgress(value=0.0, layout=Layout(width='auto'), style=ProgressStyle(bar_color='black'))"
      ]
     },
     "metadata": {},
     "output_type": "display_data"
    },
    {
     "name": "stdout",
     "output_type": "stream",
     "text": [
      "16.9 s ± 40.3 ms per loop (mean ± std. dev. of 7 runs, 1 loop each)\n"
     ]
    }
   ],
   "source": [
    "%%timeit\n",
    "results = matcher_vic.geocode(addresses)"
   ]
  },
  {
   "cell_type": "code",
   "execution_count": 74,
   "id": "b0b65af5-d0e3-4544-a71f-efc882eb88c7",
   "metadata": {},
   "outputs": [
    {
     "data": {
      "text/plain": [
       "542.5165562913908"
      ]
     },
     "execution_count": 74,
     "metadata": {},
     "output_type": "execute_result"
    }
   ],
   "source": [
    "# au_vic_lg\n",
    "8192 / 15.1"
   ]
  },
  {
   "cell_type": "code",
   "execution_count": 78,
   "id": "b8747dd5-8aba-4144-b292-15d2aebbf3fc",
   "metadata": {},
   "outputs": [
    {
     "data": {
      "text/plain": [
       "484.7337278106509"
      ]
     },
     "execution_count": 78,
     "metadata": {},
     "output_type": "execute_result"
    }
   ],
   "source": [
    "# au_all_sm\n",
    "8192 / 16.9"
   ]
  }
 ],
 "metadata": {
  "kernelspec": {
   "display_name": "hf",
   "language": "python",
   "name": "hf"
  },
  "language_info": {
   "codemirror_mode": {
    "name": "ipython",
    "version": 3
   },
   "file_extension": ".py",
   "mimetype": "text/x-python",
   "name": "python",
   "nbconvert_exporter": "python",
   "pygments_lexer": "ipython3",
   "version": "3.12.3"
  }
 },
 "nbformat": 4,
 "nbformat_minor": 5
}
