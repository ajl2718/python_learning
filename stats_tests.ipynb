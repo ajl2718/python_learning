{
 "cells": [
  {
   "cell_type": "markdown",
   "id": "5e193592",
   "metadata": {},
   "source": [
    "# Statistical tests\n",
    "\n",
    "6 August 2021\n",
    "\n",
    "---\n",
    "\n",
    "## Types of data\n",
    "\n",
    "| Type of data | Description | Example | \n",
    "| :-- | :-- | --: |\n",
    "| Ratio scale | Statements such as 'This is twice that' have meaning | Heights of people |\n",
    "| Interval scale | Distance between points has a meaning but not ratio | Temperatue in (C) |\n",
    "| Ordinal | Values can be ranked but differences have no meaning | Star rating of films |\n",
    "| Ordered nominal scale | Order but not numeric | \"Excellent\", \"Average\", \"Terrible\" |\n",
    "| Nominal scale | Categories but cannot be ordered | Eye colour |\n",
    "| Dichotomous | Binary variables | Survived vs died |\n",
    "\n",
    "\n",
    "## Summary of tests and their applicability\n",
    "\n",
    "\n",
    "| Type of data | Size of sample | Method |\n",
    "| -- | -- | -- |\n",
    "| Interval | Large, > 50 each sample | Normal distribution for means\n",
    "\n",
    "## Some questions\n",
    "- Comparing star ratings on interview reviews for different products with different numbers of reviews\n",
    "    - E.g., one printer has an average star rating of 3.5 with 250 review and another of 4 with 100 reviews. Which would be better?\n",
    "- Comparing distributions from data quality assessments\n",
    "    - E.g., distributions of character length in triage texts. How many needed to detect a given difference which probabilit $\\alpha$? (rephrase)"
   ]
  },
  {
   "cell_type": "code",
   "execution_count": 2,
   "id": "622f81b8",
   "metadata": {},
   "outputs": [],
   "source": [
    "import numpy as np\n",
    "import pandas as pd\n",
    "import seaborn as sns\n",
    "import matplotlib.pyplot as plt\n",
    "from scipy.stats import norm\n",
    "\n",
    "%matplotlib inline\n",
    "sns.set()"
   ]
  },
  {
   "cell_type": "markdown",
   "id": "9a45cf35",
   "metadata": {},
   "source": [
    "## Z-test"
   ]
  },
  {
   "cell_type": "markdown",
   "id": "5306939c",
   "metadata": {},
   "source": [
    "Generate some data: \n",
    "- two normal distributions with different means but the same variance"
   ]
  },
  {
   "cell_type": "code",
   "execution_count": 3,
   "id": "a2319288",
   "metadata": {},
   "outputs": [],
   "source": [
    "sample_size1 = 100\n",
    "sample_size2 = 128"
   ]
  },
  {
   "cell_type": "code",
   "execution_count": 23,
   "id": "d96f6dc1",
   "metadata": {},
   "outputs": [],
   "source": [
    "y1 = 1*np.random.randn(sample_size1)\n",
    "y2 = 1.5*np.random.randn(sample_size2) + 0.1"
   ]
  },
  {
   "cell_type": "code",
   "execution_count": 24,
   "id": "3cc83d5b",
   "metadata": {},
   "outputs": [
    {
     "data": {
      "image/png": "[encoded data removed]",
      "text/plain": [
       "<Figure size 864x576 with 1 Axes>"
      ]
     },
     "metadata": {},
     "output_type": "display_data"
    }
   ],
   "source": [
    "plt.figure(figsize=(12, 8))\n",
    "plt.hist(y1, label='Gaussian with $\\mu=0$')\n",
    "plt.hist(y2, label='Gaussian with $\\mu=2.1$')\n",
    "plt.legend()\n",
    "plt.show()"
   ]
  },
  {
   "cell_type": "code",
   "execution_count": 25,
   "id": "4d48f784",
   "metadata": {},
   "outputs": [],
   "source": [
    "sample_mean1 = y1.mean()\n",
    "sample_mean2 = y2.mean()\n",
    "\n",
    "sample_var1 = np.sum((y1 - sample_mean1)**2) / (sample_size1-1)\n",
    "sample_var2 = np.sum((y2 - sample_mean2)**2) / (sample_size2-1)"
   ]
  },
  {
   "cell_type": "code",
   "execution_count": 26,
   "id": "f40d9c9e",
   "metadata": {},
   "outputs": [
    {
     "data": {
      "text/plain": [
       "(0.08261603681169795, -0.18543070194613556)"
      ]
     },
     "execution_count": 26,
     "metadata": {},
     "output_type": "execute_result"
    }
   ],
   "source": [
    "sample_mean1, sample_mean2"
   ]
  },
  {
   "cell_type": "code",
   "execution_count": 27,
   "id": "eb511836",
   "metadata": {},
   "outputs": [
    {
     "data": {
      "text/plain": [
       "(1.0536387616498897, 1.974192331689587)"
      ]
     },
     "execution_count": 27,
     "metadata": {},
     "output_type": "execute_result"
    }
   ],
   "source": [
    "sample_var1, sample_var2"
   ]
  },
  {
   "cell_type": "code",
   "execution_count": 28,
   "id": "6f89600d",
   "metadata": {},
   "outputs": [
    {
     "name": "stdout",
     "output_type": "stream",
     "text": [
      "-0.13197355392632956 0.5524973951667611\n"
     ]
    }
   ],
   "source": [
    "# z-statistic\n",
    "# test that the second set of samples has mean=2.1\n",
    "z = (sample_mean2 - 0) / np.sqrt(sample_var2)\n",
    "\n",
    "# calcualte the p value based on this z-value\n",
    "# the probability that a value at least as large as this value would occur under the null hypothesis\n",
    "p = 1 - norm.cdf(z)\n",
    "\n",
    "print(z, p)"
   ]
  },
  {
   "cell_type": "markdown",
   "id": "aa6e98bf",
   "metadata": {},
   "source": [
    "### Difference between two populations"
   ]
  },
  {
   "cell_type": "code",
   "execution_count": 29,
   "id": "6af27040",
   "metadata": {},
   "outputs": [],
   "source": [
    "# difference between sample means\n",
    "mean_diff = sample_mean1 - sample_mean2"
   ]
  },
  {
   "cell_type": "code",
   "execution_count": 30,
   "id": "0242c69c",
   "metadata": {},
   "outputs": [],
   "source": [
    "# standard error of the mean of a given sample\n",
    "sample_var1 = np.sum((y1 - sample_mean1)**2) / (sample_size1-1)"
   ]
  },
  {
   "cell_type": "code",
   "execution_count": 31,
   "id": "c185797c",
   "metadata": {},
   "outputs": [],
   "source": [
    "# standard error in the difference of means\n",
    "sem_diff = np.sqrt(sample_var1 / sample_size1 + sample_var2 / sample_size2)"
   ]
  },
  {
   "cell_type": "code",
   "execution_count": 32,
   "id": "ec226cc6",
   "metadata": {},
   "outputs": [
    {
     "data": {
      "text/plain": [
       "(-0.04774913522150759, 0.5838426127371746)"
      ]
     },
     "execution_count": 32,
     "metadata": {},
     "output_type": "execute_result"
    }
   ],
   "source": [
    "# 95% confidence interval\n",
    "lower_bound = mean_diff - 1.96 * sem_diff\n",
    "upper_bound = mean_diff + 1.96 * sem_diff\n",
    "\n",
    "lower_bound, upper_bound"
   ]
  },
  {
   "cell_type": "code",
   "execution_count": 33,
   "id": "21ad33bb",
   "metadata": {},
   "outputs": [],
   "source": [
    "# z-statistic for difference between two means\n",
    "z = (sample_mean1 - sample_mean2) / (sem_diff)"
   ]
  },
  {
   "cell_type": "code",
   "execution_count": 35,
   "id": "dc859d25",
   "metadata": {},
   "outputs": [
    {
     "data": {
      "text/plain": [
       "1.6636430405031915"
      ]
     },
     "execution_count": 35,
     "metadata": {},
     "output_type": "execute_result"
    }
   ],
   "source": [
    "z"
   ]
  },
  {
   "cell_type": "markdown",
   "id": "13e9d494",
   "metadata": {},
   "source": [
    "## Comparing proportions"
   ]
  },
  {
   "cell_type": "code",
   "execution_count": 121,
   "id": "943afa26",
   "metadata": {},
   "outputs": [],
   "source": [
    "from scipy.stats import binom\n",
    "from numpy.random import choice\n",
    "\n",
    "# example\n",
    "# estimating the proportion of the Australian population who like cats\n",
    "sample_size = 100\n",
    "num_samples = 10000\n",
    "num_cat_lovers = 8821\n",
    "\n",
    "proportion = num_cat_lovers / population"
   ]
  },
  {
   "cell_type": "code",
   "execution_count": 122,
   "id": "54d03ad9",
   "metadata": {},
   "outputs": [],
   "source": [
    "# generate the samples\n",
    "data = choice(2, [sample_size, num_samples], p=[1-proportion, proportion])"
   ]
  },
  {
   "cell_type": "code",
   "execution_count": 123,
   "id": "0b58c48d",
   "metadata": {},
   "outputs": [],
   "source": [
    "sample_proportions = data.mean(axis=0)"
   ]
  },
  {
   "cell_type": "code",
   "execution_count": 133,
   "id": "54cd18f7",
   "metadata": {},
   "outputs": [],
   "source": [
    "# a given sample proportion and sample standard deviation\n",
    "sample_prop = sample_proportions[3]\n",
    "sample_var = sample_prop * (1 - sample_prop) / sample_size"
   ]
  },
  {
   "cell_type": "code",
   "execution_count": 137,
   "id": "c5d97200",
   "metadata": {},
   "outputs": [
    {
     "data": {
      "text/plain": [
       "(0.8163075389076541, 0.943692461092346)"
      ]
     },
     "execution_count": 137,
     "metadata": {},
     "output_type": "execute_result"
    }
   ],
   "source": [
    "# large sample size -> approximate the distribution as normal\n",
    "lower_bound = sample_prop - 1.96 * np.sqrt(sample_var)\n",
    "upper_bound = sample_prop + 1.96 * np.sqrt(sample_var)\n",
    "\n",
    "lower_bound, upper_bound"
   ]
  },
  {
   "cell_type": "code",
   "execution_count": 126,
   "id": "0c0f3e92",
   "metadata": {},
   "outputs": [
    {
     "data": {
      "image/png": "[encoded data removed]",
      "text/plain": [
       "<Figure size 864x576 with 1 Axes>"
      ]
     },
     "metadata": {},
     "output_type": "display_data"
    }
   ],
   "source": [
    "# calculate the proportion for each sample\n",
    "plt.figure(figsize=(12, 8))\n",
    "plt.hist(sample_proportions, bins=24)\n",
    "plt.show()"
   ]
  },
  {
   "cell_type": "markdown",
   "id": "e10ec1df",
   "metadata": {},
   "source": [
    "## Bootstrap intervals"
   ]
  },
  {
   "cell_type": "code",
   "execution_count": 192,
   "id": "cd635392",
   "metadata": {},
   "outputs": [],
   "source": [
    "data_one_sample = data[:, 0]\n",
    "bootstrap_samples = np.random.choice(data_one_sample, [100, 100000])\n",
    "bootstrap_proportions = bootstrap_samples.mean(axis=0)"
   ]
  },
  {
   "cell_type": "code",
   "execution_count": 193,
   "id": "a9d02040",
   "metadata": {},
   "outputs": [],
   "source": [
    "bootstrap_var = bootstrap_proportions.var()\n",
    "bootstrap_mean = bootstrap_proportions.mean()"
   ]
  },
  {
   "cell_type": "code",
   "execution_count": 197,
   "id": "43c404a5",
   "metadata": {},
   "outputs": [],
   "source": [
    "lower_bound = bootstrap_mean - np.sqrt(bootstrap_var) * 1.96\n",
    "upper_bound = bootstrap_mean + np.sqrt(bootstrap_var) * 1.96"
   ]
  },
  {
   "cell_type": "code",
   "execution_count": 198,
   "id": "061a76bc",
   "metadata": {},
   "outputs": [
    {
     "data": {
      "text/plain": [
       "(0.7920288183344376, 0.9280567816655624)"
      ]
     },
     "execution_count": 198,
     "metadata": {},
     "output_type": "execute_result"
    }
   ],
   "source": [
    "lower_bound, upper_bound"
   ]
  },
  {
   "cell_type": "code",
   "execution_count": 196,
   "id": "ffb0daf8",
   "metadata": {},
   "outputs": [
    {
     "data": {
      "image/png": "[encoded data removed]",
      "text/plain": [
       "<Figure size 864x576 with 1 Axes>"
      ]
     },
     "metadata": {},
     "output_type": "display_data"
    }
   ],
   "source": [
    "# calculate the proportion for each sample\n",
    "plt.figure(figsize=(12, 8))\n",
    "plt.hist(bootstrap_proportions, bins=32)\n",
    "plt.show()"
   ]
  },
  {
   "cell_type": "code",
   "execution_count": null,
   "id": "f670ae97",
   "metadata": {},
   "outputs": [],
   "source": []
  },
  {
   "cell_type": "markdown",
   "id": "56a97d65",
   "metadata": {},
   "source": [
    "## One-sided t test\n",
    "\n",
    "Assumptions:\n",
    "- if $x_1, x_2, x_3, ..., x_n$ from a Normal distribution ~ $N(\\mu, \\sigma^2)$\n",
    "- $\\bar{x}$ is the sample mean and $\\mu$ the population mean\n",
    "- $s^2$ is the sample variance\n",
    "\n",
    "Then:\n",
    "- $t = (\\bar{x} - \\mu) / \\sqrt{s^2/n}$ follows a t-distribution with n-1 degrees of freedom\n",
    "\n",
    "\n",
    "Tests for Normality:\n",
    "- adf"
   ]
  },
  {
   "cell_type": "markdown",
   "id": "6af1ec24",
   "metadata": {},
   "source": [
    "## Two-sided t test"
   ]
  },
  {
   "cell_type": "markdown",
   "id": "760d7aca",
   "metadata": {},
   "source": [
    "## Sign test"
   ]
  },
  {
   "cell_type": "markdown",
   "id": "63d915fb",
   "metadata": {},
   "source": [
    "## F-test"
   ]
  },
  {
   "cell_type": "markdown",
   "id": "5da83497",
   "metadata": {},
   "source": [
    "## Mann-Whitney U test\n",
    "\n",
    "Given two sets of data:\n",
    "- ${a_1, a_2, a_3, ..., a_n}$\n",
    "- ${b_1, b_2, b_3, ..., b_m}$\n",
    "\n",
    "statistic U / (n * m) gives an estimate of the probability that a element drawn at random from population A exceeds an element drawn randomly from B\n",
    "\n",
    "Assumptions\n",
    "- Data can be ranked\n",
    "- Observations are independent"
   ]
  },
  {
   "cell_type": "code",
   "execution_count": 208,
   "id": "21baa92d",
   "metadata": {},
   "outputs": [],
   "source": [
    "from scipy.stats import mannwhitneyu\n",
    "\n",
    "A = [7, 4, 9, 17]\n",
    "B = [11, 6, 21, 14]"
   ]
  },
  {
   "cell_type": "code",
   "execution_count": 203,
   "id": "fe7fafa1",
   "metadata": {},
   "outputs": [],
   "source": [
    "# sort A\n",
    "A.sort()\n",
    "\n",
    "# sort B\n",
    "B.sort()"
   ]
  },
  {
   "cell_type": "code",
   "execution_count": 207,
   "id": "d4f6af06",
   "metadata": {},
   "outputs": [],
   "source": [
    "# algorithm\n",
    "# sort A ascending\n",
    "# sort B ascending\n",
    "\n",
    "\n",
    "# start with a_0 = A[0] and b_0 = B[0]\n",
    "# x_0 = min(a_0, b_0)\n",
    "# ...\n",
    "# end up with a list of A's and B's corresponding to ranks of the combined set\n",
    "\n",
    "# for each A\n",
    "# count the number of B's that preceed it (if there are ties then count as 0.5)\n",
    "# sum these counts -> U\n",
    "\n",
    "# U / (n_1 * n_2) the probabilistic interpretation above"
   ]
  },
  {
   "cell_type": "code",
   "execution_count": 210,
   "id": "75b36530",
   "metadata": {},
   "outputs": [
    {
     "data": {
      "text/plain": [
       "MannwhitneyuResult(statistic=5.0, pvalue=0.4857142857142857)"
      ]
     },
     "execution_count": 210,
     "metadata": {},
     "output_type": "execute_result"
    }
   ],
   "source": [
    "mannwhitneyu(A, B)"
   ]
  },
  {
   "cell_type": "markdown",
   "id": "b1b1f102",
   "metadata": {},
   "source": [
    "## Wilcoxon matched pairs test\n",
    "\n",
    "Given two sets of data:\n",
    "- ${a_1, a_2, a_3, ..., a_n}$\n",
    "- ${b_1, b_2, b_3, ..., b_n}$\n",
    "\n",
    "Assumptions:\n",
    "- Interval data\n",
    "\n",
    "Method:\n",
    "- Then find differences between each of the pairs.\n",
    "- Rank differences between pairs by absolute value of difference (ties are given the average of their ranks)\n",
    "- Sum the ranks of the positive differences, sum the ranks of the negative differences\n",
    "- Under null hypothesis: these sums should be approximately equal\n",
    "- Test statistic: the smaller of these"
   ]
  },
  {
   "cell_type": "code",
   "execution_count": 213,
   "id": "38e439f1",
   "metadata": {},
   "outputs": [],
   "source": [
    "from scipy.stats import wilcoxon\n",
    "\n",
    "d = [0.1, -0.5, -0.7, -1.5, 0.3, 0.4, -1.7, -2]"
   ]
  },
  {
   "cell_type": "code",
   "execution_count": 217,
   "id": "5d61df36",
   "metadata": {},
   "outputs": [
    {
     "data": {
      "text/plain": [
       "WilcoxonResult(statistic=6.0, pvalue=0.109375)"
      ]
     },
     "execution_count": 217,
     "metadata": {},
     "output_type": "execute_result"
    }
   ],
   "source": [
    "wilcoxon(d)"
   ]
  },
  {
   "cell_type": "markdown",
   "id": "f7b99d16",
   "metadata": {},
   "source": [
    "## Spearman's rank correlation coefficient\n",
    "\n",
    "- Rank the two datasets\n",
    "- Look at the differences between corresponding ranks $d_i$\n",
    "\n",
    "\n",
    "Then calculate:\n",
    "\n",
    "$\\rho = \\frac{Cov(rank_x, rank_y)}{\\sigma(rank_x)\\sigma(rank_y)}$"
   ]
  },
  {
   "cell_type": "code",
   "execution_count": 218,
   "id": "5af4492c",
   "metadata": {},
   "outputs": [],
   "source": [
    "from scipy.stats import spearmanr"
   ]
  },
  {
   "cell_type": "code",
   "execution_count": null,
   "id": "fbbb0629",
   "metadata": {},
   "outputs": [],
   "source": []
  },
  {
   "cell_type": "markdown",
   "id": "329bd159",
   "metadata": {},
   "source": [
    "## Kendall's rank correlation coefficient\n",
    "\n",
    "- Useful for testing the strength of the correlation between ranked variables\n",
    "- Harder to compute than Spearman's r\n",
    "\n",
    "Given sets of data\n",
    "- $x_1, x_2, ..., x_n$\n",
    "- $y_1, y_2, ..., y_n$\n",
    "\n",
    "Concordant pair:\n",
    "- $(x_i, x_j)$ and $(y_i, y_j)$ ordered the same way\n",
    "\n",
    "Discordant pair:\n",
    "- $(x_i, x_j)$ and $(y_i, y_j)$ ordered different ways"
   ]
  },
  {
   "cell_type": "code",
   "execution_count": 226,
   "id": "ea7e2697",
   "metadata": {},
   "outputs": [],
   "source": [
    "from scipy.stats import kendalltau\n",
    "\n",
    "# example from section 8.9 of 'introduction to medical statistics'\n",
    "r1 = np.arange(1, 18)\n",
    "r2 = [3, 7, 6, 1, 13, 10, 8, 4, 16, 9, 11, 14, 12, 17, 5, 2, 15]"
   ]
  },
  {
   "cell_type": "code",
   "execution_count": 229,
   "id": "0aacc564",
   "metadata": {},
   "outputs": [
    {
     "data": {
      "text/plain": [
       "KendalltauResult(correlation=0.2941176470588235, pvalue=0.10886459480774507)"
      ]
     },
     "execution_count": 229,
     "metadata": {},
     "output_type": "execute_result"
    }
   ],
   "source": [
    "kendalltau(r1, r2)"
   ]
  },
  {
   "cell_type": "code",
   "execution_count": 230,
   "id": "02bee8a4",
   "metadata": {},
   "outputs": [
    {
     "data": {
      "image/png": "[encoded data removed]",
      "text/plain": [
       "<Figure size 864x576 with 1 Axes>"
      ]
     },
     "metadata": {},
     "output_type": "display_data"
    }
   ],
   "source": [
    "plt.figure(figsize=(12, 8))\n",
    "plt.scatter(r1, r2)\n",
    "plt.show()"
   ]
  },
  {
   "cell_type": "code",
   "execution_count": null,
   "id": "3360da38",
   "metadata": {},
   "outputs": [],
   "source": [
    "# what is the null hypothesis? that the variables are independent?\n",
    "# distribution found by looking at all arrangements of the pairs\n",
    "# for each arrangement calculate the kendall tau and its probability"
   ]
  },
  {
   "cell_type": "markdown",
   "id": "ceca43e4",
   "metadata": {},
   "source": [
    "## Chi-squared test"
   ]
  },
  {
   "cell_type": "code",
   "execution_count": null,
   "id": "e54e85a6",
   "metadata": {},
   "outputs": [],
   "source": []
  }
 ],
 "metadata": {
  "kernelspec": {
   "display_name": "Python 3 (ipykernel)",
   "language": "python",
   "name": "python3"
  },
  "language_info": {
   "codemirror_mode": {
    "name": "ipython",
    "version": 3
   },
   "file_extension": ".py",
   "mimetype": "text/x-python",
   "name": "python",
   "nbconvert_exporter": "python",
   "pygments_lexer": "ipython3",
   "version": "3.8.10"
  }
 },
 "nbformat": 4,
 "nbformat_minor": 5
}
