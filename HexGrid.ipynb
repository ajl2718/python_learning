{
 "cells": [
  {
   "cell_type": "markdown",
   "metadata": {},
   "source": [
    "# Geopandas, Shapely, Folium learning: Generate a regular hexagonal grid to cover a region\n",
    "\n",
    "27 May 2019\n",
    "\n",
    "---\n",
    "\n",
    "\n",
    "As part of one of my work projects, I've been trying to create a regular grid of hexagons that tile the Greater Melbourne region. This is my attempt at this problem. It was also a nice way for me to start learning some geospatial libraries in Python: GeoPandas (spatial joins, filtering, co-ordinate reference systems); Shapely; and Folium.\n",
    "\n",
    "The basic approach is:\n",
    "- Define a regular hexagon\n",
    "- Define a flat CRS and a projected CRS. So x, y and lat, lng values respectively.\n",
    "- Write the code the create a Shapely Polygon that defines a regular hexagon with a particular radius in metres.\n",
    "- Define an area (in lat, lng values) over which we would like to create a tiling.\n",
    "- Intersect this area with the geographic area of interest, in this case the Greater Melbourne region."
   ]
  },
  {
   "cell_type": "markdown",
   "metadata": {},
   "source": [
    "## 1.0. Setup\n",
    "\n",
    "Import all the necessary libraries and then define the Coordinate Reference Systems (CRS) that we will be working with."
   ]
  },
  {
   "cell_type": "code",
   "execution_count": 1,
   "metadata": {},
   "outputs": [],
   "source": [
    "import pandas as pd\n",
    "import geopandas as gpd\n",
    "import matplotlib.pyplot as plt\n",
    "import numpy as np\n",
    "\n",
    "import folium\n",
    "\n",
    "from shapely.geometry import Polygon, Point, MultiPolygon\n",
    "\n",
    "%matplotlib inline"
   ]
  },
  {
   "cell_type": "markdown",
   "metadata": {},
   "source": [
    "### 1.1. Coordinate Reference Systems"
   ]
  },
  {
   "cell_type": "code",
   "execution_count": 2,
   "metadata": {},
   "outputs": [],
   "source": [
    "# The CRS that the ABS SA2 shapefile uses\n",
    "crs_abs = {'init': 'epsg:4283'}\n",
    "\n",
    "# the 'flattened' CRS used to define the grid before projecting it.\n",
    "crs_vic = {'init': 'epsg:28355'}"
   ]
  },
  {
   "cell_type": "code",
   "execution_count": 3,
   "metadata": {},
   "outputs": [],
   "source": [
    "# south west most point of melb\n",
    "p_lower = [143.338683, -39.185049]\n",
    "\n",
    "# north east most point of melb\n",
    "p_upper = [146.742224, -37.559378]\n",
    "\n",
    "# put these in a Geoseries\n",
    "gs1 = gpd.GeoSeries([Point(p_lower), Point(p_upper)], crs=crs_abs)\n",
    "\n",
    "# convert each of these points to the 'flat coordinate system'\n",
    "gs1b = gs1.to_crs(crs_vic)"
   ]
  },
  {
   "cell_type": "markdown",
   "metadata": {},
   "source": [
    "## 2.0. Define the regular hexagonal grid\n",
    "\n",
    "### 2.1. Define a regular hexagon in the flat geometry\n",
    "\n",
    "Firstly we define a regular hexagon and then tile this over the given rectangle"
   ]
  },
  {
   "cell_type": "code",
   "execution_count": 4,
   "metadata": {},
   "outputs": [],
   "source": [
    "# startpoint coords\n",
    "coords0 = gs1b[0].x, gs1b[0].y\n",
    "\n",
    "# the x and y extent of the grid\n",
    "Xdiff = gs1b[1].x - gs1b[0].x\n",
    "Ydiff = gs1b[1].y - gs1b[0].y\n",
    "\n",
    "# the cell width and height (in metres)\n",
    "celllength = 2000\n",
    "r = celllength\n",
    "\n",
    "# fundamental hexagon\n",
    "a, b = np.sqrt(3) / 2, 1 / 2\n",
    "poly_hex = np.array([(0, r), (-r*a, r*b), (-r*a, -r*b), (0, -r), (r*a, -r*b), (r*a, r*b)])\n",
    "\n",
    "# calculate the number of cells in the X and Y directions\n",
    "num_cells_x = int(Xdiff / celllength / 2)\n",
    "num_cells_y = int(Ydiff / celllength / 2)"
   ]
  },
  {
   "cell_type": "markdown",
   "metadata": {},
   "source": [
    "### 2.2. Tile this hexagon over the rectangle covering the specified area.\n",
    "\n",
    "Clean this up to void using the for loops."
   ]
  },
  {
   "cell_type": "code",
   "execution_count": 5,
   "metadata": {},
   "outputs": [],
   "source": [
    "# centres of a regular grid of hexagons of unit radius\n",
    "polys = []\n",
    "\n",
    "# using a for loop\n",
    "for m in range(0, num_cells_x):\n",
    "    for n in range(0, num_cells_y):\n",
    "        # generate the two sublattices\n",
    "        d = np.array([coords0[0] + 2*m*a*r, coords0[1] + 3*2*n*b*r]).reshape(1,-1) # displacement vector\n",
    "        polys.append(Polygon(d+poly_hex))\n",
    "        \n",
    "        d = np.array([coords0[0] + (2*m+1)*a*r, coords0[1] + 3*(2*n+1)*b*r]).reshape(1,-1)\n",
    "        polys.append(Polygon(d+poly_hex))\n",
    "        \n",
    "hexes = gpd.GeoSeries(polys, crs=crs_vic)\n",
    "\n",
    "# convert to dataframe and change crs\n",
    "gdf = gpd.GeoDataFrame(geometry=hexes)\n",
    "gdf = gdf.to_crs(crs_abs)\n",
    "\n",
    "# add a label for each hexagon for when we do a spatial join\n",
    "gdf['HexLabel'] = np.arange(gdf.shape[0])"
   ]
  },
  {
   "cell_type": "markdown",
   "metadata": {},
   "source": [
    "## 3.0. Load up the Vic SA2 values and shapefiles\n",
    "\n",
    "The SA2 files are here: https://www.abs.gov.au/AUSSTATS/abs@.nsf/DetailsPage/1270.0.55.003July%202016?OpenDocument"
   ]
  },
  {
   "cell_type": "code",
   "execution_count": 58,
   "metadata": {},
   "outputs": [],
   "source": [
    "# load up the shape files for Vic and filter down to Greater Melbourne ones\n",
    "gdf_vic = gpd.read_file('data/shapefiles/SA2_2016_AUST.shp')\n",
    "\n",
    "#sa2_gm = gdf_vic[gdf_vic['GCC_NAME16']=='Greater Melbourne'].geometry\n",
    "gdf_vic = gdf_vic[gdf_vic['geometry'].isnull() == False] # remove the null values\n",
    "gdf_gm = gdf_vic[gdf_vic['GCC_NAME16']=='Greater Melbourne'] # only interested in Greater Melbourne"
   ]
  },
  {
   "cell_type": "code",
   "execution_count": 59,
   "metadata": {},
   "outputs": [],
   "source": [
    "# join hexagon grid with Greater Melbourne\n",
    "gdf_new = gpd.sjoin(gdf_gm, gdf, op='intersects', how='inner')"
   ]
  },
  {
   "cell_type": "code",
   "execution_count": 60,
   "metadata": {},
   "outputs": [],
   "source": [
    "# just get the hexagons that cover melbourne\n",
    "hex_gm = gdf[gdf['HexLabel'].isin(gdf_new['HexLabel'].values)]"
   ]
  },
  {
   "cell_type": "code",
   "execution_count": 103,
   "metadata": {},
   "outputs": [],
   "source": [
    "# write to a shapefile\n",
    "hex_gm.to_file('hexgrid_1km.shp', index=False)"
   ]
  },
  {
   "cell_type": "markdown",
   "metadata": {},
   "source": [
    "## 4.0. Plot the regular hexgrid covering Greater Melbourne"
   ]
  },
  {
   "cell_type": "code",
   "execution_count": 6,
   "metadata": {},
   "outputs": [],
   "source": [
    "# initialize the map\n",
    "m = folium.Map(location=[-37.8, 145], zoom_start=8.5, tiles='cartodbpositron')\n",
    "\n",
    "# add the hexagon grid to the map\n",
    "folium.GeoJson(hex_gm.geometry).add_to(m)\n",
    "\n",
    "# display all of this\n",
    "m"
   ]
  },
  {
   "cell_type": "code",
   "execution_count": null,
   "metadata": {},
   "outputs": [],
   "source": []
  }
 ],
 "metadata": {
  "kernelspec": {
   "display_name": "Python 3",
   "language": "python",
   "name": "python3"
  },
  "language_info": {
   "codemirror_mode": {
    "name": "ipython",
    "version": 3
   },
   "file_extension": ".py",
   "mimetype": "text/x-python",
   "name": "python",
   "nbconvert_exporter": "python",
   "pygments_lexer": "ipython3",
   "version": "3.6.7"
  }
 },
 "nbformat": 4,
 "nbformat_minor": 2
}
