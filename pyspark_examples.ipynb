{
 "cells": [
  {
   "cell_type": "markdown",
   "id": "cdd8b167-57ac-44e3-a407-fef63676fccd",
   "metadata": {},
   "source": [
    "# Examples of using PySpark\n",
    "\n",
    "04 03 25\n",
    "\n",
    "---\n",
    "\n",
    "Installation instructions for PySpark.\n",
    "\n",
    "1) First make sure that the java sdk is installed. Type `java -version` and the version number should be above 11\n",
    "2) If java is not installed, install it from the Developer Downloads link here: https://www.java.com/en/\n",
    "3) The code in the second cell in this notebook avoids getting the error about the security manager"
   ]
  },
  {
   "cell_type": "code",
   "execution_count": 2,
   "id": "0b3993a2-0a61-407d-afbc-82db53248dcd",
   "metadata": {},
   "outputs": [],
   "source": [
    "from pyspark.sql import SparkSession\n",
    "import warnings\n",
    "\n",
    "warnings.filterwarnings('ignore')"
   ]
  },
  {
   "cell_type": "code",
   "execution_count": 3,
   "id": "084654b1-3a28-4f97-896a-b82513a2a55e",
   "metadata": {},
   "outputs": [
    {
     "name": "stderr",
     "output_type": "stream",
     "text": [
      "Setting default log level to \"WARN\".\n",
      "To adjust logging level use sc.setLogLevel(newLevel). For SparkR, use setLogLevel(newLevel).\n",
      "25/03/04 22:41:59 WARN NativeCodeLoader: Unable to load native-hadoop library for your platform... using builtin-java classes where applicable\n"
     ]
    }
   ],
   "source": [
    "spark = SparkSession.builder \\\n",
    "    .appName(\"MyApp\") \\\n",
    "    .config(\"spark.driver.extraJavaOptions\", \"-Djava.security.manager=allow\") \\\n",
    "    .getOrCreate()"
   ]
  },
  {
   "cell_type": "markdown",
   "id": "162da3ac-6934-4808-9b93-0ba0cb537c58",
   "metadata": {},
   "source": [
    "## Load some data\n",
    "\n",
    "In this case the GNAF psv file (available here: https://geoscape.com.au/solutions/g-naf/)"
   ]
  },
  {
   "cell_type": "code",
   "execution_count": 4,
   "id": "ab23c199-f1ec-4fea-b6fb-7451d5a4a1a4",
   "metadata": {},
   "outputs": [],
   "source": [
    "df = (\n",
    "    spark\n",
    "    .read\n",
    "    .options(delimiter='|')\n",
    "    .option('header', 'true')\n",
    "    .csv(\"/Users/alexlee/Desktop/Data/geo/gnaf_november2024/GNAF_CORE.psv\")\n",
    ")"
   ]
  },
  {
   "cell_type": "markdown",
   "id": "b25edc7e-4845-46df-9356-ca102e7cd39c",
   "metadata": {},
   "source": [
    "## Analyse the data"
   ]
  },
  {
   "cell_type": "markdown",
   "id": "21143d01-0fcc-406d-97da-3cbe634fd6f8",
   "metadata": {},
   "source": [
    "### How many rows are there in the dataframe?"
   ]
  },
  {
   "cell_type": "code",
   "execution_count": 5,
   "id": "c9127980-4be1-4433-90ba-df82c9f5b568",
   "metadata": {},
   "outputs": [
    {
     "name": "stderr",
     "output_type": "stream",
     "text": [
      "                                                                                \r"
     ]
    },
    {
     "data": {
      "text/plain": [
       "15659449"
      ]
     },
     "execution_count": 5,
     "metadata": {},
     "output_type": "execute_result"
    }
   ],
   "source": [
    "df.count()"
   ]
  },
  {
   "cell_type": "markdown",
   "id": "0ae22110-8f75-467c-9e2e-f3b9c0ae14c8",
   "metadata": {},
   "source": [
    "### Show the first five rows"
   ]
  },
  {
   "cell_type": "code",
   "execution_count": 6,
   "id": "ea936926-d213-4216-be72-773fc3ddf759",
   "metadata": {},
   "outputs": [
    {
     "name": "stdout",
     "output_type": "stream",
     "text": [
      "+------------------+------------+--------------------+-----------------+---------------+---------+-----------+----------+------------+------------+-----------+----------+-----------+-----------+-------------+-------------+-----+--------+---------------+-----------+---------------+-------------+-----------------+--------------+-----------------+------------+------------+\n",
      "|ADDRESS_DETAIL_PID|DATE_CREATED|       ADDRESS_LABEL|ADDRESS_SITE_NAME|  BUILDING_NAME|FLAT_TYPE|FLAT_NUMBER|LEVEL_TYPE|LEVEL_NUMBER|NUMBER_FIRST|NUMBER_LAST|LOT_NUMBER|STREET_NAME|STREET_TYPE|STREET_SUFFIX|LOCALITY_NAME|STATE|POSTCODE|LEGAL_PARCEL_ID|    MB_CODE|ALIAS_PRINCIPAL|PRINCIPAL_PID|PRIMARY_SECONDARY|   PRIMARY_PID|     GEOCODE_TYPE|   LONGITUDE|    LATITUDE|\n",
      "+------------------+------------+--------------------+-----------------+---------------+---------+-----------+----------+------------+------------+-----------+----------+-----------+-----------+-------------+-------------+-----+--------+---------------+-----------+---------------+-------------+-----------------+--------------+-----------------+------------+------------+\n",
      "|    GATAS702553725|  15-02-2005|UNIT 2 50 PRINCES...|             NULL|           NULL|     UNIT|          2|      NULL|        NULL|          50|       NULL|      NULL|    PRINCES|     STREET|         NULL|    SANDY BAY|  TAS|    7005|        37014/1|60059230000|      PRINCIPAL|         NULL|        SECONDARY|GATAS702332412|PROPERTY CENTROID|147.32265805|-42.89734575|\n",
      "|    GATAS702448146|  13-10-2017|UNIT 22 113 CHAPE...|             NULL|           NULL|     UNIT|         22|      NULL|        NULL|         113|       NULL|      NULL|     CHAPEL|     STREET|         NULL|    GLENORCHY|  TAS|    7010|       237114/2|60054370000|      PRINCIPAL|         NULL|        SECONDARY|GATAS702211395|PROPERTY CENTROID| 147.2654763|-42.84005781|\n",
      "|    GATAS702765642|  23-04-2018|UNIT 3 2-6 PINKAR...|             NULL|           NULL|     UNIT|          3|      NULL|        NULL|           2|          6|      NULL|    PINKARD|     STREET|         NULL|KINGS MEADOWS|  TAS|    7249|        42688/3|60089930000|      PRINCIPAL|         NULL|        SECONDARY|GATAS702318480|BUILDING CENTROID|147.16425791|-41.47229116|\n",
      "|    GATAS717990791|  08-04-2011|PIERMONT RESORT U...|             NULL|PIERMONT RESORT|     UNIT|          9|      NULL|        NULL|       12990|       NULL|      NULL|     TASMAN|    HIGHWAY|         NULL|      SWANSEA|  TAS|    7190|       139010/9|60049060000|      PRINCIPAL|         NULL|        SECONDARY|GATAS717840912|PROPERTY CENTROID|148.07629134| -42.1557993|\n",
      "|    GATAS702391018|  13-10-2017|UNIT 1 5A ALMA ST...|             NULL|           NULL|     UNIT|          1|      NULL|        NULL|          5A|       NULL|      NULL|       ALMA|     STREET|         NULL|    BELLERIVE|  TAS|    7018|        10355/1|60032520000|      PRINCIPAL|         NULL|        SECONDARY|GATAS702186729|PROPERTY CENTROID|147.37119623|-42.87202074|\n",
      "+------------------+------------+--------------------+-----------------+---------------+---------+-----------+----------+------------+------------+-----------+----------+-----------+-----------+-------------+-------------+-----+--------+---------------+-----------+---------------+-------------+-----------------+--------------+-----------------+------------+------------+\n",
      "only showing top 5 rows\n",
      "\n"
     ]
    },
    {
     "name": "stderr",
     "output_type": "stream",
     "text": [
      "25/03/04 22:42:09 WARN SparkStringUtils: Truncated the string representation of a plan since it was too large. This behavior can be adjusted by setting 'spark.sql.debug.maxToStringFields'.\n",
      "25/03/04 22:42:11 WARN GarbageCollectionMetrics: To enable non-built-in garbage collector(s) List(G1 Concurrent GC), users should configure it(them) to spark.eventLog.gcMetrics.youngGenerationGarbageCollectors or spark.eventLog.gcMetrics.oldGenerationGarbageCollectors\n"
     ]
    }
   ],
   "source": [
    "df.show(5)"
   ]
  },
  {
   "cell_type": "markdown",
   "id": "654f217f-d953-41bc-bcbd-45c110772e85",
   "metadata": {},
   "source": [
    "### How many addresses for each postcode?"
   ]
  },
  {
   "cell_type": "code",
   "execution_count": 7,
   "id": "a50afad4-179a-4e28-bef9-748ca364e987",
   "metadata": {},
   "outputs": [
    {
     "name": "stderr",
     "output_type": "stream",
     "text": [
      "[Stage 5:====================================================>    (22 + 2) / 24]\r"
     ]
    },
    {
     "name": "stdout",
     "output_type": "stream",
     "text": [
      "+--------+------+\n",
      "|POSTCODE| count|\n",
      "+--------+------+\n",
      "|    3000|118720|\n",
      "|    4350| 72025|\n",
      "|    3029| 69749|\n",
      "|    2000| 62767|\n",
      "|    2170| 59867|\n",
      "|    3064| 56874|\n",
      "|    3030| 55812|\n",
      "|    4870| 53134|\n",
      "|    4217| 52100|\n",
      "|    4670| 51676|\n",
      "+--------+------+\n",
      "only showing top 10 rows\n",
      "\n"
     ]
    },
    {
     "name": "stderr",
     "output_type": "stream",
     "text": [
      "                                                                                \r"
     ]
    }
   ],
   "source": [
    "(\n",
    "    df\n",
    "    .groupBy(\"POSTCODE\")\n",
    "    .count()\n",
    "    .orderBy(\"count\", ascending=False)\n",
    "    .show(10)\n",
    ")"
   ]
  },
  {
   "cell_type": "markdown",
   "id": "c39eefab-900c-424f-8aa3-4a85c8166999",
   "metadata": {},
   "source": [
    "### Select the main components of the addresses and show the first five rows"
   ]
  },
  {
   "cell_type": "code",
   "execution_count": 8,
   "id": "66ed68e8-116f-4171-a390-4366e228d9ae",
   "metadata": {},
   "outputs": [
    {
     "name": "stdout",
     "output_type": "stream",
     "text": [
      "+------------------+------------+-----------+-----------+-------------+-----+--------+------------+------------+\n",
      "|ADDRESS_DETAIL_PID|NUMBER_FIRST|STREET_NAME|STREET_TYPE|LOCALITY_NAME|STATE|POSTCODE|    LATITUDE|   LONGITUDE|\n",
      "+------------------+------------+-----------+-----------+-------------+-----+--------+------------+------------+\n",
      "|    GATAS702553725|          50|    PRINCES|     STREET|    SANDY BAY|  TAS|    7005|-42.89734575|147.32265805|\n",
      "|    GATAS702448146|         113|     CHAPEL|     STREET|    GLENORCHY|  TAS|    7010|-42.84005781| 147.2654763|\n",
      "|    GATAS702765642|           2|    PINKARD|     STREET|KINGS MEADOWS|  TAS|    7249|-41.47229116|147.16425791|\n",
      "|    GATAS717990791|       12990|     TASMAN|    HIGHWAY|      SWANSEA|  TAS|    7190| -42.1557993|148.07629134|\n",
      "|    GATAS702391018|          5A|       ALMA|     STREET|    BELLERIVE|  TAS|    7018|-42.87202074|147.37119623|\n",
      "+------------------+------------+-----------+-----------+-------------+-----+--------+------------+------------+\n",
      "only showing top 5 rows\n",
      "\n"
     ]
    }
   ],
   "source": [
    "(\n",
    "    df\n",
    "    .select(\n",
    "        'ADDRESS_DETAIL_PID', \n",
    "        'NUMBER_FIRST', \n",
    "        'STREET_NAME', \n",
    "        'STREET_TYPE', \n",
    "        'LOCALITY_NAME', \n",
    "        'STATE', \n",
    "        'POSTCODE', \n",
    "        'LATITUDE', \n",
    "        'LONGITUDE')\n",
    "    .show(5)\n",
    ")"
   ]
  },
  {
   "cell_type": "markdown",
   "id": "08a44333-259a-4d3e-938d-9dedcfe93ea0",
   "metadata": {},
   "source": [
    "### How many addresses are there in South Australia?"
   ]
  },
  {
   "cell_type": "code",
   "execution_count": 9,
   "id": "e4948e83-8c3f-4423-a53e-99a075a9a62f",
   "metadata": {},
   "outputs": [
    {
     "name": "stderr",
     "output_type": "stream",
     "text": [
      "                                                                                \r"
     ]
    },
    {
     "data": {
      "text/plain": [
       "1145456"
      ]
     },
     "execution_count": 9,
     "metadata": {},
     "output_type": "execute_result"
    }
   ],
   "source": [
    "df.filter(df.STATE == \"SA\").count()"
   ]
  }
 ],
 "metadata": {
  "kernelspec": {
   "display_name": "pyspark_experiments",
   "language": "python",
   "name": "pyspark_experiments"
  },
  "language_info": {
   "codemirror_mode": {
    "name": "ipython",
    "version": 3
   },
   "file_extension": ".py",
   "mimetype": "text/x-python",
   "name": "python",
   "nbconvert_exporter": "python",
   "pygments_lexer": "ipython3",
   "version": "3.12.2"
  }
 },
 "nbformat": 4,
 "nbformat_minor": 5
}
