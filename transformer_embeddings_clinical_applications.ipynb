{
 "cells": [
  {
   "cell_type": "markdown",
   "id": "f1c5ec11-ced8-4740-b89c-65fdd248eeb9",
   "metadata": {},
   "source": [
    "# Transformer embeddings for clinical NLP\n",
    "\n",
    "10 05 24\n",
    "\n",
    "----\n",
    "\n",
    "## Objective:\n",
    "\n",
    "- Develop a set of embeddings that is suitable for clinical record linkage, for example identifying which pathology test result names are the same, including the use of abbreviations\n",
    "\n",
    "## References:\n",
    "\n",
    "Clinical abbreviation datasets\n",
    "- https://www.nature.com/articles/s41597-021-00929-4\n",
    "- https://github.com/lisavirginia/clinical-abbreviations\n",
    "\n",
    "Fine-tuning transformers (HuggingFace)\n",
    "- https://huggingface.co/blog/how-to-train-sentence-transformers"
   ]
  },
  {
   "cell_type": "code",
   "execution_count": 3,
   "id": "8eef90c2-57c3-4544-8164-d38fbcf57dbe",
   "metadata": {},
   "outputs": [],
   "source": [
    "import pandas as pd\n",
    "import numpy as np\n",
    "import polars as pl\n",
    "\n",
    "from os import listdir\n",
    "\n",
    "import matplotlib.pyplot as plt\n",
    "import seaborn as sns\n",
    "\n",
    "from sentence_transformers import SentenceTransformer, models\n",
    "from datasets import load_dataset\n",
    "from sentence_transformers import InputExample\n",
    "from torch.utils.data import DataLoader\n",
    "from sentence_transformers import losses\n",
    "\n",
    "sns.set()\n",
    "%matplotlib inline"
   ]
  },
  {
   "cell_type": "markdown",
   "id": "a4d76c16-9212-40c7-b6c4-d3f7e1887349",
   "metadata": {},
   "source": [
    "## Data sources: Load and clean\n",
    "\n",
    "Using the clinical abbreviations datasets mentioned in the references"
   ]
  },
  {
   "cell_type": "code",
   "execution_count": 6,
   "id": "01342beb-bed4-45e0-8cc6-ee1475f2af46",
   "metadata": {},
   "outputs": [],
   "source": [
    "source_folder = '/Users/alexlee/Desktop/Data/clinical/clinical_abbreviations/'"
   ]
  },
  {
   "cell_type": "code",
   "execution_count": 7,
   "id": "92ec3512-5f94-4313-a710-c3a0eb2c8b73",
   "metadata": {},
   "outputs": [],
   "source": [
    "filenames = listdir(source_folder)"
   ]
  },
  {
   "cell_type": "code",
   "execution_count": 34,
   "id": "77bb7c84-fbfb-4235-ae26-dc3c144ccfd5",
   "metadata": {},
   "outputs": [],
   "source": [
    "df1 = (\n",
    "    pd\n",
    "    .read_csv(f'{source_folder}/{filenames[0]}', sep='=', header=None, names=['abbreviation', 'sense'])\n",
    "    .assign(abbreviation=lambda df_: df_.abbreviation.str.strip(), \n",
    "            sense=lambda df_: df_.sense.str.strip())\n",
    ")"
   ]
  },
  {
   "cell_type": "code",
   "execution_count": 36,
   "id": "a5e7f2e4-1311-4021-abe6-cc367871ce95",
   "metadata": {},
   "outputs": [],
   "source": [
    "df2 = (\n",
    "    pd\n",
    "    .read_csv(f'{source_folder}/{filenames[1]}', sep='\\t', header=None, names=['abbreviation', 'sense', 'similarity'])\n",
    "    .assign(abbreviation=lambda df_: df_.abbreviation.str.strip(), \n",
    "            sense=lambda df_: df_.sense.str.strip())\n",
    ")"
   ]
  },
  {
   "cell_type": "code",
   "execution_count": 45,
   "id": "20677ba6-219f-423b-b62e-0425f5af8a33",
   "metadata": {},
   "outputs": [],
   "source": [
    "df3 = (\n",
    "    pd\n",
    "    .read_csv(f'{source_folder}/{filenames[2]}', sep=',', names=['abbreviation', 'sense'])\n",
    "    .assign(abbreviation=lambda df_: df_.abbreviation.str.strip(), \n",
    "            sense=lambda df_: df_.sense.str.strip())\n",
    ")"
   ]
  },
  {
   "cell_type": "code",
   "execution_count": 49,
   "id": "fb617f8f-4f4d-422d-b2f8-dde3c47b1ff7",
   "metadata": {},
   "outputs": [],
   "source": [
    "df4 = (\n",
    "    pd\n",
    "    .read_csv(f'{source_folder}/vanderbilt_clinic_notes.txt', sep='\\t')\n",
    "    .assign(abbreviation=lambda df_: df_.abbreviation.str.strip(), \n",
    "            sense=lambda df_: df_.sense.str.strip())\n",
    ") "
   ]
  },
  {
   "cell_type": "code",
   "execution_count": 51,
   "id": "39a07ad4-65c1-4a0b-be09-628eeb8822a2",
   "metadata": {},
   "outputs": [],
   "source": [
    "df5 = (\n",
    "    pd\n",
    "    .read_csv(f'{source_folder}/vanderbilt_discharge_sums.txt', sep='\\t')\n",
    "    .assign(abbreviation=lambda df_: df_.abbreviation.str.strip(), \n",
    "            sense=lambda df_: df_.sense.str.strip())\n",
    ") "
   ]
  },
  {
   "cell_type": "code",
   "execution_count": 71,
   "id": "6821144e-ef84-4acc-b4eb-61d8440b042f",
   "metadata": {},
   "outputs": [],
   "source": [
    "df_all = pd.concat([df1, df2, df3, df4, df4])"
   ]
  },
  {
   "cell_type": "code",
   "execution_count": 79,
   "id": "0320a0a5-8340-4077-a393-372420726c39",
   "metadata": {},
   "outputs": [],
   "source": [
    "df_all = (\n",
    "    df_all\n",
    "    .loc[:, ['abbreviation', 'sense']]\n",
    "    .drop_duplicates()\n",
    "    .sort_values(by=['abbreviation'])\n",
    "    .query('abbreviation.isnull() == False')\n",
    "    .query('sense.isnull() == False')\n",
    "    .reset_index()\n",
    "    .iloc[:, 1:]\n",
    ")\n",
    "\n",
    "# training data\n",
    "train_data = df_all.values"
   ]
  },
  {
   "cell_type": "markdown",
   "id": "91738bcb-1be3-4bd1-9895-f15bf33b71a3",
   "metadata": {},
   "source": [
    "## Load model"
   ]
  },
  {
   "cell_type": "code",
   "execution_count": 76,
   "id": "9c5ab696-7c48-4c64-9ab6-c83038795a96",
   "metadata": {},
   "outputs": [
    {
     "name": "stderr",
     "output_type": "stream",
     "text": [
      "/Users/alexlee/Desktop/Coding/transformers/.venv/lib/python3.12/site-packages/huggingface_hub/file_download.py:1132: FutureWarning: `resume_download` is deprecated and will be removed in version 1.0.0. Downloads always resume when possible. If you want to force a new download, use `force_download=True`.\n",
      "  warnings.warn(\n"
     ]
    }
   ],
   "source": [
    "## Step 1: use an existing language model\n",
    "word_embedding_model = models.Transformer('distilroberta-base')"
   ]
  },
  {
   "cell_type": "code",
   "execution_count": 77,
   "id": "0f31a092-1c66-4588-9e3b-a3a37f326f4f",
   "metadata": {},
   "outputs": [],
   "source": [
    "## Step 2: use a pool function over the token embeddings\n",
    "pooling_model = models.Pooling(word_embedding_model.get_word_embedding_dimension())\n",
    "\n",
    "## Join steps 1 and 2 using the modules argument\n",
    "model = SentenceTransformer(modules=[word_embedding_model, pooling_model])"
   ]
  },
  {
   "cell_type": "markdown",
   "id": "15a0b80f-df4b-4944-a551-58b82280b329",
   "metadata": {},
   "source": [
    "## Create dataloader object"
   ]
  },
  {
   "cell_type": "code",
   "execution_count": 86,
   "id": "b04b295d-d842-4ad8-8047-d05d95e8c7e5",
   "metadata": {},
   "outputs": [],
   "source": [
    "train_examples = []\n",
    "\n",
    "n_examples = len(train_data)\n",
    "\n",
    "# convert each of the examples \n",
    "for i in range(n_examples):\n",
    "  example = train_data[i]\n",
    "  train_examples.append(InputExample(texts=[example[0], example[1]]))"
   ]
  },
  {
   "cell_type": "code",
   "execution_count": 91,
   "id": "4b3ee13f-1f5e-45fc-8648-9dbff15537b1",
   "metadata": {},
   "outputs": [],
   "source": [
    "train_dataloader = DataLoader(train_examples, shuffle=True, batch_size=16)"
   ]
  },
  {
   "cell_type": "markdown",
   "id": "cccc21ef-ed6c-4f10-95f3-9fb14d903e68",
   "metadata": {},
   "source": [
    "## Loss function\n",
    "\n",
    "Use **MultipleNegativesRankingLoss** since our training data consists of pairs of similar strings"
   ]
  },
  {
   "cell_type": "code",
   "execution_count": 92,
   "id": "9c58a07c-17d9-4245-8752-2d150e7286b4",
   "metadata": {},
   "outputs": [],
   "source": [
    "train_loss = losses.MultipleNegativesRankingLoss(model=model)"
   ]
  },
  {
   "cell_type": "markdown",
   "id": "3332953c-f69c-4d21-b97b-462e09abea13",
   "metadata": {},
   "source": [
    "## Fine-tuning"
   ]
  },
  {
   "cell_type": "code",
   "execution_count": 93,
   "id": "0542a1f8-543d-4fc0-be89-7aca56dd7d7e",
   "metadata": {},
   "outputs": [
    {
     "data": {
      "application/vnd.jupyter.widget-view+json": {
       "model_id": "96657ecdfe734d3696cf3c6969e8c2a1",
       "version_major": 2,
       "version_minor": 0
      },
      "text/plain": [
       "Epoch:   0%|          | 0/10 [00:00<?, ?it/s]"
      ]
     },
     "metadata": {},
     "output_type": "display_data"
    },
    {
     "data": {
      "application/vnd.jupyter.widget-view+json": {
       "model_id": "9a985e19b9d240c3bd0209bf8ad78ee0",
       "version_major": 2,
       "version_minor": 0
      },
      "text/plain": [
       "Iteration:   0%|          | 0/992 [00:00<?, ?it/s]"
      ]
     },
     "metadata": {},
     "output_type": "display_data"
    },
    {
     "data": {
      "application/vnd.jupyter.widget-view+json": {
       "model_id": "37beaae6cfbc44c0b37b9faecfd6436e",
       "version_major": 2,
       "version_minor": 0
      },
      "text/plain": [
       "Iteration:   0%|          | 0/992 [00:00<?, ?it/s]"
      ]
     },
     "metadata": {},
     "output_type": "display_data"
    },
    {
     "data": {
      "application/vnd.jupyter.widget-view+json": {
       "model_id": "c9e56b13ec0b49689a3d561a218e5a67",
       "version_major": 2,
       "version_minor": 0
      },
      "text/plain": [
       "Iteration:   0%|          | 0/992 [00:00<?, ?it/s]"
      ]
     },
     "metadata": {},
     "output_type": "display_data"
    },
    {
     "data": {
      "application/vnd.jupyter.widget-view+json": {
       "model_id": "8b6de5fe08b641ea869b1de2553a357d",
       "version_major": 2,
       "version_minor": 0
      },
      "text/plain": [
       "Iteration:   0%|          | 0/992 [00:00<?, ?it/s]"
      ]
     },
     "metadata": {},
     "output_type": "display_data"
    },
    {
     "data": {
      "application/vnd.jupyter.widget-view+json": {
       "model_id": "f16b1c93730443b4990e2896b366ce2c",
       "version_major": 2,
       "version_minor": 0
      },
      "text/plain": [
       "Iteration:   0%|          | 0/992 [00:00<?, ?it/s]"
      ]
     },
     "metadata": {},
     "output_type": "display_data"
    },
    {
     "data": {
      "application/vnd.jupyter.widget-view+json": {
       "model_id": "9dcd55c104204bf78e4f7143a04321ee",
       "version_major": 2,
       "version_minor": 0
      },
      "text/plain": [
       "Iteration:   0%|          | 0/992 [00:00<?, ?it/s]"
      ]
     },
     "metadata": {},
     "output_type": "display_data"
    },
    {
     "data": {
      "application/vnd.jupyter.widget-view+json": {
       "model_id": "801a14700f28422cb91cdee5fce1b872",
       "version_major": 2,
       "version_minor": 0
      },
      "text/plain": [
       "Iteration:   0%|          | 0/992 [00:00<?, ?it/s]"
      ]
     },
     "metadata": {},
     "output_type": "display_data"
    },
    {
     "data": {
      "application/vnd.jupyter.widget-view+json": {
       "model_id": "9b36b218efdc4e55b7ee09425134b892",
       "version_major": 2,
       "version_minor": 0
      },
      "text/plain": [
       "Iteration:   0%|          | 0/992 [00:00<?, ?it/s]"
      ]
     },
     "metadata": {},
     "output_type": "display_data"
    },
    {
     "data": {
      "application/vnd.jupyter.widget-view+json": {
       "model_id": "63bf01ea88e843d78ea9de23ffe675ac",
       "version_major": 2,
       "version_minor": 0
      },
      "text/plain": [
       "Iteration:   0%|          | 0/992 [00:00<?, ?it/s]"
      ]
     },
     "metadata": {},
     "output_type": "display_data"
    },
    {
     "data": {
      "application/vnd.jupyter.widget-view+json": {
       "model_id": "8f04348b8c4a49198a07552285992f3e",
       "version_major": 2,
       "version_minor": 0
      },
      "text/plain": [
       "Iteration:   0%|          | 0/992 [00:00<?, ?it/s]"
      ]
     },
     "metadata": {},
     "output_type": "display_data"
    }
   ],
   "source": [
    "model.fit(train_objectives=[(train_dataloader, train_loss)], epochs=10) "
   ]
  },
  {
   "cell_type": "code",
   "execution_count": 94,
   "id": "45886e33-2fb2-48bf-8af2-b524599fc5fd",
   "metadata": {},
   "outputs": [],
   "source": [
    "model.save('clinical_embeddings_100524')"
   ]
  },
  {
   "cell_type": "markdown",
   "id": "2fcd7a55-e9c8-431c-a844-e1b859eaba54",
   "metadata": {},
   "source": [
    "## Evaluation"
   ]
  },
  {
   "cell_type": "code",
   "execution_count": 137,
   "id": "c5536bb9-3955-4bf0-8c3f-2d39f284353b",
   "metadata": {},
   "outputs": [],
   "source": [
    "# initially inspecting some of the matches\n",
    "texts = ['sob', \n",
    "         'shortness of breath', \n",
    "         'hbg', \n",
    "         'plt', \n",
    "         'bilirubin', \n",
    "         'haemoglobin', \n",
    "         'platelets', \n",
    "         'alp', \n",
    "         'alkaline phosphatase', \n",
    "         'hb', 'hb.', 'plt.', 'plat', 's.o.b', 'sob on arrival']"
   ]
  },
  {
   "cell_type": "code",
   "execution_count": 138,
   "id": "be1a8ca8-b700-4c04-ba1a-075bd5c40c8a",
   "metadata": {},
   "outputs": [],
   "source": [
    "texts_emb = model.encode(texts)"
   ]
  },
  {
   "cell_type": "code",
   "execution_count": 139,
   "id": "1c6ecf8b-4f39-41f6-b3e1-94e86b3f464b",
   "metadata": {},
   "outputs": [],
   "source": [
    "s1 = []\n",
    "s2 = []\n",
    "scores = []\n",
    "\n",
    "for n in range(len(texts)):\n",
    "    for m in range(len(texts)):\n",
    "        s1.append(texts[n])\n",
    "        s2.append(texts[m])\n",
    "        score = texts_emb[n].dot(texts_emb[m].T)\n",
    "        scores.append(score)"
   ]
  },
  {
   "cell_type": "code",
   "execution_count": 140,
   "id": "cb8e1b1d-2087-4865-b6d2-b421418fa62e",
   "metadata": {},
   "outputs": [],
   "source": [
    "df = pd.DataFrame(data={'text1': s1, \n",
    "                        'text2': s2, \n",
    "                        'similarity': scores})"
   ]
  },
  {
   "cell_type": "code",
   "execution_count": 142,
   "id": "d174f00a-33ab-4193-afe0-8873388300ce",
   "metadata": {},
   "outputs": [],
   "source": [
    "query = 'sob on arrival'"
   ]
  },
  {
   "cell_type": "code",
   "execution_count": 143,
   "id": "f527a888-e6fa-40a5-8b82-4a593a4d72cb",
   "metadata": {},
   "outputs": [
    {
     "data": {
      "text/html": [
       "<div>\n",
       "<style scoped>\n",
       "    .dataframe tbody tr th:only-of-type {\n",
       "        vertical-align: middle;\n",
       "    }\n",
       "\n",
       "    .dataframe tbody tr th {\n",
       "        vertical-align: top;\n",
       "    }\n",
       "\n",
       "    .dataframe thead th {\n",
       "        text-align: right;\n",
       "    }\n",
       "</style>\n",
       "<table border=\"1\" class=\"dataframe\">\n",
       "  <thead>\n",
       "    <tr style=\"text-align: right;\">\n",
       "      <th></th>\n",
       "      <th>text1</th>\n",
       "      <th>text2</th>\n",
       "      <th>similarity</th>\n",
       "    </tr>\n",
       "  </thead>\n",
       "  <tbody>\n",
       "    <tr>\n",
       "      <th>224</th>\n",
       "      <td>sob on arrival</td>\n",
       "      <td>sob on arrival</td>\n",
       "      <td>266.899292</td>\n",
       "    </tr>\n",
       "    <tr>\n",
       "      <th>210</th>\n",
       "      <td>sob on arrival</td>\n",
       "      <td>sob</td>\n",
       "      <td>183.777115</td>\n",
       "    </tr>\n",
       "    <tr>\n",
       "      <th>211</th>\n",
       "      <td>sob on arrival</td>\n",
       "      <td>shortness of breath</td>\n",
       "      <td>130.903046</td>\n",
       "    </tr>\n",
       "    <tr>\n",
       "      <th>223</th>\n",
       "      <td>sob on arrival</td>\n",
       "      <td>s.o.b</td>\n",
       "      <td>107.093262</td>\n",
       "    </tr>\n",
       "    <tr>\n",
       "      <th>215</th>\n",
       "      <td>sob on arrival</td>\n",
       "      <td>haemoglobin</td>\n",
       "      <td>45.915550</td>\n",
       "    </tr>\n",
       "    <tr>\n",
       "      <th>214</th>\n",
       "      <td>sob on arrival</td>\n",
       "      <td>bilirubin</td>\n",
       "      <td>27.788834</td>\n",
       "    </tr>\n",
       "    <tr>\n",
       "      <th>218</th>\n",
       "      <td>sob on arrival</td>\n",
       "      <td>alkaline phosphatase</td>\n",
       "      <td>15.709982</td>\n",
       "    </tr>\n",
       "    <tr>\n",
       "      <th>219</th>\n",
       "      <td>sob on arrival</td>\n",
       "      <td>hb</td>\n",
       "      <td>14.771133</td>\n",
       "    </tr>\n",
       "    <tr>\n",
       "      <th>220</th>\n",
       "      <td>sob on arrival</td>\n",
       "      <td>hb.</td>\n",
       "      <td>8.055744</td>\n",
       "    </tr>\n",
       "    <tr>\n",
       "      <th>217</th>\n",
       "      <td>sob on arrival</td>\n",
       "      <td>alp</td>\n",
       "      <td>-5.120555</td>\n",
       "    </tr>\n",
       "    <tr>\n",
       "      <th>212</th>\n",
       "      <td>sob on arrival</td>\n",
       "      <td>hbg</td>\n",
       "      <td>-10.904447</td>\n",
       "    </tr>\n",
       "    <tr>\n",
       "      <th>222</th>\n",
       "      <td>sob on arrival</td>\n",
       "      <td>plat</td>\n",
       "      <td>-18.356281</td>\n",
       "    </tr>\n",
       "    <tr>\n",
       "      <th>216</th>\n",
       "      <td>sob on arrival</td>\n",
       "      <td>platelets</td>\n",
       "      <td>-39.142982</td>\n",
       "    </tr>\n",
       "    <tr>\n",
       "      <th>221</th>\n",
       "      <td>sob on arrival</td>\n",
       "      <td>plt.</td>\n",
       "      <td>-47.600090</td>\n",
       "    </tr>\n",
       "    <tr>\n",
       "      <th>213</th>\n",
       "      <td>sob on arrival</td>\n",
       "      <td>plt</td>\n",
       "      <td>-53.838760</td>\n",
       "    </tr>\n",
       "  </tbody>\n",
       "</table>\n",
       "</div>"
      ],
      "text/plain": [
       "              text1                 text2  similarity\n",
       "224  sob on arrival        sob on arrival  266.899292\n",
       "210  sob on arrival                   sob  183.777115\n",
       "211  sob on arrival   shortness of breath  130.903046\n",
       "223  sob on arrival                 s.o.b  107.093262\n",
       "215  sob on arrival           haemoglobin   45.915550\n",
       "214  sob on arrival             bilirubin   27.788834\n",
       "218  sob on arrival  alkaline phosphatase   15.709982\n",
       "219  sob on arrival                    hb   14.771133\n",
       "220  sob on arrival                   hb.    8.055744\n",
       "217  sob on arrival                   alp   -5.120555\n",
       "212  sob on arrival                   hbg  -10.904447\n",
       "222  sob on arrival                  plat  -18.356281\n",
       "216  sob on arrival             platelets  -39.142982\n",
       "221  sob on arrival                  plt.  -47.600090\n",
       "213  sob on arrival                   plt  -53.838760"
      ]
     },
     "execution_count": 143,
     "metadata": {},
     "output_type": "execute_result"
    }
   ],
   "source": [
    "df.query(f'text1 == \"{query}\"').sort_values(by='similarity', ascending=False)"
   ]
  },
  {
   "cell_type": "code",
   "execution_count": null,
   "id": "2658cf0d-34f7-4f46-8098-9ad56b4544f5",
   "metadata": {},
   "outputs": [],
   "source": []
  }
 ],
 "metadata": {
  "kernelspec": {
   "display_name": "hf_experiments",
   "language": "python",
   "name": "hf_experiments"
  },
  "language_info": {
   "codemirror_mode": {
    "name": "ipython",
    "version": 3
   },
   "file_extension": ".py",
   "mimetype": "text/x-python",
   "name": "python",
   "nbconvert_exporter": "python",
   "pygments_lexer": "ipython3",
   "version": "3.12.3"
  }
 },
 "nbformat": 4,
 "nbformat_minor": 5
}
